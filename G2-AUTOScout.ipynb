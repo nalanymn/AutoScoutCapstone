{
 "cells": [
  {
   "cell_type": "markdown",
   "metadata": {
    "id": "Bkw3_pB0s1L-"
   },
   "source": [
    "___\n",
    "\n",
    "<p style=\"text-align: center;\"><img src=\"https://docs.google.com/uc?id=1lY0Uj5R04yMY3-ZppPWxqCr5pvBLYPnV\" class=\"img-fluid\" \n",
    "alt=\"CLRSWY\"></p>\n",
    "\n",
    "## <p style=\"background-color:#FDFEFE; font-family:newtimeroman; color:#9d4f8c; font-size:100%; text-align:center; border-radius:10px 10px;\">WAY TO REINVENT YOURSELF</p>\n",
    "\n",
    "## <p style=\"background-color:#FDFEFE; font-family:newtimeroman; color:#060108; font-size:200%; text-align:center; border-radius:10px 10px;\">DA & DVwPY</p>\n",
    "\n",
    "## <p style=\"background-color:#FDFEFE; font-family:newtimeroman; color:#060108; font-size:200%; text-align:center; border-radius:10px 10px;\">The Exploratory Data Analysis (EDA) Project</p>\n",
    "\n",
    "<img src=https://i.ibb.co/wJW61Y2/Used-cars.jpg width=\"700\" height=\"200\">\n",
    "\n",
    "## <p style=\"background-color:#FDFEFE; font-family:newtimeroman; color:#060108; font-size:200%; text-align:center; border-radius:10px 10px;\">AutoScout Car Price Prediction EDA</p>\n",
    "\n"
   ]
  },
  {
   "cell_type": "markdown",
   "metadata": {
    "id": "Z_oWczxZs1MA"
   },
   "source": [
    "## Introduction\n",
    "Welcome to \"***AutoScout Exploratory Data Analysis (EDA) Project***\". This is the project of completing ***Data Analysis & Data Visualization*** Courses and a successful hand-over is mandatory for getting certification for both courses. **Auto Scout** data used in this project scraped from the Website of an online car trading company in 2022, and contains many features of 13 different car makes including 594 models. In this project, you will have the opportunity to apply many commonly used algorithms for Data Cleaning and Exploratory Data Analysis by using a variety of Python libraries, such as Numpy, Pandas, Matplotlib, Seaborn, Scipy, and then you will get a clean dataset for your analysis and pretictive modelling in Machine Learning Path. So you will have the chance to use all the skills you have already learned in the Data Analysis and Visualization courses.\n",
    "\n",
    "**``In this context, the project consists of 3 parts in general:``**\n",
    "* **The first part** is related to ``'Data Cleaning'``. It deals with Incorrect Headers, Incorrect Format, Anomalies, and Dropping useless columns.\n",
    "* **The second part** is related to ``'Filling Data'``, in other words 'Imputation'. It deals with Missing Values. Categorical to numeric transformation, Encoding, is done as well.\n",
    "* **The third part** is related to ``'Handling Outliers of Data'`` via Visualization libraries. So, some insights will be extracted.\n",
    "\n",
    "**``SPECIAL NOTE:``**  However, you are ``free to create your own style``. You do ``NOT`` have to stick to the steps above. Nevertheless, we, the DA & DV instructors, recommend you study each part separately to create a source notebook for your further studies. \n",
    "\n",
    "In order to build your Portfolio in terms of the GitHub account, you need to push your solution file up to your own repository.\n",
    "\n",
    "Please after solving the task, commit your notebook to GitHub and submit its link to LMS page where the project is settled down.\n",
    "\n",
    "**BE NOTED:** Please ``DO NOT FORGET`` to click the submit button.\n",
    "\n",
    "### Some Reminders on Exploratory data analysis (EDA)\n",
    "\n",
    "Exploratory data analysis (EDA) is an especially important activity in the routine of a data analyst or scientist. It enables an in depth understanding of the dataset, define or discard hypotheses and create predictive models on a solid basis. It uses data manipulation techniques and several statistical tools to describe and understand the relationship between variables and how these can impact business. By means of EDA, we can obtain meaningful insights that can impact analysis under the following questions (If a checklist is good enough for pilots to use every flight, it’s good enough for data scientists to use with every dataset).\n",
    "1. What question are you trying to solve (or prove wrong)?\n",
    "2. What kind of data do you have?\n",
    "3. What’s missing from the data?\n",
    "4. Where are the outliers?\n",
    "5. How can you add, change or remove features to get more out of your data?\n",
    "\n",
    "**``Exploratory data analysis (EDA)``** is often an **iterative brainstorming process** where you pose a question, review the data, and develop further questions to investigate before beginning model development work. The image below shows how the brainstorming phase is connected with that of understanding the variables and how this in turn is connected again with the brainstorming phase.<br>\n",
    "\n",
    "<img src=https://i.ibb.co/k0MC950/EDA-Process.png width=\"300\" height=\"100\">\n",
    "\n",
    "[Image Credit: Andrew D.](https://towardsdatascience.com/exploratory-data-analysis-in-python-a-step-by-step-process-d0dfa6bf94ee)\n",
    "\n"
   ]
  },
  {
   "cell_type": "markdown",
   "metadata": {
    "id": "vvgJ5KWTs1MB"
   },
   "source": [
    "# PART- 1 `( Data Cleaning )`"
   ]
  },
  {
   "cell_type": "code",
   "execution_count": 1,
   "metadata": {
    "id": "Y13_gId7s1MC"
   },
   "outputs": [],
   "source": [
    "# Import Pandas\n",
    "import numpy as np\n",
    "import pandas as pd\n",
    "import re \n",
    "\n",
    "# Read the file in JSON format\n",
    "df = pd.read_json('as24_cars.json')\n",
    "\n",
    "# Get rid of disturbing warnings\n",
    "import warnings\n",
    "warnings.filterwarnings('ignore')\n",
    "\n",
    "\n"
   ]
  },
  {
   "cell_type": "code",
   "execution_count": 2,
   "metadata": {},
   "outputs": [
    {
     "data": {
      "text/plain": [
       "['Availability',\n",
       " 'Available from',\n",
       " 'Battery Ownership',\n",
       " 'Body type',\n",
       " 'CO2 efficiency',\n",
       " 'CO2 emissions',\n",
       " 'CO2 emissions WLTP',\n",
       " 'Colour',\n",
       " 'Comfort and Convenience',\n",
       " 'Country version',\n",
       " 'Cylinders',\n",
       " 'Doors',\n",
       " 'Drivetrain',\n",
       " 'Electric Range WLTP',\n",
       " 'Emission class',\n",
       " 'Emissions sticker',\n",
       " 'Empty weight',\n",
       " 'Energy efficiency class',\n",
       " 'Engine size',\n",
       " 'Entertainment and Media',\n",
       " 'Extras',\n",
       " 'First registration',\n",
       " 'Fuel consumption',\n",
       " 'Fuel consumption WLTP',\n",
       " 'Fuel type',\n",
       " 'Full service history',\n",
       " 'Gearbox',\n",
       " 'Gears',\n",
       " 'General inspection',\n",
       " 'Last service',\n",
       " 'Last timing belt change',\n",
       " 'Manufacturer colour',\n",
       " 'Mileage',\n",
       " 'Model code',\n",
       " 'Non-smoker vehicle',\n",
       " 'Offer number',\n",
       " 'Other fuel types',\n",
       " 'Paint',\n",
       " 'Power',\n",
       " 'Power consumption',\n",
       " 'Power consumption WLTP',\n",
       " 'Previous owner',\n",
       " 'Production date',\n",
       " 'Safety and Security',\n",
       " 'Seats',\n",
       " 'Taxi or rental car',\n",
       " 'Type',\n",
       " 'Upholstery',\n",
       " 'Upholstery colour',\n",
       " 'Warranty',\n",
       " 'desc',\n",
       " 'location',\n",
       " 'make',\n",
       " 'make_model',\n",
       " 'model',\n",
       " 'price',\n",
       " 'seller',\n",
       " 'short_description']"
      ]
     },
     "execution_count": 2,
     "metadata": {},
     "output_type": "execute_result"
    }
   ],
   "source": [
    "# It's obvious there are some unwanted characters in the column names. Let's remove the the unwanteds and get a clear versions.\n",
    "# First remove the newline characters\n",
    "df.columns = df.columns.str.strip('\\n')\n",
    "\n",
    "# Convert fancy CO₂ into CO2 \n",
    "df.columns = df.columns.str.replace('CO₂-', 'CO2 ')\n",
    "\n",
    "# Then remove paranthesis\n",
    "df.columns = df.columns.str.replace('\\(', '')\n",
    "df.columns = df.columns.str.replace(')', '')\n",
    "\n",
    "# Fix the Ampersand\n",
    "df.columns = df.columns.str.replace('&', 'and')\n",
    "\n",
    "# Check them again\n",
    "sorted(df)"
   ]
  },
  {
   "cell_type": "code",
   "execution_count": 3,
   "metadata": {},
   "outputs": [
    {
     "data": {
      "text/html": [
       "<div>\n",
       "<style scoped>\n",
       "    .dataframe tbody tr th:only-of-type {\n",
       "        vertical-align: middle;\n",
       "    }\n",
       "\n",
       "    .dataframe tbody tr th {\n",
       "        vertical-align: top;\n",
       "    }\n",
       "\n",
       "    .dataframe thead th {\n",
       "        text-align: right;\n",
       "    }\n",
       "</style>\n",
       "<table border=\"1\" class=\"dataframe\">\n",
       "  <thead>\n",
       "    <tr style=\"text-align: right;\">\n",
       "      <th></th>\n",
       "      <th>make_model</th>\n",
       "      <th>short_description</th>\n",
       "      <th>make</th>\n",
       "      <th>model</th>\n",
       "      <th>location</th>\n",
       "      <th>price</th>\n",
       "      <th>Body type</th>\n",
       "      <th>Type</th>\n",
       "      <th>Doors</th>\n",
       "      <th>Country version</th>\n",
       "      <th>...</th>\n",
       "      <th>CO2 efficiency</th>\n",
       "      <th>Fuel consumption WLTP</th>\n",
       "      <th>CO2 emissions WLTP</th>\n",
       "      <th>Available from</th>\n",
       "      <th>Taxi or rental car</th>\n",
       "      <th>Availability</th>\n",
       "      <th>Last timing belt change</th>\n",
       "      <th>Electric Range WLTP</th>\n",
       "      <th>Power consumption WLTP</th>\n",
       "      <th>Battery Ownership</th>\n",
       "    </tr>\n",
       "  </thead>\n",
       "  <tbody>\n",
       "    <tr>\n",
       "      <th>1785</th>\n",
       "      <td>NaN</td>\n",
       "      <td>NaN</td>\n",
       "      <td>NaN</td>\n",
       "      <td>NaN</td>\n",
       "      <td>NaN</td>\n",
       "      <td>NaN</td>\n",
       "      <td>NaN</td>\n",
       "      <td>NaN</td>\n",
       "      <td>NaN</td>\n",
       "      <td>NaN</td>\n",
       "      <td>...</td>\n",
       "      <td>NaN</td>\n",
       "      <td>NaN</td>\n",
       "      <td>NaN</td>\n",
       "      <td>NaN</td>\n",
       "      <td>NaN</td>\n",
       "      <td>NaN</td>\n",
       "      <td>NaN</td>\n",
       "      <td>NaN</td>\n",
       "      <td>NaN</td>\n",
       "      <td>NaN</td>\n",
       "    </tr>\n",
       "    <tr>\n",
       "      <th>1814</th>\n",
       "      <td>NaN</td>\n",
       "      <td>NaN</td>\n",
       "      <td>NaN</td>\n",
       "      <td>NaN</td>\n",
       "      <td>NaN</td>\n",
       "      <td>NaN</td>\n",
       "      <td>NaN</td>\n",
       "      <td>NaN</td>\n",
       "      <td>NaN</td>\n",
       "      <td>NaN</td>\n",
       "      <td>...</td>\n",
       "      <td>NaN</td>\n",
       "      <td>NaN</td>\n",
       "      <td>NaN</td>\n",
       "      <td>NaN</td>\n",
       "      <td>NaN</td>\n",
       "      <td>NaN</td>\n",
       "      <td>NaN</td>\n",
       "      <td>NaN</td>\n",
       "      <td>NaN</td>\n",
       "      <td>NaN</td>\n",
       "    </tr>\n",
       "    <tr>\n",
       "      <th>2700</th>\n",
       "      <td>NaN</td>\n",
       "      <td>NaN</td>\n",
       "      <td>NaN</td>\n",
       "      <td>NaN</td>\n",
       "      <td>NaN</td>\n",
       "      <td>NaN</td>\n",
       "      <td>NaN</td>\n",
       "      <td>NaN</td>\n",
       "      <td>NaN</td>\n",
       "      <td>NaN</td>\n",
       "      <td>...</td>\n",
       "      <td>NaN</td>\n",
       "      <td>NaN</td>\n",
       "      <td>NaN</td>\n",
       "      <td>NaN</td>\n",
       "      <td>NaN</td>\n",
       "      <td>NaN</td>\n",
       "      <td>NaN</td>\n",
       "      <td>NaN</td>\n",
       "      <td>NaN</td>\n",
       "      <td>NaN</td>\n",
       "    </tr>\n",
       "    <tr>\n",
       "      <th>3008</th>\n",
       "      <td>NaN</td>\n",
       "      <td>NaN</td>\n",
       "      <td>NaN</td>\n",
       "      <td>NaN</td>\n",
       "      <td>NaN</td>\n",
       "      <td>NaN</td>\n",
       "      <td>NaN</td>\n",
       "      <td>NaN</td>\n",
       "      <td>NaN</td>\n",
       "      <td>NaN</td>\n",
       "      <td>...</td>\n",
       "      <td>NaN</td>\n",
       "      <td>NaN</td>\n",
       "      <td>NaN</td>\n",
       "      <td>NaN</td>\n",
       "      <td>NaN</td>\n",
       "      <td>NaN</td>\n",
       "      <td>NaN</td>\n",
       "      <td>NaN</td>\n",
       "      <td>NaN</td>\n",
       "      <td>NaN</td>\n",
       "    </tr>\n",
       "    <tr>\n",
       "      <th>3114</th>\n",
       "      <td>NaN</td>\n",
       "      <td>NaN</td>\n",
       "      <td>NaN</td>\n",
       "      <td>NaN</td>\n",
       "      <td>NaN</td>\n",
       "      <td>NaN</td>\n",
       "      <td>NaN</td>\n",
       "      <td>NaN</td>\n",
       "      <td>NaN</td>\n",
       "      <td>NaN</td>\n",
       "      <td>...</td>\n",
       "      <td>NaN</td>\n",
       "      <td>NaN</td>\n",
       "      <td>NaN</td>\n",
       "      <td>NaN</td>\n",
       "      <td>NaN</td>\n",
       "      <td>NaN</td>\n",
       "      <td>NaN</td>\n",
       "      <td>NaN</td>\n",
       "      <td>NaN</td>\n",
       "      <td>NaN</td>\n",
       "    </tr>\n",
       "    <tr>\n",
       "      <th>...</th>\n",
       "      <td>...</td>\n",
       "      <td>...</td>\n",
       "      <td>...</td>\n",
       "      <td>...</td>\n",
       "      <td>...</td>\n",
       "      <td>...</td>\n",
       "      <td>...</td>\n",
       "      <td>...</td>\n",
       "      <td>...</td>\n",
       "      <td>...</td>\n",
       "      <td>...</td>\n",
       "      <td>...</td>\n",
       "      <td>...</td>\n",
       "      <td>...</td>\n",
       "      <td>...</td>\n",
       "      <td>...</td>\n",
       "      <td>...</td>\n",
       "      <td>...</td>\n",
       "      <td>...</td>\n",
       "      <td>...</td>\n",
       "      <td>...</td>\n",
       "    </tr>\n",
       "    <tr>\n",
       "      <th>27729</th>\n",
       "      <td>Volvo XC90</td>\n",
       "      <td>Momentum AWD</td>\n",
       "      <td>\\nVolvo\\n</td>\n",
       "      <td>[\\n, XC90 ,\\n]</td>\n",
       "      <td>Kirchdorfer Str. 80,  86825 Bad Wörishofen, DE</td>\n",
       "      <td>€ 37,950.-</td>\n",
       "      <td>[\\n, Off-Road/Pick-up, \\n]</td>\n",
       "      <td>[\\n, Used, \\n]</td>\n",
       "      <td>[\\n, 5, \\n]</td>\n",
       "      <td>[\\n, Germany, \\n]</td>\n",
       "      <td>...</td>\n",
       "      <td>NaN</td>\n",
       "      <td>NaN</td>\n",
       "      <td>NaN</td>\n",
       "      <td>NaN</td>\n",
       "      <td>NaN</td>\n",
       "      <td>NaN</td>\n",
       "      <td>NaN</td>\n",
       "      <td>NaN</td>\n",
       "      <td>NaN</td>\n",
       "      <td>NaN</td>\n",
       "    </tr>\n",
       "    <tr>\n",
       "      <th>27635</th>\n",
       "      <td>Volvo XC90</td>\n",
       "      <td>Inscription Expression Recharge AWD T8 EU6d -7...</td>\n",
       "      <td>\\nVolvo\\n</td>\n",
       "      <td>[\\n, XC90 ,\\n]</td>\n",
       "      <td>Stockumer Str. 80,  58453 Witten, DE</td>\n",
       "      <td>€ 76,930.-</td>\n",
       "      <td>[\\n, Off-Road/Pick-up, \\n]</td>\n",
       "      <td>[\\n, Demonstration, \\n]</td>\n",
       "      <td>[\\n, 5, \\n]</td>\n",
       "      <td>[\\n, Germany, \\n]</td>\n",
       "      <td>...</td>\n",
       "      <td>Calculated on basis of measured CO₂-emissions ...</td>\n",
       "      <td>NaN</td>\n",
       "      <td>NaN</td>\n",
       "      <td>NaN</td>\n",
       "      <td>NaN</td>\n",
       "      <td>NaN</td>\n",
       "      <td>NaN</td>\n",
       "      <td>NaN</td>\n",
       "      <td>NaN</td>\n",
       "      <td>NaN</td>\n",
       "    </tr>\n",
       "    <tr>\n",
       "      <th>27983</th>\n",
       "      <td>Volvo XC90</td>\n",
       "      <td>T8 Twin Recharge Inscription AWD Aut.</td>\n",
       "      <td>\\nVolvo\\n</td>\n",
       "      <td>[\\n, XC90 ,\\n]</td>\n",
       "      <td>CTRA. MADRID-TOLEDO, KM. 63,200,  45280 OLIAS ...</td>\n",
       "      <td>€ 69,800.-</td>\n",
       "      <td>[\\n, Off-Road/Pick-up, \\n]</td>\n",
       "      <td>[\\n, Used, \\n]</td>\n",
       "      <td>[\\n, 5, \\n]</td>\n",
       "      <td>[\\n, Spain, \\n]</td>\n",
       "      <td>...</td>\n",
       "      <td>NaN</td>\n",
       "      <td>NaN</td>\n",
       "      <td>NaN</td>\n",
       "      <td>NaN</td>\n",
       "      <td>NaN</td>\n",
       "      <td>NaN</td>\n",
       "      <td>NaN</td>\n",
       "      <td>NaN</td>\n",
       "      <td>NaN</td>\n",
       "      <td>NaN</td>\n",
       "    </tr>\n",
       "    <tr>\n",
       "      <th>28135</th>\n",
       "      <td>Volvo XC90</td>\n",
       "      <td>XC-90 2.0 B5 D MOMENTUM 5 SEAT AWD AUTO 5P</td>\n",
       "      <td>\\nVolvo\\n</td>\n",
       "      <td>[\\n, XC90 ,\\n]</td>\n",
       "      <td>VÍA COMPLUTENSE, 121,  28805 ALCALÁ DE HENARES...</td>\n",
       "      <td>€ 61,500.-</td>\n",
       "      <td>[\\n, Off-Road/Pick-up, \\n]</td>\n",
       "      <td>[\\n, Used, \\n]</td>\n",
       "      <td>[\\n, 5, \\n]</td>\n",
       "      <td>[\\n, Spain, \\n]</td>\n",
       "      <td>...</td>\n",
       "      <td>NaN</td>\n",
       "      <td>NaN</td>\n",
       "      <td>NaN</td>\n",
       "      <td>NaN</td>\n",
       "      <td>NaN</td>\n",
       "      <td>NaN</td>\n",
       "      <td>NaN</td>\n",
       "      <td>NaN</td>\n",
       "      <td>NaN</td>\n",
       "      <td>NaN</td>\n",
       "    </tr>\n",
       "    <tr>\n",
       "      <th>27612</th>\n",
       "      <td>Volvo XC90</td>\n",
       "      <td>T8 AWD Recharge Inscription Vollausstattung</td>\n",
       "      <td>\\nVolvo\\n</td>\n",
       "      <td>[\\n, XC90 ,\\n]</td>\n",
       "      <td>Am Römerhof 15,  60486 Frankfurt am Main, DE</td>\n",
       "      <td>€ 97,450.-</td>\n",
       "      <td>[\\n, Off-Road/Pick-up, \\n]</td>\n",
       "      <td>[\\n, Used, \\n]</td>\n",
       "      <td>[\\n, 5, \\n]</td>\n",
       "      <td>[\\n, Germany, \\n]</td>\n",
       "      <td>...</td>\n",
       "      <td>Calculated on basis of measured CO₂-emissions ...</td>\n",
       "      <td>NaN</td>\n",
       "      <td>NaN</td>\n",
       "      <td>NaN</td>\n",
       "      <td>NaN</td>\n",
       "      <td>NaN</td>\n",
       "      <td>NaN</td>\n",
       "      <td>NaN</td>\n",
       "      <td>NaN</td>\n",
       "      <td>NaN</td>\n",
       "    </tr>\n",
       "  </tbody>\n",
       "</table>\n",
       "<p>29480 rows × 58 columns</p>\n",
       "</div>"
      ],
      "text/plain": [
       "       make_model                                  short_description  \\\n",
       "1785          NaN                                                NaN   \n",
       "1814          NaN                                                NaN   \n",
       "2700          NaN                                                NaN   \n",
       "3008          NaN                                                NaN   \n",
       "3114          NaN                                                NaN   \n",
       "...           ...                                                ...   \n",
       "27729  Volvo XC90                                       Momentum AWD   \n",
       "27635  Volvo XC90  Inscription Expression Recharge AWD T8 EU6d -7...   \n",
       "27983  Volvo XC90              T8 Twin Recharge Inscription AWD Aut.   \n",
       "28135  Volvo XC90         XC-90 2.0 B5 D MOMENTUM 5 SEAT AWD AUTO 5P   \n",
       "27612  Volvo XC90        T8 AWD Recharge Inscription Vollausstattung   \n",
       "\n",
       "            make           model  \\\n",
       "1785         NaN             NaN   \n",
       "1814         NaN             NaN   \n",
       "2700         NaN             NaN   \n",
       "3008         NaN             NaN   \n",
       "3114         NaN             NaN   \n",
       "...          ...             ...   \n",
       "27729  \\nVolvo\\n  [\\n, XC90 ,\\n]   \n",
       "27635  \\nVolvo\\n  [\\n, XC90 ,\\n]   \n",
       "27983  \\nVolvo\\n  [\\n, XC90 ,\\n]   \n",
       "28135  \\nVolvo\\n  [\\n, XC90 ,\\n]   \n",
       "27612  \\nVolvo\\n  [\\n, XC90 ,\\n]   \n",
       "\n",
       "                                                location       price  \\\n",
       "1785                                                 NaN         NaN   \n",
       "1814                                                 NaN         NaN   \n",
       "2700                                                 NaN         NaN   \n",
       "3008                                                 NaN         NaN   \n",
       "3114                                                 NaN         NaN   \n",
       "...                                                  ...         ...   \n",
       "27729     Kirchdorfer Str. 80,  86825 Bad Wörishofen, DE  € 37,950.-   \n",
       "27635               Stockumer Str. 80,  58453 Witten, DE  € 76,930.-   \n",
       "27983  CTRA. MADRID-TOLEDO, KM. 63,200,  45280 OLIAS ...  € 69,800.-   \n",
       "28135  VÍA COMPLUTENSE, 121,  28805 ALCALÁ DE HENARES...  € 61,500.-   \n",
       "27612       Am Römerhof 15,  60486 Frankfurt am Main, DE  € 97,450.-   \n",
       "\n",
       "                        Body type                     Type        Doors  \\\n",
       "1785                          NaN                      NaN          NaN   \n",
       "1814                          NaN                      NaN          NaN   \n",
       "2700                          NaN                      NaN          NaN   \n",
       "3008                          NaN                      NaN          NaN   \n",
       "3114                          NaN                      NaN          NaN   \n",
       "...                           ...                      ...          ...   \n",
       "27729  [\\n, Off-Road/Pick-up, \\n]           [\\n, Used, \\n]  [\\n, 5, \\n]   \n",
       "27635  [\\n, Off-Road/Pick-up, \\n]  [\\n, Demonstration, \\n]  [\\n, 5, \\n]   \n",
       "27983  [\\n, Off-Road/Pick-up, \\n]           [\\n, Used, \\n]  [\\n, 5, \\n]   \n",
       "28135  [\\n, Off-Road/Pick-up, \\n]           [\\n, Used, \\n]  [\\n, 5, \\n]   \n",
       "27612  [\\n, Off-Road/Pick-up, \\n]           [\\n, Used, \\n]  [\\n, 5, \\n]   \n",
       "\n",
       "         Country version  ...  \\\n",
       "1785                 NaN  ...   \n",
       "1814                 NaN  ...   \n",
       "2700                 NaN  ...   \n",
       "3008                 NaN  ...   \n",
       "3114                 NaN  ...   \n",
       "...                  ...  ...   \n",
       "27729  [\\n, Germany, \\n]  ...   \n",
       "27635  [\\n, Germany, \\n]  ...   \n",
       "27983    [\\n, Spain, \\n]  ...   \n",
       "28135    [\\n, Spain, \\n]  ...   \n",
       "27612  [\\n, Germany, \\n]  ...   \n",
       "\n",
       "                                          CO2 efficiency  \\\n",
       "1785                                                 NaN   \n",
       "1814                                                 NaN   \n",
       "2700                                                 NaN   \n",
       "3008                                                 NaN   \n",
       "3114                                                 NaN   \n",
       "...                                                  ...   \n",
       "27729                                                NaN   \n",
       "27635  Calculated on basis of measured CO₂-emissions ...   \n",
       "27983                                                NaN   \n",
       "28135                                                NaN   \n",
       "27612  Calculated on basis of measured CO₂-emissions ...   \n",
       "\n",
       "      Fuel consumption WLTP CO2 emissions WLTP Available from  \\\n",
       "1785                    NaN                NaN            NaN   \n",
       "1814                    NaN                NaN            NaN   \n",
       "2700                    NaN                NaN            NaN   \n",
       "3008                    NaN                NaN            NaN   \n",
       "3114                    NaN                NaN            NaN   \n",
       "...                     ...                ...            ...   \n",
       "27729                   NaN                NaN            NaN   \n",
       "27635                   NaN                NaN            NaN   \n",
       "27983                   NaN                NaN            NaN   \n",
       "28135                   NaN                NaN            NaN   \n",
       "27612                   NaN                NaN            NaN   \n",
       "\n",
       "      Taxi or rental car Availability Last timing belt change  \\\n",
       "1785                 NaN          NaN                     NaN   \n",
       "1814                 NaN          NaN                     NaN   \n",
       "2700                 NaN          NaN                     NaN   \n",
       "3008                 NaN          NaN                     NaN   \n",
       "3114                 NaN          NaN                     NaN   \n",
       "...                  ...          ...                     ...   \n",
       "27729                NaN          NaN                     NaN   \n",
       "27635                NaN          NaN                     NaN   \n",
       "27983                NaN          NaN                     NaN   \n",
       "28135                NaN          NaN                     NaN   \n",
       "27612                NaN          NaN                     NaN   \n",
       "\n",
       "      Electric Range WLTP Power consumption WLTP Battery Ownership  \n",
       "1785                  NaN                    NaN               NaN  \n",
       "1814                  NaN                    NaN               NaN  \n",
       "2700                  NaN                    NaN               NaN  \n",
       "3008                  NaN                    NaN               NaN  \n",
       "3114                  NaN                    NaN               NaN  \n",
       "...                   ...                    ...               ...  \n",
       "27729                 NaN                    NaN               NaN  \n",
       "27635                 NaN                    NaN               NaN  \n",
       "27983                 NaN                    NaN               NaN  \n",
       "28135                 NaN                    NaN               NaN  \n",
       "27612                 NaN                    NaN               NaN  \n",
       "\n",
       "[29480 rows x 58 columns]"
      ]
     },
     "execution_count": 3,
     "metadata": {},
     "output_type": "execute_result"
    }
   ],
   "source": [
    "# Now, the data\n",
    "df.sort_values(by='make_model', na_position='first')\n"
   ]
  },
  {
   "cell_type": "code",
   "execution_count": 4,
   "metadata": {},
   "outputs": [
    {
     "data": {
      "text/plain": [
       "make_model                   850\n",
       "short_description            850\n",
       "make                         850\n",
       "model                        850\n",
       "location                     850\n",
       "price                        850\n",
       "Body type                    850\n",
       "Type                         850\n",
       "Doors                       1209\n",
       "Country version            12591\n",
       "Offer number                6380\n",
       "Warranty                   13696\n",
       "Mileage                      851\n",
       "First registration           852\n",
       "Gearbox                     1098\n",
       "Fuel type                   2637\n",
       "Colour                      2574\n",
       "Paint                      14985\n",
       "desc                        1433\n",
       "seller                       850\n",
       "Seats                       3975\n",
       "Power                       1422\n",
       "Engine size                 2253\n",
       "Gears                      10526\n",
       "CO2 emissions              10886\n",
       "Manufacturer colour         7693\n",
       "Drivetrain                 12587\n",
       "Cylinders                  10628\n",
       "Fuel consumption            6095\n",
       "Comfort and Convenience     4047\n",
       "Entertainment and Media     5836\n",
       "Safety and Security         4065\n",
       "Extras                      6000\n",
       "Empty weight               11722\n",
       "Model code                 21113\n",
       "General inspection         17226\n",
       "Last service               27477\n",
       "Full service history       16915\n",
       "Non-smoker vehicle         17886\n",
       "Emission class             11621\n",
       "Emissions sticker          20066\n",
       "Upholstery colour          14911\n",
       "Upholstery                 10870\n",
       "Production date            23572\n",
       "Previous owner             15465\n",
       "Other fuel types           27167\n",
       "Power consumption          28965\n",
       "Energy efficiency class    21676\n",
       "CO2 efficiency             21676\n",
       "Fuel consumption WLTP      29380\n",
       "CO2 emissions WLTP         29364\n",
       "Available from             29087\n",
       "Taxi or rental car         29058\n",
       "Availability               29179\n",
       "Last timing belt change    28908\n",
       "Electric Range WLTP        29464\n",
       "Power consumption WLTP     29464\n",
       "Battery Ownership          29473\n",
       "dtype: int64"
      ]
     },
     "execution_count": 4,
     "metadata": {},
     "output_type": "execute_result"
    }
   ],
   "source": [
    "# There are some rows containing nothing but a row number. Check them further\n",
    "df.isnull().sum()\n",
    "\n",
    "# We've got something here"
   ]
  },
  {
   "cell_type": "code",
   "execution_count": 5,
   "metadata": {},
   "outputs": [
    {
     "data": {
      "text/html": [
       "<div>\n",
       "<style scoped>\n",
       "    .dataframe tbody tr th:only-of-type {\n",
       "        vertical-align: middle;\n",
       "    }\n",
       "\n",
       "    .dataframe tbody tr th {\n",
       "        vertical-align: top;\n",
       "    }\n",
       "\n",
       "    .dataframe thead th {\n",
       "        text-align: right;\n",
       "    }\n",
       "</style>\n",
       "<table border=\"1\" class=\"dataframe\">\n",
       "  <thead>\n",
       "    <tr style=\"text-align: right;\">\n",
       "      <th></th>\n",
       "      <th>make_model</th>\n",
       "      <th>short_description</th>\n",
       "      <th>make</th>\n",
       "      <th>model</th>\n",
       "      <th>location</th>\n",
       "      <th>price</th>\n",
       "      <th>Body type</th>\n",
       "      <th>Type</th>\n",
       "      <th>Doors</th>\n",
       "      <th>Country version</th>\n",
       "      <th>...</th>\n",
       "      <th>CO2 efficiency</th>\n",
       "      <th>Fuel consumption WLTP</th>\n",
       "      <th>CO2 emissions WLTP</th>\n",
       "      <th>Available from</th>\n",
       "      <th>Taxi or rental car</th>\n",
       "      <th>Availability</th>\n",
       "      <th>Last timing belt change</th>\n",
       "      <th>Electric Range WLTP</th>\n",
       "      <th>Power consumption WLTP</th>\n",
       "      <th>Battery Ownership</th>\n",
       "    </tr>\n",
       "  </thead>\n",
       "  <tbody>\n",
       "    <tr>\n",
       "      <th>15465</th>\n",
       "      <td>Dacia</td>\n",
       "      <td>Essential NAVI+KAMERA+CARPLAY+KLIMA+LED</td>\n",
       "      <td>\\nDacia\\n</td>\n",
       "      <td>[\\n,  ,\\n]</td>\n",
       "      <td>Haardt 2,  09247 Chemnitz-Röhrsdorf, DE</td>\n",
       "      <td>€ 22,479.-</td>\n",
       "      <td>[\\n, Compact, \\n]</td>\n",
       "      <td>[\\n, Pre-registered, \\n]</td>\n",
       "      <td>[\\n, 5, \\n]</td>\n",
       "      <td>[\\n, Germany, \\n]</td>\n",
       "      <td>...</td>\n",
       "      <td>Calculated on basis of measured CO₂-emissions ...</td>\n",
       "      <td>NaN</td>\n",
       "      <td>NaN</td>\n",
       "      <td>NaN</td>\n",
       "      <td>NaN</td>\n",
       "      <td>[\\n, in 90 days after order, \\n]</td>\n",
       "      <td>NaN</td>\n",
       "      <td>NaN</td>\n",
       "      <td>NaN</td>\n",
       "      <td>NaN</td>\n",
       "    </tr>\n",
       "    <tr>\n",
       "      <th>16846</th>\n",
       "      <td>Dacia</td>\n",
       "      <td>1300, Oldtimer, H-Zulassung.</td>\n",
       "      <td>\\nDacia\\n</td>\n",
       "      <td>[\\n,  ,\\n]</td>\n",
       "      <td>Schopperstr. 99,  07937 Zeulenroda, DE</td>\n",
       "      <td>€ 9,999.-</td>\n",
       "      <td>[\\n, Sedan, \\n]</td>\n",
       "      <td>[\\n, Used, \\n]</td>\n",
       "      <td>[\\n, 5, \\n]</td>\n",
       "      <td>NaN</td>\n",
       "      <td>...</td>\n",
       "      <td>NaN</td>\n",
       "      <td>NaN</td>\n",
       "      <td>NaN</td>\n",
       "      <td>NaN</td>\n",
       "      <td>NaN</td>\n",
       "      <td>NaN</td>\n",
       "      <td>NaN</td>\n",
       "      <td>NaN</td>\n",
       "      <td>NaN</td>\n",
       "      <td>NaN</td>\n",
       "    </tr>\n",
       "    <tr>\n",
       "      <th>16537</th>\n",
       "      <td>Dacia</td>\n",
       "      <td>COMFORT TCe 110 KLIMAAUTOMATIK+RADIO+ZV+</td>\n",
       "      <td>\\nDacia\\n</td>\n",
       "      <td>[\\n,  ,\\n]</td>\n",
       "      <td>Florian-Geyer-Straße 1,  09120 Chemnitz, DE</td>\n",
       "      <td>€ 21,799.-</td>\n",
       "      <td>[\\n, Station wagon, \\n]</td>\n",
       "      <td>[\\n, Demonstration, \\n]</td>\n",
       "      <td>[\\n, 5, \\n]</td>\n",
       "      <td>[\\n, Germany, \\n]</td>\n",
       "      <td>...</td>\n",
       "      <td>Calculated on basis of measured CO₂-emissions ...</td>\n",
       "      <td>NaN</td>\n",
       "      <td>NaN</td>\n",
       "      <td>NaN</td>\n",
       "      <td>NaN</td>\n",
       "      <td>[\\n, in 5 days after order, \\n]</td>\n",
       "      <td>NaN</td>\n",
       "      <td>NaN</td>\n",
       "      <td>NaN</td>\n",
       "      <td>NaN</td>\n",
       "    </tr>\n",
       "    <tr>\n",
       "      <th>15464</th>\n",
       "      <td>Dacia</td>\n",
       "      <td>Essential NAVI+KAMERA+CARPLAY+KLIMA+LED</td>\n",
       "      <td>\\nDacia\\n</td>\n",
       "      <td>[\\n,  ,\\n]</td>\n",
       "      <td>Haardt 2,  09247 Chemnitz-Röhrsdorf, DE</td>\n",
       "      <td>€ 22,299.-</td>\n",
       "      <td>[\\n, Compact, \\n]</td>\n",
       "      <td>[\\n, Pre-registered, \\n]</td>\n",
       "      <td>[\\n, 5, \\n]</td>\n",
       "      <td>[\\n, Germany, \\n]</td>\n",
       "      <td>...</td>\n",
       "      <td>Calculated on basis of measured CO₂-emissions ...</td>\n",
       "      <td>NaN</td>\n",
       "      <td>NaN</td>\n",
       "      <td>NaN</td>\n",
       "      <td>NaN</td>\n",
       "      <td>[\\n, in 90 days after order, \\n]</td>\n",
       "      <td>NaN</td>\n",
       "      <td>NaN</td>\n",
       "      <td>NaN</td>\n",
       "      <td>NaN</td>\n",
       "    </tr>\n",
       "    <tr>\n",
       "      <th>15422</th>\n",
       "      <td>Dacia</td>\n",
       "      <td>Electric Business</td>\n",
       "      <td>\\nDacia\\n</td>\n",
       "      <td>[\\n,  ,\\n]</td>\n",
       "      <td>Weiherstraße 15,  71106 Magstadt, DE</td>\n",
       "      <td>€ 19,515.-</td>\n",
       "      <td>[\\n, Compact, \\n]</td>\n",
       "      <td>[\\n, Demonstration, \\n]</td>\n",
       "      <td>[\\n, 5, \\n]</td>\n",
       "      <td>[\\n, Germany, \\n]</td>\n",
       "      <td>...</td>\n",
       "      <td>Calculated on basis of measured CO₂-emissions ...</td>\n",
       "      <td>NaN</td>\n",
       "      <td>NaN</td>\n",
       "      <td>NaN</td>\n",
       "      <td>NaN</td>\n",
       "      <td>[\\n, in 270 days after order, \\n]</td>\n",
       "      <td>NaN</td>\n",
       "      <td>NaN</td>\n",
       "      <td>NaN</td>\n",
       "      <td>NaN</td>\n",
       "    </tr>\n",
       "    <tr>\n",
       "      <th>...</th>\n",
       "      <td>...</td>\n",
       "      <td>...</td>\n",
       "      <td>...</td>\n",
       "      <td>...</td>\n",
       "      <td>...</td>\n",
       "      <td>...</td>\n",
       "      <td>...</td>\n",
       "      <td>...</td>\n",
       "      <td>...</td>\n",
       "      <td>...</td>\n",
       "      <td>...</td>\n",
       "      <td>...</td>\n",
       "      <td>...</td>\n",
       "      <td>...</td>\n",
       "      <td>...</td>\n",
       "      <td>...</td>\n",
       "      <td>...</td>\n",
       "      <td>...</td>\n",
       "      <td>...</td>\n",
       "      <td>...</td>\n",
       "      <td>...</td>\n",
       "    </tr>\n",
       "    <tr>\n",
       "      <th>27729</th>\n",
       "      <td>Volvo XC90</td>\n",
       "      <td>Momentum AWD</td>\n",
       "      <td>\\nVolvo\\n</td>\n",
       "      <td>[\\n, XC90 ,\\n]</td>\n",
       "      <td>Kirchdorfer Str. 80,  86825 Bad Wörishofen, DE</td>\n",
       "      <td>€ 37,950.-</td>\n",
       "      <td>[\\n, Off-Road/Pick-up, \\n]</td>\n",
       "      <td>[\\n, Used, \\n]</td>\n",
       "      <td>[\\n, 5, \\n]</td>\n",
       "      <td>[\\n, Germany, \\n]</td>\n",
       "      <td>...</td>\n",
       "      <td>NaN</td>\n",
       "      <td>NaN</td>\n",
       "      <td>NaN</td>\n",
       "      <td>NaN</td>\n",
       "      <td>NaN</td>\n",
       "      <td>NaN</td>\n",
       "      <td>NaN</td>\n",
       "      <td>NaN</td>\n",
       "      <td>NaN</td>\n",
       "      <td>NaN</td>\n",
       "    </tr>\n",
       "    <tr>\n",
       "      <th>27635</th>\n",
       "      <td>Volvo XC90</td>\n",
       "      <td>Inscription Expression Recharge AWD T8 EU6d -7...</td>\n",
       "      <td>\\nVolvo\\n</td>\n",
       "      <td>[\\n, XC90 ,\\n]</td>\n",
       "      <td>Stockumer Str. 80,  58453 Witten, DE</td>\n",
       "      <td>€ 76,930.-</td>\n",
       "      <td>[\\n, Off-Road/Pick-up, \\n]</td>\n",
       "      <td>[\\n, Demonstration, \\n]</td>\n",
       "      <td>[\\n, 5, \\n]</td>\n",
       "      <td>[\\n, Germany, \\n]</td>\n",
       "      <td>...</td>\n",
       "      <td>Calculated on basis of measured CO₂-emissions ...</td>\n",
       "      <td>NaN</td>\n",
       "      <td>NaN</td>\n",
       "      <td>NaN</td>\n",
       "      <td>NaN</td>\n",
       "      <td>NaN</td>\n",
       "      <td>NaN</td>\n",
       "      <td>NaN</td>\n",
       "      <td>NaN</td>\n",
       "      <td>NaN</td>\n",
       "    </tr>\n",
       "    <tr>\n",
       "      <th>27983</th>\n",
       "      <td>Volvo XC90</td>\n",
       "      <td>T8 Twin Recharge Inscription AWD Aut.</td>\n",
       "      <td>\\nVolvo\\n</td>\n",
       "      <td>[\\n, XC90 ,\\n]</td>\n",
       "      <td>CTRA. MADRID-TOLEDO, KM. 63,200,  45280 OLIAS ...</td>\n",
       "      <td>€ 69,800.-</td>\n",
       "      <td>[\\n, Off-Road/Pick-up, \\n]</td>\n",
       "      <td>[\\n, Used, \\n]</td>\n",
       "      <td>[\\n, 5, \\n]</td>\n",
       "      <td>[\\n, Spain, \\n]</td>\n",
       "      <td>...</td>\n",
       "      <td>NaN</td>\n",
       "      <td>NaN</td>\n",
       "      <td>NaN</td>\n",
       "      <td>NaN</td>\n",
       "      <td>NaN</td>\n",
       "      <td>NaN</td>\n",
       "      <td>NaN</td>\n",
       "      <td>NaN</td>\n",
       "      <td>NaN</td>\n",
       "      <td>NaN</td>\n",
       "    </tr>\n",
       "    <tr>\n",
       "      <th>28135</th>\n",
       "      <td>Volvo XC90</td>\n",
       "      <td>XC-90 2.0 B5 D MOMENTUM 5 SEAT AWD AUTO 5P</td>\n",
       "      <td>\\nVolvo\\n</td>\n",
       "      <td>[\\n, XC90 ,\\n]</td>\n",
       "      <td>VÍA COMPLUTENSE, 121,  28805 ALCALÁ DE HENARES...</td>\n",
       "      <td>€ 61,500.-</td>\n",
       "      <td>[\\n, Off-Road/Pick-up, \\n]</td>\n",
       "      <td>[\\n, Used, \\n]</td>\n",
       "      <td>[\\n, 5, \\n]</td>\n",
       "      <td>[\\n, Spain, \\n]</td>\n",
       "      <td>...</td>\n",
       "      <td>NaN</td>\n",
       "      <td>NaN</td>\n",
       "      <td>NaN</td>\n",
       "      <td>NaN</td>\n",
       "      <td>NaN</td>\n",
       "      <td>NaN</td>\n",
       "      <td>NaN</td>\n",
       "      <td>NaN</td>\n",
       "      <td>NaN</td>\n",
       "      <td>NaN</td>\n",
       "    </tr>\n",
       "    <tr>\n",
       "      <th>27612</th>\n",
       "      <td>Volvo XC90</td>\n",
       "      <td>T8 AWD Recharge Inscription Vollausstattung</td>\n",
       "      <td>\\nVolvo\\n</td>\n",
       "      <td>[\\n, XC90 ,\\n]</td>\n",
       "      <td>Am Römerhof 15,  60486 Frankfurt am Main, DE</td>\n",
       "      <td>€ 97,450.-</td>\n",
       "      <td>[\\n, Off-Road/Pick-up, \\n]</td>\n",
       "      <td>[\\n, Used, \\n]</td>\n",
       "      <td>[\\n, 5, \\n]</td>\n",
       "      <td>[\\n, Germany, \\n]</td>\n",
       "      <td>...</td>\n",
       "      <td>Calculated on basis of measured CO₂-emissions ...</td>\n",
       "      <td>NaN</td>\n",
       "      <td>NaN</td>\n",
       "      <td>NaN</td>\n",
       "      <td>NaN</td>\n",
       "      <td>NaN</td>\n",
       "      <td>NaN</td>\n",
       "      <td>NaN</td>\n",
       "      <td>NaN</td>\n",
       "      <td>NaN</td>\n",
       "    </tr>\n",
       "  </tbody>\n",
       "</table>\n",
       "<p>28630 rows × 58 columns</p>\n",
       "</div>"
      ],
      "text/plain": [
       "       make_model                                  short_description  \\\n",
       "15465      Dacia             Essential NAVI+KAMERA+CARPLAY+KLIMA+LED   \n",
       "16846      Dacia                        1300, Oldtimer, H-Zulassung.   \n",
       "16537      Dacia            COMFORT TCe 110 KLIMAAUTOMATIK+RADIO+ZV+   \n",
       "15464      Dacia             Essential NAVI+KAMERA+CARPLAY+KLIMA+LED   \n",
       "15422      Dacia                                   Electric Business   \n",
       "...           ...                                                ...   \n",
       "27729  Volvo XC90                                       Momentum AWD   \n",
       "27635  Volvo XC90  Inscription Expression Recharge AWD T8 EU6d -7...   \n",
       "27983  Volvo XC90              T8 Twin Recharge Inscription AWD Aut.   \n",
       "28135  Volvo XC90         XC-90 2.0 B5 D MOMENTUM 5 SEAT AWD AUTO 5P   \n",
       "27612  Volvo XC90        T8 AWD Recharge Inscription Vollausstattung   \n",
       "\n",
       "            make           model  \\\n",
       "15465  \\nDacia\\n      [\\n,  ,\\n]   \n",
       "16846  \\nDacia\\n      [\\n,  ,\\n]   \n",
       "16537  \\nDacia\\n      [\\n,  ,\\n]   \n",
       "15464  \\nDacia\\n      [\\n,  ,\\n]   \n",
       "15422  \\nDacia\\n      [\\n,  ,\\n]   \n",
       "...          ...             ...   \n",
       "27729  \\nVolvo\\n  [\\n, XC90 ,\\n]   \n",
       "27635  \\nVolvo\\n  [\\n, XC90 ,\\n]   \n",
       "27983  \\nVolvo\\n  [\\n, XC90 ,\\n]   \n",
       "28135  \\nVolvo\\n  [\\n, XC90 ,\\n]   \n",
       "27612  \\nVolvo\\n  [\\n, XC90 ,\\n]   \n",
       "\n",
       "                                                location       price  \\\n",
       "15465            Haardt 2,  09247 Chemnitz-Röhrsdorf, DE  € 22,479.-   \n",
       "16846             Schopperstr. 99,  07937 Zeulenroda, DE   € 9,999.-   \n",
       "16537        Florian-Geyer-Straße 1,  09120 Chemnitz, DE  € 21,799.-   \n",
       "15464            Haardt 2,  09247 Chemnitz-Röhrsdorf, DE  € 22,299.-   \n",
       "15422               Weiherstraße 15,  71106 Magstadt, DE  € 19,515.-   \n",
       "...                                                  ...         ...   \n",
       "27729     Kirchdorfer Str. 80,  86825 Bad Wörishofen, DE  € 37,950.-   \n",
       "27635               Stockumer Str. 80,  58453 Witten, DE  € 76,930.-   \n",
       "27983  CTRA. MADRID-TOLEDO, KM. 63,200,  45280 OLIAS ...  € 69,800.-   \n",
       "28135  VÍA COMPLUTENSE, 121,  28805 ALCALÁ DE HENARES...  € 61,500.-   \n",
       "27612       Am Römerhof 15,  60486 Frankfurt am Main, DE  € 97,450.-   \n",
       "\n",
       "                        Body type                      Type        Doors  \\\n",
       "15465           [\\n, Compact, \\n]  [\\n, Pre-registered, \\n]  [\\n, 5, \\n]   \n",
       "16846             [\\n, Sedan, \\n]            [\\n, Used, \\n]  [\\n, 5, \\n]   \n",
       "16537     [\\n, Station wagon, \\n]   [\\n, Demonstration, \\n]  [\\n, 5, \\n]   \n",
       "15464           [\\n, Compact, \\n]  [\\n, Pre-registered, \\n]  [\\n, 5, \\n]   \n",
       "15422           [\\n, Compact, \\n]   [\\n, Demonstration, \\n]  [\\n, 5, \\n]   \n",
       "...                           ...                       ...          ...   \n",
       "27729  [\\n, Off-Road/Pick-up, \\n]            [\\n, Used, \\n]  [\\n, 5, \\n]   \n",
       "27635  [\\n, Off-Road/Pick-up, \\n]   [\\n, Demonstration, \\n]  [\\n, 5, \\n]   \n",
       "27983  [\\n, Off-Road/Pick-up, \\n]            [\\n, Used, \\n]  [\\n, 5, \\n]   \n",
       "28135  [\\n, Off-Road/Pick-up, \\n]            [\\n, Used, \\n]  [\\n, 5, \\n]   \n",
       "27612  [\\n, Off-Road/Pick-up, \\n]            [\\n, Used, \\n]  [\\n, 5, \\n]   \n",
       "\n",
       "         Country version  ...  \\\n",
       "15465  [\\n, Germany, \\n]  ...   \n",
       "16846                NaN  ...   \n",
       "16537  [\\n, Germany, \\n]  ...   \n",
       "15464  [\\n, Germany, \\n]  ...   \n",
       "15422  [\\n, Germany, \\n]  ...   \n",
       "...                  ...  ...   \n",
       "27729  [\\n, Germany, \\n]  ...   \n",
       "27635  [\\n, Germany, \\n]  ...   \n",
       "27983    [\\n, Spain, \\n]  ...   \n",
       "28135    [\\n, Spain, \\n]  ...   \n",
       "27612  [\\n, Germany, \\n]  ...   \n",
       "\n",
       "                                          CO2 efficiency  \\\n",
       "15465  Calculated on basis of measured CO₂-emissions ...   \n",
       "16846                                                NaN   \n",
       "16537  Calculated on basis of measured CO₂-emissions ...   \n",
       "15464  Calculated on basis of measured CO₂-emissions ...   \n",
       "15422  Calculated on basis of measured CO₂-emissions ...   \n",
       "...                                                  ...   \n",
       "27729                                                NaN   \n",
       "27635  Calculated on basis of measured CO₂-emissions ...   \n",
       "27983                                                NaN   \n",
       "28135                                                NaN   \n",
       "27612  Calculated on basis of measured CO₂-emissions ...   \n",
       "\n",
       "      Fuel consumption WLTP CO2 emissions WLTP Available from  \\\n",
       "15465                   NaN                NaN            NaN   \n",
       "16846                   NaN                NaN            NaN   \n",
       "16537                   NaN                NaN            NaN   \n",
       "15464                   NaN                NaN            NaN   \n",
       "15422                   NaN                NaN            NaN   \n",
       "...                     ...                ...            ...   \n",
       "27729                   NaN                NaN            NaN   \n",
       "27635                   NaN                NaN            NaN   \n",
       "27983                   NaN                NaN            NaN   \n",
       "28135                   NaN                NaN            NaN   \n",
       "27612                   NaN                NaN            NaN   \n",
       "\n",
       "      Taxi or rental car                       Availability  \\\n",
       "15465                NaN   [\\n, in 90 days after order, \\n]   \n",
       "16846                NaN                                NaN   \n",
       "16537                NaN    [\\n, in 5 days after order, \\n]   \n",
       "15464                NaN   [\\n, in 90 days after order, \\n]   \n",
       "15422                NaN  [\\n, in 270 days after order, \\n]   \n",
       "...                  ...                                ...   \n",
       "27729                NaN                                NaN   \n",
       "27635                NaN                                NaN   \n",
       "27983                NaN                                NaN   \n",
       "28135                NaN                                NaN   \n",
       "27612                NaN                                NaN   \n",
       "\n",
       "      Last timing belt change Electric Range WLTP Power consumption WLTP  \\\n",
       "15465                     NaN                 NaN                    NaN   \n",
       "16846                     NaN                 NaN                    NaN   \n",
       "16537                     NaN                 NaN                    NaN   \n",
       "15464                     NaN                 NaN                    NaN   \n",
       "15422                     NaN                 NaN                    NaN   \n",
       "...                       ...                 ...                    ...   \n",
       "27729                     NaN                 NaN                    NaN   \n",
       "27635                     NaN                 NaN                    NaN   \n",
       "27983                     NaN                 NaN                    NaN   \n",
       "28135                     NaN                 NaN                    NaN   \n",
       "27612                     NaN                 NaN                    NaN   \n",
       "\n",
       "      Battery Ownership  \n",
       "15465               NaN  \n",
       "16846               NaN  \n",
       "16537               NaN  \n",
       "15464               NaN  \n",
       "15422               NaN  \n",
       "...                 ...  \n",
       "27729               NaN  \n",
       "27635               NaN  \n",
       "27983               NaN  \n",
       "28135               NaN  \n",
       "27612               NaN  \n",
       "\n",
       "[28630 rows x 58 columns]"
      ]
     },
     "execution_count": 5,
     "metadata": {},
     "output_type": "execute_result"
    }
   ],
   "source": [
    "# There are 850 lines composed of only air and row number. So, remove them freely.\n",
    "df=df.dropna(subset=['make_model'])\n",
    "\n",
    "# And, check the list again\n",
    "df.sort_values(by='make_model', na_position='first')\n",
    "# It looks better and now, we have 28630 rows. 850's gone!"
   ]
  },
  {
   "cell_type": "code",
   "execution_count": 6,
   "metadata": {},
   "outputs": [
    {
     "data": {
      "text/plain": [
       "make_model                     0\n",
       "short_description              0\n",
       "make                           0\n",
       "model                          0\n",
       "location                       0\n",
       "price                          0\n",
       "Body type                      0\n",
       "Type                           0\n",
       "Doors                        359\n",
       "Country version            11741\n",
       "Offer number                5530\n",
       "Warranty                   12846\n",
       "Mileage                        1\n",
       "First registration             2\n",
       "Gearbox                      248\n",
       "Fuel type                   1787\n",
       "Colour                      1724\n",
       "Paint                      14135\n",
       "desc                         583\n",
       "seller                         0\n",
       "Seats                       3125\n",
       "Power                        572\n",
       "Engine size                 1403\n",
       "Gears                       9676\n",
       "CO2 emissions              10036\n",
       "Manufacturer colour         6843\n",
       "Drivetrain                 11737\n",
       "Cylinders                   9778\n",
       "Fuel consumption            5245\n",
       "Comfort and Convenience     3197\n",
       "Entertainment and Media     4986\n",
       "Safety and Security         3215\n",
       "Extras                      5150\n",
       "Empty weight               10872\n",
       "Model code                 20263\n",
       "General inspection         16376\n",
       "Last service               26627\n",
       "Full service history       16065\n",
       "Non-smoker vehicle         17036\n",
       "Emission class             10771\n",
       "Emissions sticker          19216\n",
       "Upholstery colour          14061\n",
       "Upholstery                 10020\n",
       "Production date            22722\n",
       "Previous owner             14615\n",
       "Other fuel types           26317\n",
       "Power consumption          28115\n",
       "Energy efficiency class    20826\n",
       "CO2 efficiency             20826\n",
       "Fuel consumption WLTP      28530\n",
       "CO2 emissions WLTP         28514\n",
       "Available from             28237\n",
       "Taxi or rental car         28208\n",
       "Availability               28329\n",
       "Last timing belt change    28058\n",
       "Electric Range WLTP        28614\n",
       "Power consumption WLTP     28614\n",
       "Battery Ownership          28623\n",
       "dtype: int64"
      ]
     },
     "execution_count": 6,
     "metadata": {},
     "output_type": "execute_result"
    }
   ],
   "source": [
    "# Check nulls again\n",
    "df.isnull().sum()\n",
    "\n",
    "#It looks better"
   ]
  },
  {
   "cell_type": "code",
   "execution_count": 7,
   "metadata": {},
   "outputs": [
    {
     "data": {
      "text/plain": [
       "Index(['make_model', 'short_description', 'make', 'model', 'location', 'price',\n",
       "       'Body type', 'Type', 'Doors', 'Country version', 'Offer number',\n",
       "       'Warranty', 'Mileage', 'First registration', 'Gearbox', 'Fuel type',\n",
       "       'Colour', 'Paint', 'desc', 'seller', 'Seats', 'Power', 'Engine size',\n",
       "       'Gears', 'CO2 emissions', 'Manufacturer colour', 'Drivetrain',\n",
       "       'Cylinders', 'Fuel consumption', 'Comfort and Convenience',\n",
       "       'Entertainment and Media', 'Safety and Security', 'Extras',\n",
       "       'Empty weight', 'Model code', 'General inspection', 'Last service',\n",
       "       'Full service history', 'Non-smoker vehicle', 'Emission class',\n",
       "       'Emissions sticker', 'Upholstery colour', 'Upholstery',\n",
       "       'Production date', 'Previous owner', 'Other fuel types',\n",
       "       'Power consumption', 'Energy efficiency class', 'CO2 efficiency',\n",
       "       'Fuel consumption WLTP', 'CO2 emissions WLTP', 'Available from',\n",
       "       'Taxi or rental car', 'Availability', 'Last timing belt change',\n",
       "       'Electric Range WLTP', 'Power consumption WLTP', 'Battery Ownership'],\n",
       "      dtype='object')"
      ]
     },
     "execution_count": 7,
     "metadata": {},
     "output_type": "execute_result"
    }
   ],
   "source": [
    "# Now, focus on every and each columns\n",
    "\n",
    "df.columns"
   ]
  },
  {
   "cell_type": "code",
   "execution_count": 8,
   "metadata": {},
   "outputs": [],
   "source": [
    "# make_model\n",
    "\n",
    "# Fix the name\n",
    "df.rename(columns={'make_model': 'Make_Model'}, inplace=True)\n",
    "\n"
   ]
  },
  {
   "cell_type": "code",
   "execution_count": 9,
   "metadata": {},
   "outputs": [],
   "source": [
    "# short_description\n",
    "\n",
    "# Fix the name\n",
    "df.rename(columns={'short_description': 'Short_Description'}, inplace=True)\n",
    "\n",
    "# Completely useless, so drop it\n",
    "df.drop('Short_Description', inplace=True, axis=1)"
   ]
  },
  {
   "cell_type": "code",
   "execution_count": 10,
   "metadata": {},
   "outputs": [
    {
     "data": {
      "text/plain": [
       "Volvo            3659\n",
       "Mercedes-Benz    2398\n",
       "Opel             2385\n",
       "Peugeot          2360\n",
       "Renault          2351\n",
       "Fiat             2338\n",
       "Ford             2324\n",
       "Nissan           2064\n",
       "Toyota           2038\n",
       "Hyundai          1867\n",
       "SEAT             1743\n",
       "Skoda            1566\n",
       "Dacia            1537\n",
       "Name: Make, dtype: int64"
      ]
     },
     "execution_count": 10,
     "metadata": {},
     "output_type": "execute_result"
    }
   ],
   "source": [
    "# make\n",
    "\n",
    "# Fix the name\n",
    "df.rename(columns={'make': 'Make'}, inplace=True)\n",
    "\n",
    "# There are new line characters. Let's clean them\n",
    "df.Make = df.Make.apply(lambda x: x.replace('\\n', ''))\n",
    "\n",
    "df.Make.value_counts()\n"
   ]
  },
  {
   "cell_type": "code",
   "execution_count": 11,
   "metadata": {},
   "outputs": [],
   "source": [
    "# model\n",
    "\n",
    "# Fix the name\n",
    "df.rename(columns={'model': 'Model'}, inplace=True)\n",
    "\n",
    "df['Model'] = df['Model'].astype(str)\n",
    "\n",
    "# Cells in this column are in list format and there are new line characters. Let's clean them\n",
    "df.Model = df.Model.apply(lambda x: x.lstrip('[\\'\\\\n, ').rstrip(' ,\\\\n\\']')) \n",
    "\n",
    "# Delete rows with unknown Model \n",
    "df = df.drop(df[df.Model == ''].index)\n"
   ]
  },
  {
   "cell_type": "code",
   "execution_count": 12,
   "metadata": {},
   "outputs": [
    {
     "name": "stdout",
     "output_type": "stream",
     "text": [
      "<class 'pandas.core.frame.DataFrame'>\n",
      "Int64Index: 28249 entries, 0 to 29478\n",
      "Data columns (total 57 columns):\n",
      " #   Column                   Non-Null Count  Dtype  \n",
      "---  ------                   --------------  -----  \n",
      " 0   Make_Model               28249 non-null  object \n",
      " 1   Make                     28249 non-null  object \n",
      " 2   Model                    28249 non-null  object \n",
      " 3   location                 28249 non-null  object \n",
      " 4   price                    28249 non-null  object \n",
      " 5   Body type                28249 non-null  object \n",
      " 6   Type                     28249 non-null  object \n",
      " 7   Doors                    27910 non-null  object \n",
      " 8   Country version          16653 non-null  object \n",
      " 9   Offer number             22816 non-null  object \n",
      " 10  Warranty                 15596 non-null  object \n",
      " 11  Mileage                  28248 non-null  object \n",
      " 12  First registration       28247 non-null  object \n",
      " 13  Gearbox                  28014 non-null  object \n",
      " 14  Fuel type                26486 non-null  object \n",
      " 15  Colour                   26544 non-null  object \n",
      " 16  Paint                    14374 non-null  object \n",
      " 17  desc                     27671 non-null  object \n",
      " 18  seller                   28249 non-null  object \n",
      " 19  Seats                    25178 non-null  object \n",
      " 20  Power                    27688 non-null  object \n",
      " 21  Engine size              26893 non-null  object \n",
      " 22  Gears                    18718 non-null  object \n",
      " 23  CO2 emissions            18473 non-null  object \n",
      " 24  Manufacturer colour      21512 non-null  object \n",
      " 25  Drivetrain               16652 non-null  object \n",
      " 26  Cylinders                18617 non-null  object \n",
      " 27  Fuel consumption         23153 non-null  object \n",
      " 28  Comfort and Convenience  25149 non-null  object \n",
      " 29  Entertainment and Media  23369 non-null  object \n",
      " 30  Safety and Security      25136 non-null  object \n",
      " 31  Extras                   23197 non-null  object \n",
      " 32  Empty weight             17542 non-null  object \n",
      " 33  Model code               8299 non-null   object \n",
      " 34  General inspection       12136 non-null  object \n",
      " 35  Last service             1980 non-null   object \n",
      " 36  Full service history     12459 non-null  object \n",
      " 37  Non-smoker vehicle       11472 non-null  object \n",
      " 38  Emission class           17739 non-null  object \n",
      " 39  Emissions sticker        9328 non-null   object \n",
      " 40  Upholstery colour        14423 non-null  object \n",
      " 41  Upholstery               18418 non-null  object \n",
      " 42  Production date          5832 non-null   float64\n",
      " 43  Previous owner           13867 non-null  object \n",
      " 44  Other fuel types         2283 non-null   object \n",
      " 45  Power consumption        496 non-null    object \n",
      " 46  Energy efficiency class  7740 non-null   object \n",
      " 47  CO2 efficiency           7740 non-null   object \n",
      " 48  Fuel consumption WLTP    98 non-null     object \n",
      " 49  CO2 emissions WLTP       112 non-null    object \n",
      " 50  Available from           381 non-null    object \n",
      " 51  Taxi or rental car       420 non-null    object \n",
      " 52  Availability             295 non-null    object \n",
      " 53  Last timing belt change  567 non-null    object \n",
      " 54  Electric Range WLTP      14 non-null     object \n",
      " 55  Power consumption WLTP   14 non-null     object \n",
      " 56  Battery Ownership        6 non-null      object \n",
      "dtypes: float64(1), object(56)\n",
      "memory usage: 12.5+ MB\n"
     ]
    }
   ],
   "source": [
    "# model\n",
    "\n",
    "# Delete rows with unknown Model whose count is only 1\n",
    "counts = df['Model'].value_counts()\n",
    "df = df[df['Model'].isin(counts[counts > 1].index)]\n",
    "\n",
    "df.info()"
   ]
  },
  {
   "cell_type": "code",
   "execution_count": 13,
   "metadata": {},
   "outputs": [
    {
     "data": {
      "text/plain": [
       "DE    12498\n",
       "ES     6386\n",
       "NL     2911\n",
       "IT     2473\n",
       "BE     1858\n",
       "FR     1441\n",
       "AT      644\n",
       "LU       35\n",
       "Name: Location, dtype: int64"
      ]
     },
     "execution_count": 13,
     "metadata": {},
     "output_type": "execute_result"
    }
   ],
   "source": [
    "# location\n",
    "\n",
    "# Fix the name\n",
    "df.rename(columns={'location': 'Location'}, inplace=True)\n",
    "\n",
    "# It looks like this column contains addresses, which is not necessary that much detail. \n",
    "# Instead, only the country information is enough and more meaningful. So, let's keep only 2-letter-country name and \n",
    "# delete the rest.\n",
    "\n",
    "df.Location = df.Location.str[-2:]\n",
    "\n",
    "counts = df['Location'].value_counts()\n",
    "df = df[df['Location'].isin(counts[counts > 1].index)]\n",
    "\n",
    "df.Location.value_counts()\n"
   ]
  },
  {
   "cell_type": "code",
   "execution_count": 14,
   "metadata": {},
   "outputs": [],
   "source": [
    "# price\n",
    "\n",
    "# Fix the name\n",
    "df.rename(columns={'price': 'Price'}, inplace=True)\n",
    "\n",
    "# let's clean the column\n",
    "df[\"Price\"] = df[\"Price\"].dropna().apply(lambda x: x.lstrip(\"€ \").rstrip(\".-\").replace(\",\",\"\"))\n",
    "df.Price=df.Price.astype(float)\n"
   ]
  },
  {
   "cell_type": "code",
   "execution_count": 15,
   "metadata": {},
   "outputs": [
    {
     "name": "stdout",
     "output_type": "stream",
     "text": [
      "11990.0 27990.0 16000.0\n"
     ]
    }
   ],
   "source": [
    "# price\n",
    "\n",
    "# Handle with outliers\n",
    "a=df.Price.quantile(0.25)\n",
    "b=df.Price.quantile(0.75)\n",
    "print(a, b, (b-a))"
   ]
  },
  {
   "cell_type": "code",
   "execution_count": 16,
   "metadata": {},
   "outputs": [
    {
     "name": "stdout",
     "output_type": "stream",
     "text": [
      "-12010.0 51990.0\n"
     ]
    }
   ],
   "source": [
    "# price\n",
    "\n",
    "# Find lower and upper limit using IQR\n",
    "lower_limit=a-(1.5*(b-a))\n",
    "upper_limit=b+(1.5*(b-a))\n",
    "\n",
    "print(lower_limit, upper_limit)\n"
   ]
  },
  {
   "cell_type": "code",
   "execution_count": 17,
   "metadata": {},
   "outputs": [],
   "source": [
    "# price\n",
    "\n",
    "Price_outliers = df.loc[(df.Price > upper_limit) | (df.Price <lower_limit)].sort_values(by='Price',ascending=False)\n",
    "df.drop(Price_outliers.index, inplace=True)\n",
    "\n",
    "\n"
   ]
  },
  {
   "cell_type": "code",
   "execution_count": 18,
   "metadata": {},
   "outputs": [
    {
     "name": "stdout",
     "output_type": "stream",
     "text": [
      "<class 'pandas.core.frame.DataFrame'>\n",
      "Int64Index: 26394 entries, 0 to 29478\n",
      "Data columns (total 57 columns):\n",
      " #   Column                   Non-Null Count  Dtype  \n",
      "---  ------                   --------------  -----  \n",
      " 0   Make_Model               26394 non-null  object \n",
      " 1   Make                     26394 non-null  object \n",
      " 2   Model                    26394 non-null  object \n",
      " 3   Location                 26394 non-null  object \n",
      " 4   Price                    26394 non-null  float64\n",
      " 5   Body type                26394 non-null  object \n",
      " 6   Type                     26394 non-null  object \n",
      " 7   Doors                    26091 non-null  object \n",
      " 8   Country version          15622 non-null  object \n",
      " 9   Offer number             21172 non-null  object \n",
      " 10  Warranty                 14498 non-null  object \n",
      " 11  Mileage                  26393 non-null  object \n",
      " 12  First registration       26393 non-null  object \n",
      " 13  Gearbox                  26177 non-null  object \n",
      " 14  Fuel type                24930 non-null  object \n",
      " 15  Colour                   24780 non-null  object \n",
      " 16  Paint                    13124 non-null  object \n",
      " 17  desc                     25835 non-null  object \n",
      " 18  seller                   26394 non-null  object \n",
      " 19  Seats                    23479 non-null  object \n",
      " 20  Power                    25859 non-null  object \n",
      " 21  Engine size              25224 non-null  object \n",
      " 22  Gears                    17561 non-null  object \n",
      " 23  CO2 emissions            17144 non-null  object \n",
      " 24  Manufacturer colour      19919 non-null  object \n",
      " 25  Drivetrain               15267 non-null  object \n",
      " 26  Cylinders                17390 non-null  object \n",
      " 27  Fuel consumption         21744 non-null  object \n",
      " 28  Comfort and Convenience  23511 non-null  object \n",
      " 29  Entertainment and Media  21817 non-null  object \n",
      " 30  Safety and Security      23504 non-null  object \n",
      " 31  Extras                   21590 non-null  object \n",
      " 32  Empty weight             16394 non-null  object \n",
      " 33  Model code               7376 non-null   object \n",
      " 34  General inspection       11177 non-null  object \n",
      " 35  Last service             1894 non-null   object \n",
      " 36  Full service history     11316 non-null  object \n",
      " 37  Non-smoker vehicle       10403 non-null  object \n",
      " 38  Emission class           16379 non-null  object \n",
      " 39  Emissions sticker        8441 non-null   object \n",
      " 40  Upholstery colour        13253 non-null  object \n",
      " 41  Upholstery               16995 non-null  object \n",
      " 42  Production date          5212 non-null   float64\n",
      " 43  Previous owner           12604 non-null  object \n",
      " 44  Other fuel types         1809 non-null   object \n",
      " 45  Power consumption        308 non-null    object \n",
      " 46  Energy efficiency class  6741 non-null   object \n",
      " 47  CO2 efficiency           6741 non-null   object \n",
      " 48  Fuel consumption WLTP    76 non-null     object \n",
      " 49  CO2 emissions WLTP       84 non-null     object \n",
      " 50  Available from           243 non-null    object \n",
      " 51  Taxi or rental car       322 non-null    object \n",
      " 52  Availability             263 non-null    object \n",
      " 53  Last timing belt change  556 non-null    object \n",
      " 54  Electric Range WLTP      7 non-null      object \n",
      " 55  Power consumption WLTP   7 non-null      object \n",
      " 56  Battery Ownership        5 non-null      object \n",
      "dtypes: float64(2), object(55)\n",
      "memory usage: 11.7+ MB\n"
     ]
    }
   ],
   "source": [
    "df.info()"
   ]
  },
  {
   "cell_type": "code",
   "execution_count": 19,
   "metadata": {},
   "outputs": [
    {
     "data": {
      "text/plain": [
       "Compact             5312\n",
       "Station wagon       5175\n",
       "Off-Road/Pick-up    4830\n",
       "Sedan               4752\n",
       "Coupe               3368\n",
       "Convertible         2957\n",
       "Name: Body_Type, dtype: int64"
      ]
     },
     "execution_count": 19,
     "metadata": {},
     "output_type": "execute_result"
    }
   ],
   "source": [
    "# Body type\n",
    "\n",
    "# Fix the name\n",
    "df.rename(columns={'Body type': 'Body_Type'}, inplace=True)\n",
    "\n",
    "# Cells in this column are in list format and there are new line characters. Let's clean them\n",
    "df.Body_Type = df.Body_Type.apply(lambda x: str(x).replace('[\\'\\\\n, ', '').replace(', \\\\n\\']', '')) \n",
    "\n",
    "df.Body_Type.value_counts(dropna=False)\n"
   ]
  },
  {
   "cell_type": "code",
   "execution_count": 20,
   "metadata": {},
   "outputs": [
    {
     "data": {
      "text/plain": [
       "Used              23707\n",
       "Pre-registered     1241\n",
       "Demonstration      1016\n",
       "Employee's car      430\n",
       "Name: Type, dtype: int64"
      ]
     },
     "execution_count": 20,
     "metadata": {},
     "output_type": "execute_result"
    }
   ],
   "source": [
    "# Type\n",
    "\n",
    "# Cells in this column are in list format and there are new line characters. Let's clean them\n",
    "df.Type = df.Type.apply(lambda x: str(x).replace('[\\'\\\\n, ', '').replace(', \\\\n\\']', '').replace('[\\\"\\\\n, ', '').replace(', \\\\n\\\"]', '') ) \n",
    "\n",
    "df.Type.value_counts()\n"
   ]
  },
  {
   "cell_type": "code",
   "execution_count": 21,
   "metadata": {},
   "outputs": [
    {
     "data": {
      "text/plain": [
       "5    16897\n",
       "2     4776\n",
       "4     2590\n",
       "3     2124\n",
       "6        5\n",
       "1        2\n",
       "Name: Doors, dtype: int64"
      ]
     },
     "execution_count": 21,
     "metadata": {},
     "output_type": "execute_result"
    }
   ],
   "source": [
    "# Doors\n",
    "\n",
    "# There are new line characters. Let's clean them\n",
    "df.Doors = df.Doors.apply(lambda x: str(x).replace('[\\'\\\\n, ', '').replace(', \\\\n\\']', ''))\n",
    "df['Doors'] = df['Doors'].replace(\"nan\", '5')\n",
    "df.Doors.value_counts()\n"
   ]
  },
  {
   "cell_type": "code",
   "execution_count": 22,
   "metadata": {},
   "outputs": [
    {
     "name": "stdout",
     "output_type": "stream",
     "text": [
      "<class 'pandas.core.frame.DataFrame'>\n",
      "Int64Index: 26394 entries, 0 to 29478\n",
      "Data columns (total 56 columns):\n",
      " #   Column                   Non-Null Count  Dtype  \n",
      "---  ------                   --------------  -----  \n",
      " 0   Make_Model               26394 non-null  object \n",
      " 1   Make                     26394 non-null  object \n",
      " 2   Model                    26394 non-null  object \n",
      " 3   Location                 26394 non-null  object \n",
      " 4   Price                    26394 non-null  float64\n",
      " 5   Body_Type                26394 non-null  object \n",
      " 6   Type                     26394 non-null  object \n",
      " 7   Doors                    26394 non-null  object \n",
      " 8   Offer number             21172 non-null  object \n",
      " 9   Warranty                 14498 non-null  object \n",
      " 10  Mileage                  26393 non-null  object \n",
      " 11  First registration       26393 non-null  object \n",
      " 12  Gearbox                  26177 non-null  object \n",
      " 13  Fuel type                24930 non-null  object \n",
      " 14  Colour                   24780 non-null  object \n",
      " 15  Paint                    13124 non-null  object \n",
      " 16  desc                     25835 non-null  object \n",
      " 17  seller                   26394 non-null  object \n",
      " 18  Seats                    23479 non-null  object \n",
      " 19  Power                    25859 non-null  object \n",
      " 20  Engine size              25224 non-null  object \n",
      " 21  Gears                    17561 non-null  object \n",
      " 22  CO2 emissions            17144 non-null  object \n",
      " 23  Manufacturer colour      19919 non-null  object \n",
      " 24  Drivetrain               15267 non-null  object \n",
      " 25  Cylinders                17390 non-null  object \n",
      " 26  Fuel consumption         21744 non-null  object \n",
      " 27  Comfort and Convenience  23511 non-null  object \n",
      " 28  Entertainment and Media  21817 non-null  object \n",
      " 29  Safety and Security      23504 non-null  object \n",
      " 30  Extras                   21590 non-null  object \n",
      " 31  Empty weight             16394 non-null  object \n",
      " 32  Model code               7376 non-null   object \n",
      " 33  General inspection       11177 non-null  object \n",
      " 34  Last service             1894 non-null   object \n",
      " 35  Full service history     11316 non-null  object \n",
      " 36  Non-smoker vehicle       10403 non-null  object \n",
      " 37  Emission class           16379 non-null  object \n",
      " 38  Emissions sticker        8441 non-null   object \n",
      " 39  Upholstery colour        13253 non-null  object \n",
      " 40  Upholstery               16995 non-null  object \n",
      " 41  Production date          5212 non-null   float64\n",
      " 42  Previous owner           12604 non-null  object \n",
      " 43  Other fuel types         1809 non-null   object \n",
      " 44  Power consumption        308 non-null    object \n",
      " 45  Energy efficiency class  6741 non-null   object \n",
      " 46  CO2 efficiency           6741 non-null   object \n",
      " 47  Fuel consumption WLTP    76 non-null     object \n",
      " 48  CO2 emissions WLTP       84 non-null     object \n",
      " 49  Available from           243 non-null    object \n",
      " 50  Taxi or rental car       322 non-null    object \n",
      " 51  Availability             263 non-null    object \n",
      " 52  Last timing belt change  556 non-null    object \n",
      " 53  Electric Range WLTP      7 non-null      object \n",
      " 54  Power consumption WLTP   7 non-null      object \n",
      " 55  Battery Ownership        5 non-null      object \n",
      "dtypes: float64(2), object(54)\n",
      "memory usage: 11.5+ MB\n"
     ]
    }
   ],
   "source": [
    "# Country version\n",
    "\n",
    "# Fix the name\n",
    "df.rename(columns={'Country version': 'Country_Version'}, inplace=True)\n",
    "\n",
    "# Data is not meaningful. \n",
    "df.drop('Country_Version', inplace=True, axis=1)\n",
    "df.info()\n"
   ]
  },
  {
   "cell_type": "code",
   "execution_count": 23,
   "metadata": {},
   "outputs": [
    {
     "name": "stdout",
     "output_type": "stream",
     "text": [
      "<class 'pandas.core.frame.DataFrame'>\n",
      "Int64Index: 26394 entries, 0 to 29478\n",
      "Data columns (total 55 columns):\n",
      " #   Column                   Non-Null Count  Dtype  \n",
      "---  ------                   --------------  -----  \n",
      " 0   Make_Model               26394 non-null  object \n",
      " 1   Make                     26394 non-null  object \n",
      " 2   Model                    26394 non-null  object \n",
      " 3   Location                 26394 non-null  object \n",
      " 4   Price                    26394 non-null  float64\n",
      " 5   Body_Type                26394 non-null  object \n",
      " 6   Type                     26394 non-null  object \n",
      " 7   Doors                    26394 non-null  object \n",
      " 8   Warranty                 14498 non-null  object \n",
      " 9   Mileage                  26393 non-null  object \n",
      " 10  First registration       26393 non-null  object \n",
      " 11  Gearbox                  26177 non-null  object \n",
      " 12  Fuel type                24930 non-null  object \n",
      " 13  Colour                   24780 non-null  object \n",
      " 14  Paint                    13124 non-null  object \n",
      " 15  desc                     25835 non-null  object \n",
      " 16  seller                   26394 non-null  object \n",
      " 17  Seats                    23479 non-null  object \n",
      " 18  Power                    25859 non-null  object \n",
      " 19  Engine size              25224 non-null  object \n",
      " 20  Gears                    17561 non-null  object \n",
      " 21  CO2 emissions            17144 non-null  object \n",
      " 22  Manufacturer colour      19919 non-null  object \n",
      " 23  Drivetrain               15267 non-null  object \n",
      " 24  Cylinders                17390 non-null  object \n",
      " 25  Fuel consumption         21744 non-null  object \n",
      " 26  Comfort and Convenience  23511 non-null  object \n",
      " 27  Entertainment and Media  21817 non-null  object \n",
      " 28  Safety and Security      23504 non-null  object \n",
      " 29  Extras                   21590 non-null  object \n",
      " 30  Empty weight             16394 non-null  object \n",
      " 31  Model code               7376 non-null   object \n",
      " 32  General inspection       11177 non-null  object \n",
      " 33  Last service             1894 non-null   object \n",
      " 34  Full service history     11316 non-null  object \n",
      " 35  Non-smoker vehicle       10403 non-null  object \n",
      " 36  Emission class           16379 non-null  object \n",
      " 37  Emissions sticker        8441 non-null   object \n",
      " 38  Upholstery colour        13253 non-null  object \n",
      " 39  Upholstery               16995 non-null  object \n",
      " 40  Production date          5212 non-null   float64\n",
      " 41  Previous owner           12604 non-null  object \n",
      " 42  Other fuel types         1809 non-null   object \n",
      " 43  Power consumption        308 non-null    object \n",
      " 44  Energy efficiency class  6741 non-null   object \n",
      " 45  CO2 efficiency           6741 non-null   object \n",
      " 46  Fuel consumption WLTP    76 non-null     object \n",
      " 47  CO2 emissions WLTP       84 non-null     object \n",
      " 48  Available from           243 non-null    object \n",
      " 49  Taxi or rental car       322 non-null    object \n",
      " 50  Availability             263 non-null    object \n",
      " 51  Last timing belt change  556 non-null    object \n",
      " 52  Electric Range WLTP      7 non-null      object \n",
      " 53  Power consumption WLTP   7 non-null      object \n",
      " 54  Battery Ownership        5 non-null      object \n",
      "dtypes: float64(2), object(53)\n",
      "memory usage: 11.3+ MB\n"
     ]
    }
   ],
   "source": [
    "# Offer number\n",
    "\n",
    "# Fix the name\n",
    "df.rename(columns={'Offer number': 'Offer_Number'}, inplace=True)\n",
    "\n",
    "# Data is not meaningful.\n",
    "df.drop('Offer_Number', inplace=True, axis=1)\n",
    "df.info()\n",
    "\n",
    "#\n",
    "# TODO\n",
    "#"
   ]
  },
  {
   "cell_type": "code",
   "execution_count": 24,
   "metadata": {},
   "outputs": [
    {
     "data": {
      "text/plain": [
       "12.0     9072\n",
       "24.0     1117\n",
       "60.0      935\n",
       "6.0       391\n",
       "36.0      229\n",
       "         ... \n",
       "43.0        1\n",
       "65.0        1\n",
       "99.0        1\n",
       "122.0       1\n",
       "44.0        1\n",
       "Name: Warranty, Length: 61, dtype: int64"
      ]
     },
     "execution_count": 24,
     "metadata": {},
     "output_type": "execute_result"
    }
   ],
   "source": [
    "# Warranty\n",
    "\n",
    "# Cells in this column are in list format and there are new line characters. Let's clean them\n",
    "df.Warranty = df.Warranty.apply(lambda x: str(x).replace('[\\'\\\\n, ', '').replace(', \\\\n\\']', '').replace(' months', '').replace('Yes', 'nan'))\n",
    "df['Warranty'] = pd.to_numeric(df['Warranty'], errors='coerce')\n",
    "\n",
    "df.Warranty.value_counts()\n"
   ]
  },
  {
   "cell_type": "code",
   "execution_count": 25,
   "metadata": {},
   "outputs": [
    {
     "data": {
      "text/plain": [
       "12     22198\n",
       "60      1303\n",
       "24      1257\n",
       "6        492\n",
       "36       365\n",
       "       ...  \n",
       "49         1\n",
       "55         1\n",
       "122        1\n",
       "53         1\n",
       "44         1\n",
       "Name: Warranty, Length: 61, dtype: int64"
      ]
     },
     "execution_count": 25,
     "metadata": {},
     "output_type": "execute_result"
    }
   ],
   "source": [
    "# Warranty\n",
    "\n",
    "for group1 in list(df[\"Make_Model\"].unique()):    \n",
    "        \n",
    "    cond = (df[\"Make_Model\"] == group1)\n",
    "    mode = list(df[cond][\"Warranty\"].mode())\n",
    "    if mode != []:\n",
    "        df.loc[cond, \"Warranty\"] = df.loc[cond, \"Warranty\"].fillna(df[cond][\"Warranty\"].mode()[0])\n",
    "    else:\n",
    "        df.loc[cond, \"Warranty\"] = df.loc[cond, \"Warranty\"].fillna(df[\"Warranty\"].mode()[0])\n",
    "        \n",
    "\n",
    "df['Warranty'] = df['Warranty'].astype(int)\n",
    "df.Warranty.value_counts()"
   ]
  },
  {
   "cell_type": "code",
   "execution_count": 26,
   "metadata": {},
   "outputs": [
    {
     "data": {
      "text/plain": [
       "2    22228\n",
       "6     1398\n",
       "3     1376\n",
       "1      866\n",
       "4      436\n",
       "5       86\n",
       "7        4\n",
       "Name: Warranty_Category, dtype: int64"
      ]
     },
     "execution_count": 26,
     "metadata": {},
     "output_type": "execute_result"
    }
   ],
   "source": [
    "# Warranty\n",
    "\n",
    "## Warranty sütununu 6'ya kadar 1, 6 dan 12 ye kadar 2, 12 den 24 e kadar 3, 24 den 36 ya kadar 4, \n",
    "## 36 dan 48 e kadar 5, 48 den 96 ya kadar 6 ve 96 dan büyükse 7 vererek grup yapildi\n",
    "\n",
    "bins = [-1, 6, 12, 24, 36, 48, 96, float(\"inf\")]\n",
    "labels = [1, 2, 3, 4, 5, 6, 7]\n",
    "df['Warranty_Category'] = pd.cut(df['Warranty'], bins=bins, labels=labels)\n",
    "\n",
    "df.Warranty_Category.value_counts()"
   ]
  },
  {
   "cell_type": "code",
   "execution_count": 27,
   "metadata": {},
   "outputs": [
    {
     "name": "stdout",
     "output_type": "stream",
     "text": [
      "<class 'pandas.core.frame.DataFrame'>\n",
      "Int64Index: 26394 entries, 0 to 29478\n",
      "Data columns (total 55 columns):\n",
      " #   Column                   Non-Null Count  Dtype   \n",
      "---  ------                   --------------  -----   \n",
      " 0   Make_Model               26394 non-null  object  \n",
      " 1   Make                     26394 non-null  object  \n",
      " 2   Model                    26394 non-null  object  \n",
      " 3   Location                 26394 non-null  object  \n",
      " 4   Price                    26394 non-null  float64 \n",
      " 5   Body_Type                26394 non-null  object  \n",
      " 6   Type                     26394 non-null  object  \n",
      " 7   Doors                    26394 non-null  object  \n",
      " 8   Mileage                  26393 non-null  object  \n",
      " 9   First registration       26393 non-null  object  \n",
      " 10  Gearbox                  26177 non-null  object  \n",
      " 11  Fuel type                24930 non-null  object  \n",
      " 12  Colour                   24780 non-null  object  \n",
      " 13  Paint                    13124 non-null  object  \n",
      " 14  desc                     25835 non-null  object  \n",
      " 15  seller                   26394 non-null  object  \n",
      " 16  Seats                    23479 non-null  object  \n",
      " 17  Power                    25859 non-null  object  \n",
      " 18  Engine size              25224 non-null  object  \n",
      " 19  Gears                    17561 non-null  object  \n",
      " 20  CO2 emissions            17144 non-null  object  \n",
      " 21  Manufacturer colour      19919 non-null  object  \n",
      " 22  Drivetrain               15267 non-null  object  \n",
      " 23  Cylinders                17390 non-null  object  \n",
      " 24  Fuel consumption         21744 non-null  object  \n",
      " 25  Comfort and Convenience  23511 non-null  object  \n",
      " 26  Entertainment and Media  21817 non-null  object  \n",
      " 27  Safety and Security      23504 non-null  object  \n",
      " 28  Extras                   21590 non-null  object  \n",
      " 29  Empty weight             16394 non-null  object  \n",
      " 30  Model code               7376 non-null   object  \n",
      " 31  General inspection       11177 non-null  object  \n",
      " 32  Last service             1894 non-null   object  \n",
      " 33  Full service history     11316 non-null  object  \n",
      " 34  Non-smoker vehicle       10403 non-null  object  \n",
      " 35  Emission class           16379 non-null  object  \n",
      " 36  Emissions sticker        8441 non-null   object  \n",
      " 37  Upholstery colour        13253 non-null  object  \n",
      " 38  Upholstery               16995 non-null  object  \n",
      " 39  Production date          5212 non-null   float64 \n",
      " 40  Previous owner           12604 non-null  object  \n",
      " 41  Other fuel types         1809 non-null   object  \n",
      " 42  Power consumption        308 non-null    object  \n",
      " 43  Energy efficiency class  6741 non-null   object  \n",
      " 44  CO2 efficiency           6741 non-null   object  \n",
      " 45  Fuel consumption WLTP    76 non-null     object  \n",
      " 46  CO2 emissions WLTP       84 non-null     object  \n",
      " 47  Available from           243 non-null    object  \n",
      " 48  Taxi or rental car       322 non-null    object  \n",
      " 49  Availability             263 non-null    object  \n",
      " 50  Last timing belt change  556 non-null    object  \n",
      " 51  Electric Range WLTP      7 non-null      object  \n",
      " 52  Power consumption WLTP   7 non-null      object  \n",
      " 53  Battery Ownership        5 non-null      object  \n",
      " 54  Warranty_Category        26394 non-null  category\n",
      "dtypes: category(1), float64(2), object(52)\n",
      "memory usage: 11.1+ MB\n"
     ]
    }
   ],
   "source": [
    "# Warranty\n",
    "\n",
    "# Since we have a new one, we don't need the old one anymore\n",
    "df.drop('Warranty', inplace=True, axis=1)\n",
    "\n",
    "df.info()"
   ]
  },
  {
   "cell_type": "code",
   "execution_count": 28,
   "metadata": {},
   "outputs": [
    {
     "name": "stdout",
     "output_type": "stream",
     "text": [
      "<class 'pandas.core.frame.DataFrame'>\n",
      "Int64Index: 26394 entries, 0 to 29478\n",
      "Data columns (total 56 columns):\n",
      " #   Column                   Non-Null Count  Dtype   \n",
      "---  ------                   --------------  -----   \n",
      " 0   Make_Model               26394 non-null  object  \n",
      " 1   Make                     26394 non-null  object  \n",
      " 2   Model                    26394 non-null  object  \n",
      " 3   Location                 26394 non-null  object  \n",
      " 4   Price                    26394 non-null  float64 \n",
      " 5   Body_Type                26394 non-null  object  \n",
      " 6   Type                     26394 non-null  object  \n",
      " 7   Doors                    26394 non-null  object  \n",
      " 8   Mileage                  26393 non-null  object  \n",
      " 9   First_Registration       26393 non-null  object  \n",
      " 10  Gearbox                  26177 non-null  object  \n",
      " 11  Fuel type                24930 non-null  object  \n",
      " 12  Colour                   24780 non-null  object  \n",
      " 13  Paint                    13124 non-null  object  \n",
      " 14  desc                     25835 non-null  object  \n",
      " 15  seller                   26394 non-null  object  \n",
      " 16  Seats                    23479 non-null  object  \n",
      " 17  Power                    25859 non-null  object  \n",
      " 18  Engine size              25224 non-null  object  \n",
      " 19  Gears                    17561 non-null  object  \n",
      " 20  CO2 emissions            17144 non-null  object  \n",
      " 21  Manufacturer colour      19919 non-null  object  \n",
      " 22  Drivetrain               15267 non-null  object  \n",
      " 23  Cylinders                17390 non-null  object  \n",
      " 24  Fuel consumption         21744 non-null  object  \n",
      " 25  Comfort and Convenience  23511 non-null  object  \n",
      " 26  Entertainment and Media  21817 non-null  object  \n",
      " 27  Safety and Security      23504 non-null  object  \n",
      " 28  Extras                   21590 non-null  object  \n",
      " 29  Empty weight             16394 non-null  object  \n",
      " 30  Model code               7376 non-null   object  \n",
      " 31  General inspection       11177 non-null  object  \n",
      " 32  Last service             1894 non-null   object  \n",
      " 33  Full service history     11316 non-null  object  \n",
      " 34  Non-smoker vehicle       10403 non-null  object  \n",
      " 35  Emission class           16379 non-null  object  \n",
      " 36  Emissions sticker        8441 non-null   object  \n",
      " 37  Upholstery colour        13253 non-null  object  \n",
      " 38  Upholstery               16995 non-null  object  \n",
      " 39  Production date          5212 non-null   float64 \n",
      " 40  Previous owner           12604 non-null  object  \n",
      " 41  Other fuel types         1809 non-null   object  \n",
      " 42  Power consumption        308 non-null    object  \n",
      " 43  Energy efficiency class  6741 non-null   object  \n",
      " 44  CO2 efficiency           6741 non-null   object  \n",
      " 45  Fuel consumption WLTP    76 non-null     object  \n",
      " 46  CO2 emissions WLTP       84 non-null     object  \n",
      " 47  Available from           243 non-null    object  \n",
      " 48  Taxi or rental car       322 non-null    object  \n",
      " 49  Availability             263 non-null    object  \n",
      " 50  Last timing belt change  556 non-null    object  \n",
      " 51  Electric Range WLTP      7 non-null      object  \n",
      " 52  Power consumption WLTP   7 non-null      object  \n",
      " 53  Battery Ownership        5 non-null      object  \n",
      " 54  Warranty_Category        26394 non-null  category\n",
      " 55  First_Registration_Year  26393 non-null  object  \n",
      "dtypes: category(1), float64(2), object(53)\n",
      "memory usage: 11.3+ MB\n"
     ]
    }
   ],
   "source": [
    "# First registration\n",
    "\n",
    "# Fix the name\n",
    "df.rename(columns={'First registration': 'First_Registration'}, inplace=True)\n",
    "\n",
    "# Split into Month and Year and keep only Year\n",
    "First_registration =  df['First_Registration'].str.split(\"/\", n=1, expand=True)\n",
    "First_registration.columns = [\"First_Registration_Month\", \"First_Registration_Year\"]\n",
    "df[\"First_Registration_Year\"] = First_registration[\"First_Registration_Year\"]\n",
    "\n",
    "df.info()\n",
    "\n"
   ]
  },
  {
   "cell_type": "code",
   "execution_count": 29,
   "metadata": {},
   "outputs": [
    {
     "data": {
      "text/plain": [
       "2019    3454\n",
       "2018    3332\n",
       "2022    2508\n",
       "2021    2376\n",
       "2017    2344\n",
       "        ... \n",
       "2202       1\n",
       "NaN        1\n",
       "2023       1\n",
       "1929       1\n",
       "1900       1\n",
       "Name: First_Registration_Year, Length: 75, dtype: int64"
      ]
     },
     "execution_count": 29,
     "metadata": {},
     "output_type": "execute_result"
    }
   ],
   "source": [
    "# First registration\n",
    "df[\"First_Registration_Year\"].replace(to_replace=\"NaN\", value=np.nan)\n",
    "df.First_Registration_Year.value_counts(dropna = False)"
   ]
  },
  {
   "cell_type": "code",
   "execution_count": 30,
   "metadata": {},
   "outputs": [
    {
     "data": {
      "text/plain": [
       "2019    3454\n",
       "2018    3332\n",
       "2022    2508\n",
       "2021    2377\n",
       "2017    2344\n",
       "        ... \n",
       "1946       1\n",
       "2025       1\n",
       "2023       1\n",
       "1929       1\n",
       "1900       1\n",
       "Name: First_Registration_Year, Length: 74, dtype: int64"
      ]
     },
     "execution_count": 30,
     "metadata": {},
     "output_type": "execute_result"
    }
   ],
   "source": [
    "# First registration\n",
    "for group1 in list(df[\"Make_Model\"].unique()):    \n",
    "        \n",
    "    cond = (df[\"Make_Model\"]==group1)\n",
    "    mode = list(df[cond][\"First_Registration_Year\"].mode())\n",
    "    if mode != []:\n",
    "        df.loc[cond, \"First_Registration_Year\"] = df.loc[cond, \"First_Registration_Year\"].fillna(df[cond][\"First_Registration_Year\"].mode()[0])\n",
    "    else:\n",
    "        df.loc[cond, \"First_Registration_Year\"] = df.loc[cond, \"First_Registration_Year\"].fillna(df[\"First_Registration_Year\"].mode()[0])\n",
    "        \n",
    "df.First_Registration_Year.value_counts()\n"
   ]
  },
  {
   "cell_type": "code",
   "execution_count": 31,
   "metadata": {},
   "outputs": [
    {
     "name": "stdout",
     "output_type": "stream",
     "text": [
      "<class 'pandas.core.frame.DataFrame'>\n",
      "Int64Index: 26394 entries, 0 to 29478\n",
      "Data columns (total 56 columns):\n",
      " #   Column                   Non-Null Count  Dtype   \n",
      "---  ------                   --------------  -----   \n",
      " 0   Make_Model               26394 non-null  object  \n",
      " 1   Make                     26394 non-null  object  \n",
      " 2   Model                    26394 non-null  object  \n",
      " 3   Location                 26394 non-null  object  \n",
      " 4   Price                    26394 non-null  float64 \n",
      " 5   Body_Type                26394 non-null  object  \n",
      " 6   Type                     26394 non-null  object  \n",
      " 7   Doors                    26394 non-null  object  \n",
      " 8   Mileage                  26393 non-null  object  \n",
      " 9   First_Registration       26393 non-null  object  \n",
      " 10  Gearbox                  26177 non-null  object  \n",
      " 11  Fuel type                24930 non-null  object  \n",
      " 12  Colour                   24780 non-null  object  \n",
      " 13  Paint                    13124 non-null  object  \n",
      " 14  desc                     25835 non-null  object  \n",
      " 15  seller                   26394 non-null  object  \n",
      " 16  Seats                    23479 non-null  object  \n",
      " 17  Power                    25859 non-null  object  \n",
      " 18  Engine size              25224 non-null  object  \n",
      " 19  Gears                    17561 non-null  object  \n",
      " 20  CO2 emissions            17144 non-null  object  \n",
      " 21  Manufacturer colour      19919 non-null  object  \n",
      " 22  Drivetrain               15267 non-null  object  \n",
      " 23  Cylinders                17390 non-null  object  \n",
      " 24  Fuel consumption         21744 non-null  object  \n",
      " 25  Comfort and Convenience  23511 non-null  object  \n",
      " 26  Entertainment and Media  21817 non-null  object  \n",
      " 27  Safety and Security      23504 non-null  object  \n",
      " 28  Extras                   21590 non-null  object  \n",
      " 29  Empty weight             16394 non-null  object  \n",
      " 30  Model code               7376 non-null   object  \n",
      " 31  General inspection       11177 non-null  object  \n",
      " 32  Last service             1894 non-null   object  \n",
      " 33  Full service history     11316 non-null  object  \n",
      " 34  Non-smoker vehicle       10403 non-null  object  \n",
      " 35  Emission class           16379 non-null  object  \n",
      " 36  Emissions sticker        8441 non-null   object  \n",
      " 37  Upholstery colour        13253 non-null  object  \n",
      " 38  Upholstery               16995 non-null  object  \n",
      " 39  Production date          5212 non-null   float64 \n",
      " 40  Previous owner           12604 non-null  object  \n",
      " 41  Other fuel types         1809 non-null   object  \n",
      " 42  Power consumption        308 non-null    object  \n",
      " 43  Energy efficiency class  6741 non-null   object  \n",
      " 44  CO2 efficiency           6741 non-null   object  \n",
      " 45  Fuel consumption WLTP    76 non-null     object  \n",
      " 46  CO2 emissions WLTP       84 non-null     object  \n",
      " 47  Available from           243 non-null    object  \n",
      " 48  Taxi or rental car       322 non-null    object  \n",
      " 49  Availability             263 non-null    object  \n",
      " 50  Last timing belt change  556 non-null    object  \n",
      " 51  Electric Range WLTP      7 non-null      object  \n",
      " 52  Power consumption WLTP   7 non-null      object  \n",
      " 53  Battery Ownership        5 non-null      object  \n",
      " 54  Warranty_Category        26394 non-null  category\n",
      " 55  First_Registration_Year  26394 non-null  int16   \n",
      "dtypes: category(1), float64(2), int16(1), object(52)\n",
      "memory usage: 11.2+ MB\n"
     ]
    }
   ],
   "source": [
    "# First registration Year\n",
    "df[\"First_Registration_Year\"] =  pd.to_numeric(df['First_Registration_Year'], downcast=\"integer\")\n",
    "\n",
    "df.info()"
   ]
  },
  {
   "cell_type": "code",
   "execution_count": 32,
   "metadata": {},
   "outputs": [
    {
     "data": {
      "text/plain": [
       "1962       3\n",
       "1963       4\n",
       "1961       5\n",
       "1980       6\n",
       "1981       7\n",
       "        ... \n",
       "2017    2344\n",
       "2021    2377\n",
       "2022    2508\n",
       "2018    3332\n",
       "2019    3454\n",
       "Name: First_Registration_Year, Length: 63, dtype: int64"
      ]
     },
     "execution_count": 32,
     "metadata": {},
     "output_type": "execute_result"
    }
   ],
   "source": [
    "# First registration Year\n",
    "\n",
    "# Fix some outliers\n",
    "df.loc[df['First_Registration_Year'] < 1960, 'First_Registration_Year'] = 1960\n",
    "df.loc[df['First_Registration_Year'] > 2022, 'First_Registration_Year'] = 2020\n",
    "\n",
    "# Drop the old column\n",
    "df.drop('First_Registration', inplace=True, axis=1)\n",
    "\n",
    "df.First_Registration_Year.value_counts().sort_values()"
   ]
  },
  {
   "cell_type": "code",
   "execution_count": 33,
   "metadata": {},
   "outputs": [
    {
     "data": {
      "text/plain": [
       "0         6\n",
       "3         2\n",
       "4         7\n",
       "5        17\n",
       "6         4\n",
       "         ..\n",
       "29474     3\n",
       "29475    18\n",
       "29476    11\n",
       "29477     5\n",
       "29478    20\n",
       "Name: Age, Length: 26394, dtype: int16"
      ]
     },
     "execution_count": 33,
     "metadata": {},
     "output_type": "execute_result"
    }
   ],
   "source": [
    "# Age\n",
    "\n",
    "df[\"Age\"] = 2022 - df[\"First_Registration_Year\"]\n",
    "df[\"Age\"]\n"
   ]
  },
  {
   "cell_type": "code",
   "execution_count": 34,
   "metadata": {},
   "outputs": [
    {
     "name": "stdout",
     "output_type": "stream",
     "text": [
      "-8.5 19.5\n"
     ]
    }
   ],
   "source": [
    "# Age outliers\n",
    "\n",
    "# Handle outliers\n",
    "Q1 = df[\"Age\"].quantile(0.25)\n",
    "Q3 = df[\"Age\"].quantile(0.75)\n",
    "\n",
    "IQR = Q3 - Q1\n",
    "\n",
    "lower_bound = Q1 - 1.5*IQR\n",
    "upper_bound = Q3 + 1.5*IQR\n",
    "\n",
    "print(str(lower_bound) + ' ' + str(upper_bound))"
   ]
  },
  {
   "cell_type": "code",
   "execution_count": 35,
   "metadata": {},
   "outputs": [],
   "source": [
    "# Age\n",
    "\n",
    "outliers = df.loc[(df[\"Age\"] < lower_bound) | (df[\"Age\"] > upper_bound)].sort_values(by='Age',ascending=False)\n"
   ]
  },
  {
   "cell_type": "code",
   "execution_count": 36,
   "metadata": {},
   "outputs": [],
   "source": [
    "# Age\n",
    "\n",
    "df.drop(outliers.index, inplace=True)"
   ]
  },
  {
   "cell_type": "code",
   "execution_count": 37,
   "metadata": {},
   "outputs": [
    {
     "name": "stdout",
     "output_type": "stream",
     "text": [
      "<class 'pandas.core.series.Series'>\n",
      "Int64Index: 24719 entries, 0 to 29477\n",
      "Series name: Mileage\n",
      "Non-Null Count  Dtype \n",
      "--------------  ----- \n",
      "24719 non-null  object\n",
      "dtypes: object(1)\n",
      "memory usage: 386.2+ KB\n"
     ]
    }
   ],
   "source": [
    "# Mileage\n",
    "\n",
    "df.Mileage = df.Mileage.astype(str)\n",
    "\n",
    "df.Mileage = df.Mileage.str.replace(',', '').str.replace(' km', '')\n",
    "df[\"Mileage\"] = df[\"Mileage\"].replace(to_replace=\"nan\", value=np.nan)\n",
    "\n",
    "# Fill NaN values of Mileage wrt Age\n",
    "for group in list(df[\"Age\"].unique()):\n",
    "    cond = (df[\"Age\"] == group)\n",
    "    mode = list(df[cond][\"Mileage\"].mode())\n",
    "    if mode != []:\n",
    "        df.loc[cond, \"Mileage\"] = df.loc[cond, \"Mileage\"].fillna(df[cond][\"Mileage\"].mode()[0])\n",
    "    else:\n",
    "        df.loc[cond, \"Mileage\"] = df.loc[cond, \"Mileage\"].fillna(df[\"Mileage\"].mode()[0])\n",
    "\n",
    "df.Mileage.info()\n"
   ]
  },
  {
   "cell_type": "code",
   "execution_count": 38,
   "metadata": {},
   "outputs": [
    {
     "data": {
      "text/plain": [
       "10        532\n",
       "1         152\n",
       "50        121\n",
       "5         102\n",
       "100        96\n",
       "         ... \n",
       "14995       1\n",
       "96368       1\n",
       "118049      1\n",
       "44693       1\n",
       "94343       1\n",
       "Name: Mileage, Length: 12862, dtype: int64"
      ]
     },
     "execution_count": 38,
     "metadata": {},
     "output_type": "execute_result"
    }
   ],
   "source": [
    "df.Mileage.value_counts()"
   ]
  },
  {
   "cell_type": "code",
   "execution_count": 39,
   "metadata": {},
   "outputs": [
    {
     "name": "stdout",
     "output_type": "stream",
     "text": [
      "<class 'pandas.core.frame.DataFrame'>\n",
      "Int64Index: 24719 entries, 0 to 29477\n",
      "Data columns (total 56 columns):\n",
      " #   Column                   Non-Null Count  Dtype   \n",
      "---  ------                   --------------  -----   \n",
      " 0   Make_Model               24719 non-null  object  \n",
      " 1   Make                     24719 non-null  object  \n",
      " 2   Model                    24719 non-null  object  \n",
      " 3   Location                 24719 non-null  object  \n",
      " 4   Price                    24719 non-null  float64 \n",
      " 5   Body_Type                24719 non-null  object  \n",
      " 6   Type                     24719 non-null  object  \n",
      " 7   Doors                    24719 non-null  object  \n",
      " 8   Mileage                  24719 non-null  int32   \n",
      " 9   Gearbox                  24574 non-null  object  \n",
      " 10  Fuel type                23257 non-null  object  \n",
      " 11  Colour                   23178 non-null  object  \n",
      " 12  Paint                    12451 non-null  object  \n",
      " 13  desc                     24235 non-null  object  \n",
      " 14  seller                   24719 non-null  object  \n",
      " 15  Seats                    22023 non-null  object  \n",
      " 16  Power                    24246 non-null  object  \n",
      " 17  Engine size              23764 non-null  object  \n",
      " 18  Gears                    16480 non-null  object  \n",
      " 19  CO2 emissions            16660 non-null  object  \n",
      " 20  Manufacturer colour      19432 non-null  object  \n",
      " 21  Drivetrain               14332 non-null  object  \n",
      " 22  Cylinders                16092 non-null  object  \n",
      " 23  Fuel consumption         20880 non-null  object  \n",
      " 24  Comfort and Convenience  22353 non-null  object  \n",
      " 25  Entertainment and Media  20947 non-null  object  \n",
      " 26  Safety and Security      22370 non-null  object  \n",
      " 27  Extras                   20504 non-null  object  \n",
      " 28  Empty weight             15405 non-null  object  \n",
      " 29  Model code               7233 non-null   object  \n",
      " 30  General inspection       10473 non-null  object  \n",
      " 31  Last service             1558 non-null   object  \n",
      " 32  Full service history     10874 non-null  object  \n",
      " 33  Non-smoker vehicle       9882 non-null   object  \n",
      " 34  Emission class           15735 non-null  object  \n",
      " 35  Emissions sticker        8209 non-null   object  \n",
      " 36  Upholstery colour        12252 non-null  object  \n",
      " 37  Upholstery               15909 non-null  object  \n",
      " 38  Production date          5093 non-null   float64 \n",
      " 39  Previous owner           11921 non-null  object  \n",
      " 40  Other fuel types         1808 non-null   object  \n",
      " 41  Power consumption        308 non-null    object  \n",
      " 42  Energy efficiency class  6722 non-null   object  \n",
      " 43  CO2 efficiency           6722 non-null   object  \n",
      " 44  Fuel consumption WLTP    76 non-null     object  \n",
      " 45  CO2 emissions WLTP       84 non-null     object  \n",
      " 46  Available from           243 non-null    object  \n",
      " 47  Taxi or rental car       322 non-null    object  \n",
      " 48  Availability             252 non-null    object  \n",
      " 49  Last timing belt change  362 non-null    object  \n",
      " 50  Electric Range WLTP      7 non-null      object  \n",
      " 51  Power consumption WLTP   7 non-null      object  \n",
      " 52  Battery Ownership        5 non-null      object  \n",
      " 53  Warranty_Category        24719 non-null  category\n",
      " 54  First_Registration_Year  24719 non-null  int16   \n",
      " 55  Age                      24719 non-null  int16   \n",
      "dtypes: category(1), float64(2), int16(2), int32(1), object(50)\n",
      "memory usage: 10.2+ MB\n"
     ]
    }
   ],
   "source": [
    "# Mileage\n",
    "\n",
    "# convert Mileage to int\n",
    "df[\"Mileage\"] =  pd.to_numeric(df['Mileage'], downcast=\"integer\")\n",
    "\n",
    "df.info()"
   ]
  },
  {
   "cell_type": "code",
   "execution_count": 40,
   "metadata": {},
   "outputs": [
    {
     "name": "stdout",
     "output_type": "stream",
     "text": [
      "-101834.0 228390.0\n"
     ]
    }
   ],
   "source": [
    "# Mileage Outliers\n",
    "\n",
    "Q1 = df[\"Mileage\"].quantile(0.25)\n",
    "Q3 = df[\"Mileage\"].quantile(0.75)\n",
    "\n",
    "IQR = Q3 - Q1\n",
    "\n",
    "lower_bound = Q1 - 1.5*IQR\n",
    "upper_bound = Q3 + 1.5*IQR\n",
    "\n",
    "print(str(lower_bound) + ' ' + str(upper_bound))"
   ]
  },
  {
   "cell_type": "code",
   "execution_count": 41,
   "metadata": {},
   "outputs": [
    {
     "data": {
      "text/html": [
       "<div>\n",
       "<style scoped>\n",
       "    .dataframe tbody tr th:only-of-type {\n",
       "        vertical-align: middle;\n",
       "    }\n",
       "\n",
       "    .dataframe tbody tr th {\n",
       "        vertical-align: top;\n",
       "    }\n",
       "\n",
       "    .dataframe thead th {\n",
       "        text-align: right;\n",
       "    }\n",
       "</style>\n",
       "<table border=\"1\" class=\"dataframe\">\n",
       "  <thead>\n",
       "    <tr style=\"text-align: right;\">\n",
       "      <th></th>\n",
       "      <th>Make_Model</th>\n",
       "      <th>Make</th>\n",
       "      <th>Model</th>\n",
       "      <th>Location</th>\n",
       "      <th>Price</th>\n",
       "      <th>Body_Type</th>\n",
       "      <th>Type</th>\n",
       "      <th>Doors</th>\n",
       "      <th>Mileage</th>\n",
       "      <th>Gearbox</th>\n",
       "      <th>...</th>\n",
       "      <th>Available from</th>\n",
       "      <th>Taxi or rental car</th>\n",
       "      <th>Availability</th>\n",
       "      <th>Last timing belt change</th>\n",
       "      <th>Electric Range WLTP</th>\n",
       "      <th>Power consumption WLTP</th>\n",
       "      <th>Battery Ownership</th>\n",
       "      <th>Warranty_Category</th>\n",
       "      <th>First_Registration_Year</th>\n",
       "      <th>Age</th>\n",
       "    </tr>\n",
       "  </thead>\n",
       "  <tbody>\n",
       "    <tr>\n",
       "      <th>19322</th>\n",
       "      <td>Nissan Micra</td>\n",
       "      <td>Nissan</td>\n",
       "      <td>Micra</td>\n",
       "      <td>ES</td>\n",
       "      <td>14400.0</td>\n",
       "      <td>Compact</td>\n",
       "      <td>Used</td>\n",
       "      <td>5</td>\n",
       "      <td>1440000</td>\n",
       "      <td>[\\nManual\\n]</td>\n",
       "      <td>...</td>\n",
       "      <td>NaN</td>\n",
       "      <td>NaN</td>\n",
       "      <td>NaN</td>\n",
       "      <td>NaN</td>\n",
       "      <td>NaN</td>\n",
       "      <td>NaN</td>\n",
       "      <td>NaN</td>\n",
       "      <td>2</td>\n",
       "      <td>2019</td>\n",
       "      <td>3</td>\n",
       "    </tr>\n",
       "    <tr>\n",
       "      <th>12339</th>\n",
       "      <td>SEAT Ibiza</td>\n",
       "      <td>SEAT</td>\n",
       "      <td>Ibiza</td>\n",
       "      <td>ES</td>\n",
       "      <td>10200.0</td>\n",
       "      <td>Compact</td>\n",
       "      <td>Used</td>\n",
       "      <td>5</td>\n",
       "      <td>1199900</td>\n",
       "      <td>[\\nManual\\n]</td>\n",
       "      <td>...</td>\n",
       "      <td>NaN</td>\n",
       "      <td>NaN</td>\n",
       "      <td>NaN</td>\n",
       "      <td>NaN</td>\n",
       "      <td>NaN</td>\n",
       "      <td>NaN</td>\n",
       "      <td>NaN</td>\n",
       "      <td>2</td>\n",
       "      <td>2018</td>\n",
       "      <td>4</td>\n",
       "    </tr>\n",
       "    <tr>\n",
       "      <th>23516</th>\n",
       "      <td>Ford Fiesta</td>\n",
       "      <td>Ford</td>\n",
       "      <td>Fiesta</td>\n",
       "      <td>DE</td>\n",
       "      <td>9990.0</td>\n",
       "      <td>Sedan</td>\n",
       "      <td>Used</td>\n",
       "      <td>3</td>\n",
       "      <td>1000001</td>\n",
       "      <td>[\\nManual\\n]</td>\n",
       "      <td>...</td>\n",
       "      <td>NaN</td>\n",
       "      <td>NaN</td>\n",
       "      <td>NaN</td>\n",
       "      <td>NaN</td>\n",
       "      <td>NaN</td>\n",
       "      <td>NaN</td>\n",
       "      <td>NaN</td>\n",
       "      <td>2</td>\n",
       "      <td>2018</td>\n",
       "      <td>4</td>\n",
       "    </tr>\n",
       "    <tr>\n",
       "      <th>13343</th>\n",
       "      <td>SEAT Altea XL</td>\n",
       "      <td>SEAT</td>\n",
       "      <td>Altea XL</td>\n",
       "      <td>ES</td>\n",
       "      <td>3400.0</td>\n",
       "      <td>Station wagon</td>\n",
       "      <td>Used</td>\n",
       "      <td>5</td>\n",
       "      <td>667128</td>\n",
       "      <td>[\\nManual\\n]</td>\n",
       "      <td>...</td>\n",
       "      <td>NaN</td>\n",
       "      <td>NaN</td>\n",
       "      <td>NaN</td>\n",
       "      <td>NaN</td>\n",
       "      <td>NaN</td>\n",
       "      <td>NaN</td>\n",
       "      <td>NaN</td>\n",
       "      <td>2</td>\n",
       "      <td>2010</td>\n",
       "      <td>12</td>\n",
       "    </tr>\n",
       "    <tr>\n",
       "      <th>14594</th>\n",
       "      <td>Skoda Superb</td>\n",
       "      <td>Skoda</td>\n",
       "      <td>Superb</td>\n",
       "      <td>ES</td>\n",
       "      <td>4500.0</td>\n",
       "      <td>Station wagon</td>\n",
       "      <td>Used</td>\n",
       "      <td>5</td>\n",
       "      <td>600000</td>\n",
       "      <td>[\\nAutomatic\\n]</td>\n",
       "      <td>...</td>\n",
       "      <td>NaN</td>\n",
       "      <td>NaN</td>\n",
       "      <td>NaN</td>\n",
       "      <td>NaN</td>\n",
       "      <td>NaN</td>\n",
       "      <td>NaN</td>\n",
       "      <td>NaN</td>\n",
       "      <td>2</td>\n",
       "      <td>2011</td>\n",
       "      <td>11</td>\n",
       "    </tr>\n",
       "    <tr>\n",
       "      <th>...</th>\n",
       "      <td>...</td>\n",
       "      <td>...</td>\n",
       "      <td>...</td>\n",
       "      <td>...</td>\n",
       "      <td>...</td>\n",
       "      <td>...</td>\n",
       "      <td>...</td>\n",
       "      <td>...</td>\n",
       "      <td>...</td>\n",
       "      <td>...</td>\n",
       "      <td>...</td>\n",
       "      <td>...</td>\n",
       "      <td>...</td>\n",
       "      <td>...</td>\n",
       "      <td>...</td>\n",
       "      <td>...</td>\n",
       "      <td>...</td>\n",
       "      <td>...</td>\n",
       "      <td>...</td>\n",
       "      <td>...</td>\n",
       "      <td>...</td>\n",
       "    </tr>\n",
       "    <tr>\n",
       "      <th>5774</th>\n",
       "      <td>Renault Megane</td>\n",
       "      <td>Renault</td>\n",
       "      <td>Megane</td>\n",
       "      <td>IT</td>\n",
       "      <td>5500.0</td>\n",
       "      <td>Coupe</td>\n",
       "      <td>Used</td>\n",
       "      <td>3</td>\n",
       "      <td>229000</td>\n",
       "      <td>[\\nManual\\n]</td>\n",
       "      <td>...</td>\n",
       "      <td>NaN</td>\n",
       "      <td>NaN</td>\n",
       "      <td>NaN</td>\n",
       "      <td>03/2022</td>\n",
       "      <td>NaN</td>\n",
       "      <td>NaN</td>\n",
       "      <td>NaN</td>\n",
       "      <td>2</td>\n",
       "      <td>2009</td>\n",
       "      <td>13</td>\n",
       "    </tr>\n",
       "    <tr>\n",
       "      <th>25820</th>\n",
       "      <td>Volvo C30</td>\n",
       "      <td>Volvo</td>\n",
       "      <td>C30</td>\n",
       "      <td>ES</td>\n",
       "      <td>6489.0</td>\n",
       "      <td>Compact</td>\n",
       "      <td>Used</td>\n",
       "      <td>3</td>\n",
       "      <td>229000</td>\n",
       "      <td>[\\nAutomatic\\n]</td>\n",
       "      <td>...</td>\n",
       "      <td>NaN</td>\n",
       "      <td>NaN</td>\n",
       "      <td>NaN</td>\n",
       "      <td>NaN</td>\n",
       "      <td>NaN</td>\n",
       "      <td>NaN</td>\n",
       "      <td>NaN</td>\n",
       "      <td>2</td>\n",
       "      <td>2007</td>\n",
       "      <td>15</td>\n",
       "    </tr>\n",
       "    <tr>\n",
       "      <th>2734</th>\n",
       "      <td>Opel Astra</td>\n",
       "      <td>Opel</td>\n",
       "      <td>Astra</td>\n",
       "      <td>ES</td>\n",
       "      <td>7490.0</td>\n",
       "      <td>Compact</td>\n",
       "      <td>Used</td>\n",
       "      <td>5</td>\n",
       "      <td>229000</td>\n",
       "      <td>[\\nManual\\n]</td>\n",
       "      <td>...</td>\n",
       "      <td>NaN</td>\n",
       "      <td>NaN</td>\n",
       "      <td>NaN</td>\n",
       "      <td>NaN</td>\n",
       "      <td>NaN</td>\n",
       "      <td>NaN</td>\n",
       "      <td>NaN</td>\n",
       "      <td>2</td>\n",
       "      <td>2015</td>\n",
       "      <td>7</td>\n",
       "    </tr>\n",
       "    <tr>\n",
       "      <th>26215</th>\n",
       "      <td>Volvo C30</td>\n",
       "      <td>Volvo</td>\n",
       "      <td>C30</td>\n",
       "      <td>ES</td>\n",
       "      <td>6489.0</td>\n",
       "      <td>Compact</td>\n",
       "      <td>Used</td>\n",
       "      <td>3</td>\n",
       "      <td>229000</td>\n",
       "      <td>[\\nAutomatic\\n]</td>\n",
       "      <td>...</td>\n",
       "      <td>NaN</td>\n",
       "      <td>NaN</td>\n",
       "      <td>NaN</td>\n",
       "      <td>NaN</td>\n",
       "      <td>NaN</td>\n",
       "      <td>NaN</td>\n",
       "      <td>NaN</td>\n",
       "      <td>2</td>\n",
       "      <td>2007</td>\n",
       "      <td>15</td>\n",
       "    </tr>\n",
       "    <tr>\n",
       "      <th>2742</th>\n",
       "      <td>Opel Corsa</td>\n",
       "      <td>Opel</td>\n",
       "      <td>Corsa</td>\n",
       "      <td>NL</td>\n",
       "      <td>2895.0</td>\n",
       "      <td>Compact</td>\n",
       "      <td>Used</td>\n",
       "      <td>5</td>\n",
       "      <td>228815</td>\n",
       "      <td>[\\nManual\\n]</td>\n",
       "      <td>...</td>\n",
       "      <td>NaN</td>\n",
       "      <td>NaN</td>\n",
       "      <td>NaN</td>\n",
       "      <td>NaN</td>\n",
       "      <td>NaN</td>\n",
       "      <td>NaN</td>\n",
       "      <td>NaN</td>\n",
       "      <td>2</td>\n",
       "      <td>2009</td>\n",
       "      <td>13</td>\n",
       "    </tr>\n",
       "  </tbody>\n",
       "</table>\n",
       "<p>589 rows × 56 columns</p>\n",
       "</div>"
      ],
      "text/plain": [
       "           Make_Model     Make     Model Location    Price      Body_Type  \\\n",
       "19322    Nissan Micra   Nissan     Micra       ES  14400.0        Compact   \n",
       "12339      SEAT Ibiza     SEAT     Ibiza       ES  10200.0        Compact   \n",
       "23516     Ford Fiesta     Ford    Fiesta       DE   9990.0          Sedan   \n",
       "13343   SEAT Altea XL     SEAT  Altea XL       ES   3400.0  Station wagon   \n",
       "14594    Skoda Superb    Skoda    Superb       ES   4500.0  Station wagon   \n",
       "...               ...      ...       ...      ...      ...            ...   \n",
       "5774   Renault Megane  Renault    Megane       IT   5500.0          Coupe   \n",
       "25820       Volvo C30    Volvo       C30       ES   6489.0        Compact   \n",
       "2734       Opel Astra     Opel     Astra       ES   7490.0        Compact   \n",
       "26215       Volvo C30    Volvo       C30       ES   6489.0        Compact   \n",
       "2742       Opel Corsa     Opel     Corsa       NL   2895.0        Compact   \n",
       "\n",
       "       Type Doors  Mileage          Gearbox  ... Available from  \\\n",
       "19322  Used     5  1440000     [\\nManual\\n]  ...            NaN   \n",
       "12339  Used     5  1199900     [\\nManual\\n]  ...            NaN   \n",
       "23516  Used     3  1000001     [\\nManual\\n]  ...            NaN   \n",
       "13343  Used     5   667128     [\\nManual\\n]  ...            NaN   \n",
       "14594  Used     5   600000  [\\nAutomatic\\n]  ...            NaN   \n",
       "...     ...   ...      ...              ...  ...            ...   \n",
       "5774   Used     3   229000     [\\nManual\\n]  ...            NaN   \n",
       "25820  Used     3   229000  [\\nAutomatic\\n]  ...            NaN   \n",
       "2734   Used     5   229000     [\\nManual\\n]  ...            NaN   \n",
       "26215  Used     3   229000  [\\nAutomatic\\n]  ...            NaN   \n",
       "2742   Used     5   228815     [\\nManual\\n]  ...            NaN   \n",
       "\n",
       "      Taxi or rental car Availability Last timing belt change  \\\n",
       "19322                NaN          NaN                     NaN   \n",
       "12339                NaN          NaN                     NaN   \n",
       "23516                NaN          NaN                     NaN   \n",
       "13343                NaN          NaN                     NaN   \n",
       "14594                NaN          NaN                     NaN   \n",
       "...                  ...          ...                     ...   \n",
       "5774                 NaN          NaN                 03/2022   \n",
       "25820                NaN          NaN                     NaN   \n",
       "2734                 NaN          NaN                     NaN   \n",
       "26215                NaN          NaN                     NaN   \n",
       "2742                 NaN          NaN                     NaN   \n",
       "\n",
       "      Electric Range WLTP Power consumption WLTP Battery Ownership  \\\n",
       "19322                 NaN                    NaN               NaN   \n",
       "12339                 NaN                    NaN               NaN   \n",
       "23516                 NaN                    NaN               NaN   \n",
       "13343                 NaN                    NaN               NaN   \n",
       "14594                 NaN                    NaN               NaN   \n",
       "...                   ...                    ...               ...   \n",
       "5774                  NaN                    NaN               NaN   \n",
       "25820                 NaN                    NaN               NaN   \n",
       "2734                  NaN                    NaN               NaN   \n",
       "26215                 NaN                    NaN               NaN   \n",
       "2742                  NaN                    NaN               NaN   \n",
       "\n",
       "      Warranty_Category First_Registration_Year Age  \n",
       "19322                 2                    2019   3  \n",
       "12339                 2                    2018   4  \n",
       "23516                 2                    2018   4  \n",
       "13343                 2                    2010  12  \n",
       "14594                 2                    2011  11  \n",
       "...                 ...                     ...  ..  \n",
       "5774                  2                    2009  13  \n",
       "25820                 2                    2007  15  \n",
       "2734                  2                    2015   7  \n",
       "26215                 2                    2007  15  \n",
       "2742                  2                    2009  13  \n",
       "\n",
       "[589 rows x 56 columns]"
      ]
     },
     "execution_count": 41,
     "metadata": {},
     "output_type": "execute_result"
    }
   ],
   "source": [
    "# Mileage Outliers\n",
    "\n",
    "outliers = df.loc[(df[\"Mileage\"] < lower_bound) | (df[\"Mileage\"] > upper_bound)].sort_values(by='Mileage',ascending=False)\n",
    "outliers"
   ]
  },
  {
   "cell_type": "code",
   "execution_count": 42,
   "metadata": {},
   "outputs": [
    {
     "name": "stdout",
     "output_type": "stream",
     "text": [
      "<class 'pandas.core.frame.DataFrame'>\n",
      "Int64Index: 24130 entries, 0 to 29477\n",
      "Data columns (total 56 columns):\n",
      " #   Column                   Non-Null Count  Dtype   \n",
      "---  ------                   --------------  -----   \n",
      " 0   Make_Model               24130 non-null  object  \n",
      " 1   Make                     24130 non-null  object  \n",
      " 2   Model                    24130 non-null  object  \n",
      " 3   Location                 24130 non-null  object  \n",
      " 4   Price                    24130 non-null  float64 \n",
      " 5   Body_Type                24130 non-null  object  \n",
      " 6   Type                     24130 non-null  object  \n",
      " 7   Doors                    24130 non-null  object  \n",
      " 8   Mileage                  24130 non-null  int32   \n",
      " 9   Gearbox                  23987 non-null  object  \n",
      " 10  Fuel type                22669 non-null  object  \n",
      " 11  Colour                   22598 non-null  object  \n",
      " 12  Paint                    12140 non-null  object  \n",
      " 13  desc                     23673 non-null  object  \n",
      " 14  seller                   24130 non-null  object  \n",
      " 15  Seats                    21487 non-null  object  \n",
      " 16  Power                    23657 non-null  object  \n",
      " 17  Engine size              23185 non-null  object  \n",
      " 18  Gears                    16061 non-null  object  \n",
      " 19  CO2 emissions            16238 non-null  object  \n",
      " 20  Manufacturer colour      19116 non-null  object  \n",
      " 21  Drivetrain               13958 non-null  object  \n",
      " 22  Cylinders                15606 non-null  object  \n",
      " 23  Fuel consumption         20335 non-null  object  \n",
      " 24  Comfort and Convenience  21828 non-null  object  \n",
      " 25  Entertainment and Media  20463 non-null  object  \n",
      " 26  Safety and Security      21853 non-null  object  \n",
      " 27  Extras                   20041 non-null  object  \n",
      " 28  Empty weight             14939 non-null  object  \n",
      " 29  Model code               7183 non-null   object  \n",
      " 30  General inspection       10159 non-null  object  \n",
      " 31  Last service             1481 non-null   object  \n",
      " 32  Full service history     10659 non-null  object  \n",
      " 33  Non-smoker vehicle       9743 non-null   object  \n",
      " 34  Emission class           15312 non-null  object  \n",
      " 35  Emissions sticker        8100 non-null   object  \n",
      " 36  Upholstery colour        11938 non-null  object  \n",
      " 37  Upholstery               15554 non-null  object  \n",
      " 38  Production date          5065 non-null   float64 \n",
      " 39  Previous owner           11706 non-null  object  \n",
      " 40  Other fuel types         1807 non-null   object  \n",
      " 41  Power consumption        308 non-null    object  \n",
      " 42  Energy efficiency class  6699 non-null   object  \n",
      " 43  CO2 efficiency           6699 non-null   object  \n",
      " 44  Fuel consumption WLTP    76 non-null     object  \n",
      " 45  CO2 emissions WLTP       84 non-null     object  \n",
      " 46  Available from           243 non-null    object  \n",
      " 47  Taxi or rental car       320 non-null    object  \n",
      " 48  Availability             250 non-null    object  \n",
      " 49  Last timing belt change  322 non-null    object  \n",
      " 50  Electric Range WLTP      7 non-null      object  \n",
      " 51  Power consumption WLTP   7 non-null      object  \n",
      " 52  Battery Ownership        5 non-null      object  \n",
      " 53  Warranty_Category        24130 non-null  category\n",
      " 54  First_Registration_Year  24130 non-null  int16   \n",
      " 55  Age                      24130 non-null  int16   \n",
      "dtypes: category(1), float64(2), int16(2), int32(1), object(50)\n",
      "memory usage: 10.0+ MB\n"
     ]
    }
   ],
   "source": [
    "df.drop(outliers.index, inplace=True)\n",
    "df.info()"
   ]
  },
  {
   "cell_type": "code",
   "execution_count": 43,
   "metadata": {},
   "outputs": [
    {
     "data": {
      "text/plain": [
       "Manual            14895\n",
       "Automatic          9044\n",
       "nan                 143\n",
       "Semi-automatic       48\n",
       "Name: Gearbox, dtype: int64"
      ]
     },
     "execution_count": 43,
     "metadata": {},
     "output_type": "execute_result"
    }
   ],
   "source": [
    "# Gearbox\n",
    "\n",
    "# Let's clean data\n",
    "df.Gearbox = df.Gearbox.apply(lambda x: str(x).replace( '[\\'\\\\n', '' ).replace('\\\\n\\']', '')   )\n",
    "df.Gearbox.value_counts()\n",
    "#\n",
    "# TODO\n",
    "#"
   ]
  },
  {
   "cell_type": "code",
   "execution_count": 44,
   "metadata": {},
   "outputs": [
    {
     "data": {
      "text/plain": [
       "Manual            14895\n",
       "Automatic          9044\n",
       "NaN                 143\n",
       "Semi-automatic       48\n",
       "Name: Gearbox, dtype: int64"
      ]
     },
     "execution_count": 44,
     "metadata": {},
     "output_type": "execute_result"
    }
   ],
   "source": [
    "# Gearbox\n",
    "# convert nans into NaNs\n",
    "df[\"Gearbox\"] = df[\"Gearbox\"].replace(to_replace=\"nan\", value=\"-\")\n",
    "df[\"Gearbox\"] = df[\"Gearbox\"].replace(to_replace=\"-\", value=np.nan)\n",
    "\n",
    "df[\"Gearbox\"].value_counts(dropna = False)"
   ]
  },
  {
   "cell_type": "code",
   "execution_count": 45,
   "metadata": {},
   "outputs": [
    {
     "data": {
      "text/plain": [
       "Manual            14990\n",
       "Automatic          9092\n",
       "Semi-automatic       48\n",
       "Name: Gearbox, dtype: int64"
      ]
     },
     "execution_count": 45,
     "metadata": {},
     "output_type": "execute_result"
    }
   ],
   "source": [
    "# Gearbox\n",
    "# Fill NaNs wrt Make_Model\n",
    "for group1 in list(df[\"Make_Model\"].unique()):\n",
    "    \n",
    "    cond = (df[\"Make_Model\"]==group1)\n",
    "    mode = list(df[cond][\"Gearbox\"].mode())\n",
    "    if mode != []:\n",
    "        df.loc[cond, \"Gearbox\"] = df.loc[cond, \"Gearbox\"].fillna(df[cond][\"Gearbox\"].mode()[0])\n",
    "    else:\n",
    "        df.loc[cond, \"Gearbox\"] = df.loc[cond, \"Gearbox\"].fillna(df[\"Gearbox\"].mode()[0])\n",
    "        \n",
    "df[\"Gearbox\"].value_counts(dropna = False)"
   ]
  },
  {
   "cell_type": "code",
   "execution_count": 46,
   "metadata": {},
   "outputs": [
    {
     "data": {
      "text/plain": [
       "Benzine     14015\n",
       "Diesel       7954\n",
       "NaN          1461\n",
       "LPG           320\n",
       "Other         199\n",
       "Electric      162\n",
       "Bi-fuel        19\n",
       "Name: Fuel_Type, dtype: int64"
      ]
     },
     "execution_count": 46,
     "metadata": {},
     "output_type": "execute_result"
    }
   ],
   "source": [
    "# Fuel type\n",
    "\n",
    "# Fix the name\n",
    "df.rename(columns={'Fuel type': 'Fuel_Type'}, inplace=True)\n",
    "\n",
    "benzine = [\"Super 95\",\n",
    "          \"Regular/Benzine 91\",\n",
    "          \"Super E10 95\",\n",
    "          \"Regular/Benzine 91 (Particle filter)\",\n",
    "          \"Super 95 (Particle filter)\",\n",
    "          \"Super E10 95 (Particle filter)\",\n",
    "          \"Regular/Benzine E10 91\",\n",
    "          \"Super Plus 98\",\n",
    "          \"Super Plus E10 98\",\n",
    "          \"Super Plus E10 98 (Particle filter)\",\n",
    "          \"Super Plus 98 (Particle filter)\",\n",
    "          \"Regular/Benzine E10 91 (Particle filter)\",\n",
    "          \"Gasoline\",\n",
    "          \"Gasoline (Particle filter)\",\n",
    "          \"Ethanol\",\n",
    "          \"Super 95 (Particle filter) / Super E10 95 / Ethanol\"]         \n",
    "lpg = [\"Liquid petroleum gas (LPG)\",\n",
    "       \"CNG\",\n",
    "       \"LPG\",\n",
    "       \"Domestic gas H\",\n",
    "       \"Domestic gas L\",\n",
    "       \"CNG (Particle filter)\",\n",
    "       \"LPG (Particle filter)\",\n",
    "       \"Hydrogen\",\n",
    "       \"Domestic gas L (Particle filter)\",\n",
    "       \"Liquid petroleum gas (LPG) (Particle filter)\",\n",
    "       \"Biogas\"]\n",
    "bi_fuel = [\"Liquid petroleum gas (LPG) (Particle filter) / Super 95 / Super E10 95\",\n",
    "           \"Liquid petroleum gas (LPG) / Super 95 / Super Plus 98 / Super Plus E10 98 / Super E10 95\",\n",
    "           \"Liquid petroleum gas (LPG) / Super 95 / Super E10 95\",\n",
    "           \"Liquid petroleum gas (LPG) / Super 95\",\n",
    "           \"Liquid petroleum gas (LPG) / Super 95 / Super E10 95 / Super Plus 98\",\n",
    "           \"Liquid petroleum gas (LPG) / Super 95 / Super Plus 98\",\n",
    "           \"Liquid petroleum gas (LPG) / Super E10 95 / Super Plus E10 98 / Super Plus 98 / Super 95\",\n",
    "           \"Liquid petroleum gas (LPG) / Super E10 95\",\n",
    "           \"Super 95 / Super Plus 98 / Liquid petroleum gas (LPG)\",\n",
    "           \"Domestic gas L / Super 95 / Domestic gas H\",\n",
    "           \"Domestic gas H / Super E10 95 / Super Plus E10 98 / Super 95 / Super Plus 98 / Domestic gas L\",\n",
    "           \"Liquid petroleum gas (LPG) / Super E10 95 / Regular/Benzine 91 / Super 95 / Super Plus 98 / Biogas\",\n",
    "           \"Super 95 / Liquid petroleum gas (LPG)\"]\n",
    "electric = [\"Electric\",\n",
    "            \"Electric (Particle filter)\"]\n",
    "diesel = [\"Diesel\",\n",
    "          \"Diesel (Particle filter)\"]\n",
    "other = [\"Others\",\n",
    "         \"Others (Particle filter)\"]\n",
    "def fueltype(i) :\n",
    "    if i in benzine :\n",
    "        return \"Benzine\"\n",
    "    if i in lpg :\n",
    "        return \"LPG\"\n",
    "    if i in electric :\n",
    "        return \"Electric\"\n",
    "    if i in bi_fuel :\n",
    "        return \"Bi-fuel\"\n",
    "    if i in diesel :\n",
    "        return \"Diesel\"\n",
    "    if i in other :\n",
    "        return \"Other\"\n",
    "    else:\n",
    "        return i\n",
    "    \n",
    "df[\"Fuel_Type\"] = df[\"Fuel_Type\"].apply(fueltype)\n",
    "\n",
    "df[\"Fuel_Type\"].value_counts(dropna = False)\n"
   ]
  },
  {
   "cell_type": "code",
   "execution_count": 47,
   "metadata": {},
   "outputs": [
    {
     "data": {
      "text/plain": [
       "Benzine     15057\n",
       "Diesel       8180\n",
       "Electric      329\n",
       "LPG           323\n",
       "Other         222\n",
       "Bi-fuel        19\n",
       "Name: Fuel_Type, dtype: int64"
      ]
     },
     "execution_count": 47,
     "metadata": {},
     "output_type": "execute_result"
    }
   ],
   "source": [
    "# Fuel type\n",
    "\n",
    "# Convert nans into NaNs\n",
    "df[\"Fuel_Type\"].replace(to_replace=\"NaN\", value=np.nan)\n",
    "\n",
    "# Fill NaNs wrt Make_Model\n",
    "for group1 in list(df[\"Make_Model\"].unique()):\n",
    "    \n",
    "    cond = (df[\"Make_Model\"]==group1)\n",
    "    mode = list(df[cond][\"Fuel_Type\"].mode())\n",
    "    if mode != []:\n",
    "        df.loc[cond, \"Fuel_Type\"] = df.loc[cond, \"Fuel_Type\"].fillna(df[cond][\"Fuel_Type\"].mode()[0])\n",
    "    else:\n",
    "        df.loc[cond, \"Fuel_Type\"] = df.loc[cond, \"Fuel_Type\"].fillna(df[\"Fuel_Type\"].mode()[0])\n",
    "        \n",
    "df[\"Fuel_Type\"].value_counts()\n"
   ]
  },
  {
   "cell_type": "code",
   "execution_count": 48,
   "metadata": {},
   "outputs": [
    {
     "data": {
      "text/plain": [
       "Black     5868\n",
       "Grey      5680\n",
       "White     5189\n",
       "Blue      2892\n",
       "Red       1803\n",
       "Silver    1225\n",
       "Brown      412\n",
       "Green      277\n",
       "Orange     243\n",
       "Beige      228\n",
       "Yellow     135\n",
       "Violet      76\n",
       "Bronze      56\n",
       "Gold        46\n",
       "Name: Colour, dtype: Int64"
      ]
     },
     "execution_count": 48,
     "metadata": {},
     "output_type": "execute_result"
    }
   ],
   "source": [
    "# Colour\n",
    "df.Colour.value_counts(dropna = False)\n",
    "\n",
    "df[\"Colour\"].replace(to_replace=\"NaN\", value=np.nan)\n",
    "\n",
    "df['Colour'] = df['Colour'].astype(\"string\")\n",
    "\n",
    "for group1 in list(df[\"Make_Model\"].unique()):\n",
    "    \n",
    "        \n",
    "    cond = ((df[\"Make_Model\"]==group1))\n",
    "    mode = list(df[cond][\"Colour\"].mode())\n",
    "    if mode != []:\n",
    "        df.loc[cond, \"Colour\"] = df.loc[cond, \"Colour\"].fillna(df[cond][\"Colour\"].mode()[0])\n",
    "    else:\n",
    "        df.loc[cond, \"Colour\"] = df.loc[cond, \"Colour\"].fillna(df[\"Colour\"].mode()[0])\n",
    "        \n",
    "df.Colour.value_counts(dropna = False)\n"
   ]
  },
  {
   "cell_type": "code",
   "execution_count": 49,
   "metadata": {},
   "outputs": [
    {
     "data": {
      "text/plain": [
       "Metallic    12140\n",
       "NaN         11990\n",
       "Name: Metallic, dtype: int64"
      ]
     },
     "execution_count": 49,
     "metadata": {},
     "output_type": "execute_result"
    }
   ],
   "source": [
    "# Paint\n",
    "# Fix the name\n",
    "df.rename(columns={'Paint': 'Metallic'}, inplace=True)\n",
    "df.Metallic.value_counts(dropna = False)\n"
   ]
  },
  {
   "cell_type": "code",
   "execution_count": 50,
   "metadata": {},
   "outputs": [
    {
     "data": {
      "text/plain": [
       "1    12140\n",
       "0    11990\n",
       "Name: Metallic, dtype: int64"
      ]
     },
     "execution_count": 50,
     "metadata": {},
     "output_type": "execute_result"
    }
   ],
   "source": [
    "# Metallic\n",
    "# Fill NaNs\n",
    "df[\"Metallic\"].replace(to_replace=\"NaN\", value=np.nan)\n",
    "df['Metallic'] = df['Metallic'].astype(\"string\")\n",
    "\n",
    "df[\"Metallic\"].replace(to_replace=\"Uni/basic\", value=\"Metallic\", inplace=True)\n",
    "df['Metallic'] = df['Metallic'].apply(lambda x: 1 if (str(x) == 'Metallic') else 0)\n",
    "\n",
    "df['Metallic'].value_counts()"
   ]
  },
  {
   "cell_type": "code",
   "execution_count": 51,
   "metadata": {},
   "outputs": [],
   "source": [
    "# desc\n",
    "\n",
    "# Fix the name\n",
    "df.rename(columns={'desc': 'Desc'}, inplace=True)\n",
    "\n",
    "df.drop(\"Desc\", axis = 1, inplace=True)\n"
   ]
  },
  {
   "cell_type": "code",
   "execution_count": 52,
   "metadata": {},
   "outputs": [
    {
     "data": {
      "text/plain": [
       "1    22762\n",
       "0     1368\n",
       "Name: Dealer, dtype: int64"
      ]
     },
     "execution_count": 52,
     "metadata": {},
     "output_type": "execute_result"
    }
   ],
   "source": [
    "# seller\n",
    "\n",
    "# Fix the name\n",
    "df.rename(columns={'seller': 'Dealer'}, inplace=True)\n",
    "\n",
    "df['Dealer'] = df['Dealer'].apply(lambda x: 1 if (str(x) == 'Dealer') else 0)\n",
    "df['Dealer'].value_counts()\n"
   ]
  },
  {
   "cell_type": "code",
   "execution_count": 53,
   "metadata": {},
   "outputs": [
    {
     "data": {
      "text/plain": [
       "5    19255\n",
       "4     3717\n",
       "2      714\n",
       "7      343\n",
       "8       35\n",
       "9       32\n",
       "3       18\n",
       "0        9\n",
       "6        4\n",
       "1        3\n",
       "Name: Seats, dtype: int64"
      ]
     },
     "execution_count": 53,
     "metadata": {},
     "output_type": "execute_result"
    }
   ],
   "source": [
    "# Seats\n",
    "\n",
    "df.Seats = df.Seats.apply(lambda x: str(x).replace('[\\'\\\\n, ', '' ).replace(', \\\\n\\']', '' )  )\n",
    "\n",
    "makes = df['Make'].unique()\n",
    "for m in makes:\n",
    "    models = df[df.Make == m].Model.unique()\n",
    "    for d in models:\n",
    "        most_common = df[(df.Make == m) & (df.Model == d)].Seats.value_counts().idxmax()\n",
    "        df.Seats = df.Seats.apply(lambda x: most_common if (x=='nan') else x)\n",
    "\n",
    "df[df.Seats == 'nan'].Seats = 0        \n",
    "df.Seats.value_counts()\n"
   ]
  },
  {
   "cell_type": "code",
   "execution_count": 54,
   "metadata": {},
   "outputs": [
    {
     "data": {
      "text/plain": [
       "5    19255\n",
       "4     3729\n",
       "2      714\n",
       "7      343\n",
       "8       35\n",
       "9       32\n",
       "3       18\n",
       "6        4\n",
       "Name: Seats, dtype: int64"
      ]
     },
     "execution_count": 54,
     "metadata": {},
     "output_type": "execute_result"
    }
   ],
   "source": [
    "# Seats\n",
    "\n",
    "df['Seats'] = df['Seats'].astype(str)\n",
    "\n",
    "df.loc[df['Seats'] == '17', 'Seats'] = '5'\n",
    "df.loc[(df['Seats'] == '0') | (df['Seats'] == '1'), 'Seats'] = '4'\n",
    "\n",
    "df['Seats'].value_counts()"
   ]
  },
  {
   "cell_type": "code",
   "execution_count": 55,
   "metadata": {},
   "outputs": [
    {
     "data": {
      "text/plain": [
       "110    1917\n",
       "96     1261\n",
       "88     1152\n",
       "81     1106\n",
       "66     1022\n",
       "       ... \n",
       "41        1\n",
       "419       1\n",
       "17        1\n",
       "354       1\n",
       "216       1\n",
       "Name: Power, Length: 270, dtype: int64"
      ]
     },
     "execution_count": 55,
     "metadata": {},
     "output_type": "execute_result"
    }
   ],
   "source": [
    "# Power\n",
    "\n",
    "def clear(aStr):\n",
    "    return re.sub(r' kW \\(\\d* hp\\)\\\\n\\'\\]', '', re.sub(r'\\[\\'\\\\n', '', re.sub(r',', '', aStr)))\n",
    "\n",
    "df.Power = df.Power.apply(lambda x: clear(str(x)) )\n",
    "df['Power'].replace('nan', np.NaN, inplace=True)\n",
    "df.Power.value_counts(dropna = False)\n"
   ]
  },
  {
   "cell_type": "code",
   "execution_count": 56,
   "metadata": {},
   "outputs": [
    {
     "data": {
      "text/plain": [
       "110    1942\n",
       "96     1325\n",
       "88     1177\n",
       "81     1129\n",
       "66     1068\n",
       "85      930\n",
       "74      866\n",
       "103     832\n",
       "140     735\n",
       "51      701\n",
       "70      673\n",
       "100     607\n",
       "55      486\n",
       "92      448\n",
       "147     396\n",
       "125     368\n",
       "80      334\n",
       "90      313\n",
       "120     309\n",
       "135     298\n",
       "132     294\n",
       "118     260\n",
       "130     219\n",
       "84      213\n",
       "115     213\n",
       "67      211\n",
       "221     203\n",
       "206     198\n",
       "77      195\n",
       "82      188\n",
       "53      184\n",
       "63      184\n",
       "173     183\n",
       "97      178\n",
       "145     171\n",
       "104     158\n",
       "150     151\n",
       "59      140\n",
       "60      137\n",
       "73      135\n",
       "202     130\n",
       "68      123\n",
       "112     121\n",
       "107     118\n",
       "54      117\n",
       "44      117\n",
       "241     113\n",
       "52      110\n",
       "75      110\n",
       "121     109\n",
       "Name: Power, dtype: int64"
      ]
     },
     "execution_count": 56,
     "metadata": {},
     "output_type": "execute_result"
    }
   ],
   "source": [
    "for group1 in list(df[\"Make_Model\"].unique()):        \n",
    "    cond = (df[\"Make_Model\"] == group1)\n",
    "    mode = list(df[cond][\"Power\"].mode())\n",
    "    if mode != []:\n",
    "        df.loc[cond, \"Power\"] = df.loc[cond, \"Power\"].fillna(df[cond][\"Power\"].mode()[0])\n",
    "    else:\n",
    "        df.loc[cond, \"Power\"] = df.loc[cond, \"Power\"].fillna(df[\"Power\"].mode()[0])\n",
    "        \n",
    "df.Power.value_counts(dropna=False).head(50)"
   ]
  },
  {
   "cell_type": "code",
   "execution_count": 57,
   "metadata": {},
   "outputs": [
    {
     "data": {
      "text/plain": [
       "999      2061\n",
       "1598     1996\n",
       "1969     1577\n",
       "1461     1063\n",
       "nan       945\n",
       "         ... \n",
       "3950        1\n",
       "3595        1\n",
       "54009       1\n",
       "2993        1\n",
       "3192        1\n",
       "Name: Engine_Size, Length: 260, dtype: int64"
      ]
     },
     "execution_count": 57,
     "metadata": {},
     "output_type": "execute_result"
    }
   ],
   "source": [
    "# Engine size \n",
    "\n",
    "# Fix the name\n",
    "df.rename(columns={'Engine size': 'Engine_Size'}, inplace=True)\n",
    "\n",
    "def clear(aStr):\n",
    "    return re.sub(r' cc\\\\n\\'\\]', '', re.sub(r',', '', re.sub(r'\\[\\'\\\\n', '', aStr)))\n",
    "\n",
    "df.Engine_Size = df.Engine_Size.apply(lambda x: clear(str(x)) )\n",
    "df.Engine_Size.value_counts(dropna=False)\n"
   ]
  },
  {
   "cell_type": "code",
   "execution_count": 58,
   "metadata": {},
   "outputs": [
    {
     "data": {
      "text/plain": [
       "999.0      2061\n",
       "1598.0     1996\n",
       "1969.0     1577\n",
       "1461.0     1063\n",
       "NaN         945\n",
       "           ... \n",
       "3950.0        1\n",
       "3595.0        1\n",
       "54009.0       1\n",
       "2993.0        1\n",
       "3192.0        1\n",
       "Name: Engine_Size, Length: 260, dtype: int64"
      ]
     },
     "execution_count": 58,
     "metadata": {},
     "output_type": "execute_result"
    }
   ],
   "source": [
    "# Engine size \n",
    "\n",
    "df[\"Engine_Size\"].replace(to_replace='nan', value=np.nan)\n",
    "df['Engine_Size'] = pd.to_numeric(df['Engine_Size'], errors='coerce')\n",
    "\n",
    "df['Engine_Size'].value_counts(dropna = False)"
   ]
  },
  {
   "cell_type": "code",
   "execution_count": 59,
   "metadata": {},
   "outputs": [
    {
     "data": {
      "text/plain": [
       "999.0     2192\n",
       "1598.0    2076\n",
       "1969.0    1605\n",
       "1461.0    1115\n",
       "998.0      941\n",
       "          ... \n",
       "1489.0       1\n",
       "3998.0       1\n",
       "1296.0       1\n",
       "4995.0       1\n",
       "3192.0       1\n",
       "Name: Engine_Size, Length: 259, dtype: int64"
      ]
     },
     "execution_count": 59,
     "metadata": {},
     "output_type": "execute_result"
    }
   ],
   "source": [
    "# Engine size \n",
    "\n",
    "for group1 in list(df[\"Make_Model\"].unique()):        \n",
    "    cond = (df[\"Make_Model\"] == group1)\n",
    "    mode = list(df[cond][\"Engine_Size\"].mode())\n",
    "    if mode != []:\n",
    "        df.loc[cond, \"Engine_Size\"] = df.loc[cond, \"Engine_Size\"].fillna(df[cond][\"Engine_Size\"].mode()[0])\n",
    "    else:\n",
    "        df.loc[cond, \"Engine_Size\"] = df.loc[cond, \"Engine_Size\"].fillna(df[\"Engine_Size\"].mode()[0])\n",
    "        \n",
    "df.Engine_Size.value_counts(dropna=False)"
   ]
  },
  {
   "cell_type": "code",
   "execution_count": 60,
   "metadata": {},
   "outputs": [],
   "source": [
    "# Gears \n",
    "\n",
    "df.drop('Gears', inplace=True, axis=1)"
   ]
  },
  {
   "cell_type": "code",
   "execution_count": 61,
   "metadata": {},
   "outputs": [
    {
     "data": {
      "text/plain": [
       "NaN     7892\n",
       "0        912\n",
       "119      378\n",
       "124      323\n",
       "114      303\n",
       "        ... \n",
       "252        1\n",
       "264        1\n",
       "324        1\n",
       "240        1\n",
       "1060       1\n",
       "Name: CO2_Emissions, Length: 278, dtype: int64"
      ]
     },
     "execution_count": 61,
     "metadata": {},
     "output_type": "execute_result"
    }
   ],
   "source": [
    "# CO2 emissions\n",
    "\n",
    "# Fix the name\n",
    "df.rename(columns={'CO2 emissions': 'CO2_Emissions'}, inplace=True)\n",
    "\n",
    "df[\"CO2_Emissions\"] = df[\"CO2_Emissions\"].dropna().apply(lambda x: str(x).rstrip(' g/km (comb.)').replace(',', ''))\n",
    "\n",
    "df.CO2_Emissions.value_counts(dropna = False)\n"
   ]
  },
  {
   "cell_type": "code",
   "execution_count": 62,
   "metadata": {},
   "outputs": [
    {
     "data": {
      "text/plain": [
       "0        1905\n",
       "119       940\n",
       "129       738\n",
       "127       686\n",
       "124       643\n",
       "         ... \n",
       "290         1\n",
       "15168       1\n",
       "7           1\n",
       "264         1\n",
       "345         1\n",
       "Name: CO2_Emissions, Length: 277, dtype: int64"
      ]
     },
     "execution_count": 62,
     "metadata": {},
     "output_type": "execute_result"
    }
   ],
   "source": [
    "for group1 in list(df[\"Make_Model\"].unique()):        \n",
    "    cond = (df[\"Make_Model\"] == group1)\n",
    "    mode = list(df[cond][\"CO2_Emissions\"].mode())\n",
    "    if mode != []:\n",
    "        df.loc[cond, \"CO2_Emissions\"] = df.loc[cond, \"CO2_Emissions\"].fillna(df[cond][\"CO2_Emissions\"].mode()[0])\n",
    "    else:\n",
    "        df.loc[cond, \"CO2_Emissions\"] = df.loc[cond, \"CO2_Emissions\"].fillna(df[\"CO2_Emissions\"].mode()[0])\n",
    "        \n",
    "df.CO2_Emissions.value_counts(dropna = False)"
   ]
  },
  {
   "cell_type": "code",
   "execution_count": 63,
   "metadata": {},
   "outputs": [],
   "source": [
    "# Manufacturer colour \n",
    "\n",
    "# Fix the name\n",
    "df.rename(columns={'Manufacturer colour': 'Manufacturer_Colour'}, inplace=True)\n",
    "\n",
    "df.drop('Manufacturer_Colour', inplace=True, axis=1)\n"
   ]
  },
  {
   "cell_type": "code",
   "execution_count": 64,
   "metadata": {},
   "outputs": [
    {
     "data": {
      "text/plain": [
       "0    22079\n",
       "1     2051\n",
       "Name: Four_Wheel_Drive, dtype: int64"
      ]
     },
     "execution_count": 64,
     "metadata": {},
     "output_type": "execute_result"
    }
   ],
   "source": [
    "# 4WD\n",
    "\n",
    "# Fix the name\n",
    "df.rename(columns={'Drivetrain': 'Four_Wheel_Drive'}, inplace=True)\n",
    "\n",
    "df.Four_Wheel_Drive = df.Four_Wheel_Drive.apply(lambda x: str(x).replace('[\\'\\\\n, ', '').replace(', \\\\n\\']', '')  )\n",
    "df.Four_Wheel_Drive = df.Four_Wheel_Drive.apply(lambda x: 1 if (x == '4WD') else 0)\n",
    "df.Four_Wheel_Drive.value_counts()\n"
   ]
  },
  {
   "cell_type": "code",
   "execution_count": 65,
   "metadata": {},
   "outputs": [
    {
     "data": {
      "text/plain": [
       "4      11141\n",
       "nan     8524\n",
       "3       3226\n",
       "6        459\n",
       "5        448\n",
       "8        193\n",
       "2         96\n",
       "0         21\n",
       "1         15\n",
       "7          5\n",
       "12         1\n",
       "26         1\n",
       "Name: Cylinders, dtype: int64"
      ]
     },
     "execution_count": 65,
     "metadata": {},
     "output_type": "execute_result"
    }
   ],
   "source": [
    "# Cylinders\n",
    "\n",
    "df.Cylinders = df.Cylinders.apply(lambda x: str(x).replace('[\\'\\\\n', '').replace('\\\\n\\']', '')  )\n",
    "df.Cylinders.value_counts()\n",
    "\n"
   ]
  },
  {
   "cell_type": "code",
   "execution_count": 66,
   "metadata": {},
   "outputs": [
    {
     "data": {
      "text/plain": [
       "4.0     11141\n",
       "NaN      8524\n",
       "3.0      3226\n",
       "6.0       459\n",
       "5.0       448\n",
       "8.0       193\n",
       "2.0        96\n",
       "0.0        21\n",
       "1.0        15\n",
       "7.0         5\n",
       "12.0        1\n",
       "26.0        1\n",
       "Name: Cylinders, dtype: int64"
      ]
     },
     "execution_count": 66,
     "metadata": {},
     "output_type": "execute_result"
    }
   ],
   "source": [
    "# Cylinders\n",
    "\n",
    "df[\"Cylinders\"].replace(to_replace='nan', value=np.nan)\n",
    "df['Cylinders'] = pd.to_numeric(df['Cylinders'], errors='coerce')\n",
    "\n",
    "df['Cylinders'].value_counts(dropna = False)"
   ]
  },
  {
   "cell_type": "code",
   "execution_count": 67,
   "metadata": {},
   "outputs": [
    {
     "data": {
      "text/plain": [
       "4.0     17306\n",
       "3.0      4937\n",
       "6.0       582\n",
       "5.0       573\n",
       "8.0       369\n",
       "0.0       195\n",
       "2.0        96\n",
       "1.0        65\n",
       "7.0         5\n",
       "12.0        1\n",
       "26.0        1\n",
       "Name: Cylinders, dtype: int64"
      ]
     },
     "execution_count": 67,
     "metadata": {},
     "output_type": "execute_result"
    }
   ],
   "source": [
    "# Cylinders\n",
    "\n",
    "for group1 in list(df[\"Make_Model\"].unique()):        \n",
    "    cond = (df[\"Make_Model\"] == group1)\n",
    "    mode = list(df[cond][\"Cylinders\"].mode())\n",
    "    if mode != []:\n",
    "        df.loc[cond, \"Cylinders\"] = df.loc[cond, \"Cylinders\"].fillna(df[cond][\"Cylinders\"].mode()[0])\n",
    "    else:\n",
    "        df.loc[cond, \"Cylinders\"] = df.loc[cond, \"Cylinders\"].fillna(df[\"Cylinders\"].mode()[0])\n",
    "        \n",
    "df.Cylinders.value_counts(dropna=False)"
   ]
  },
  {
   "cell_type": "code",
   "execution_count": 68,
   "metadata": {},
   "outputs": [
    {
     "data": {
      "text/plain": [
       "4.0     17306\n",
       "3.0      4937\n",
       "6.0       582\n",
       "5.0       573\n",
       "8.0       369\n",
       "0.0       195\n",
       "2.0        96\n",
       "1.0        65\n",
       "7.0         5\n",
       "12.0        1\n",
       "Name: Cylinders, dtype: int64"
      ]
     },
     "execution_count": 68,
     "metadata": {},
     "output_type": "execute_result"
    }
   ],
   "source": [
    "# Cylinders\n",
    "\n",
    "df = df.drop(df[df.Cylinders == 26.0].index)\n",
    "df.Cylinders.value_counts(dropna=False)"
   ]
  },
  {
   "cell_type": "code",
   "execution_count": 69,
   "metadata": {},
   "outputs": [
    {
     "data": {
      "text/plain": [
       "[[0 l/100 km (comb.)]]                                                        299\n",
       "[[0 l/100 km (comb.)], [0 l/100 km (city)], [0 l/100 km (country)]]           217\n",
       "[[3.4 l/100 km (comb.)], [3.7 l/100 km (city)], [3.2 l/100 km (country)]]     170\n",
       "[[4 l/100 km (comb.)]]                                                        149\n",
       "[[3.9 l/100 km (comb.)]]                                                      131\n",
       "                                                                             ... \n",
       "[[5.5 l/100 km (comb.)], [7 l/100 km (city)], [4.8 l/100 km (country)]]         1\n",
       "[[5.1 l/100 km (comb.)], [5.7 l/100 km (city)], [4.3 l/100 km (country)]]       1\n",
       "[[4.7 l/100 km (comb.)], [6.6 l/100 km (city)], [4.1 l/100 km (country)]]       1\n",
       "[[4.2 l/100 km (comb.)], [4.2 l/100 km (city)], [4.2 l/100 km (country)]]       1\n",
       "[[9.1 l/100 km (comb.)], [12.9 l/100 km (city)], [6.9 l/100 km (country)]]      1\n",
       "Name: Fuel_Consumption, Length: 2829, dtype: int64"
      ]
     },
     "execution_count": 69,
     "metadata": {},
     "output_type": "execute_result"
    }
   ],
   "source": [
    "# Fuel consumption\n",
    "\n",
    "# Fix the name\n",
    "df.rename(columns={'Fuel consumption': 'Fuel_Consumption'}, inplace=True)\n",
    "\n",
    "df.Fuel_Consumption.value_counts()\n"
   ]
  },
  {
   "cell_type": "code",
   "execution_count": 70,
   "metadata": {},
   "outputs": [
    {
     "data": {
      "text/plain": [
       "nan     3794\n",
       "5        815\n",
       "4.9      789\n",
       "4.5      666\n",
       "5.1      631\n",
       "        ... \n",
       "16         1\n",
       "57         1\n",
       "16.5       1\n",
       "61         1\n",
       "14.1       1\n",
       "Name: Fuel_Consumption, Length: 140, dtype: int64"
      ]
     },
     "execution_count": 70,
     "metadata": {},
     "output_type": "execute_result"
    }
   ],
   "source": [
    "df['Fuel_Consumption'] = df['Fuel_Consumption'].astype(str).str.split(\" \").str[0]\n",
    "\n",
    "df['Fuel_Consumption'] = df['Fuel_Consumption'].dropna().replace('\\[\\[\\'','',regex=True)\n",
    "\n",
    "df.Fuel_Consumption.value_counts(dropna =False)"
   ]
  },
  {
   "cell_type": "code",
   "execution_count": 71,
   "metadata": {},
   "outputs": [
    {
     "data": {
      "text/plain": [
       "NaN     3794\n",
       "5.0      815\n",
       "4.9      789\n",
       "4.5      666\n",
       "5.1      631\n",
       "        ... \n",
       "16.0       1\n",
       "57.0       1\n",
       "16.5       1\n",
       "61.0       1\n",
       "14.1       1\n",
       "Name: Fuel_Consumption, Length: 140, dtype: int64"
      ]
     },
     "execution_count": 71,
     "metadata": {},
     "output_type": "execute_result"
    }
   ],
   "source": [
    "df['Fuel_Consumption'] = pd.to_numeric(df['Fuel_Consumption'], errors='coerce')\n",
    "df.Fuel_Consumption.value_counts(dropna =False)"
   ]
  },
  {
   "cell_type": "code",
   "execution_count": 72,
   "metadata": {},
   "outputs": [
    {
     "data": {
      "text/plain": [
       "5.0     1241\n",
       "4.5     1005\n",
       "4.9      988\n",
       "5.1      789\n",
       "5.4      713\n",
       "        ... \n",
       "16.0       1\n",
       "57.0       1\n",
       "16.5       1\n",
       "61.0       1\n",
       "14.1       1\n",
       "Name: Fuel_Consumption, Length: 139, dtype: int64"
      ]
     },
     "execution_count": 72,
     "metadata": {},
     "output_type": "execute_result"
    }
   ],
   "source": [
    "for group1 in list(df[\"Make_Model\"].unique()):        \n",
    "    cond = (df[\"Make_Model\"] == group1)\n",
    "    mode = list(df[cond][\"Fuel_Consumption\"].mode())\n",
    "    if mode != []:\n",
    "        df.loc[cond, \"Fuel_Consumption\"] = df.loc[cond, \"Fuel_Consumption\"].fillna(df[cond][\"Fuel_Consumption\"].mode()[0])\n",
    "    else:\n",
    "        df.loc[cond, \"Fuel_Consumption\"] = df.loc[cond, \"Fuel_Consumption\"].fillna(df[\"Fuel_Consumption\"].mode()[0])\n",
    "        \n",
    "df.Fuel_Consumption.value_counts(dropna=False)"
   ]
  },
  {
   "cell_type": "code",
   "execution_count": 73,
   "metadata": {},
   "outputs": [
    {
     "data": {
      "text/plain": [
       "16949                                                  NaN\n",
       "3726     360° camera, Air conditioning, Armrest, Automa...\n",
       "12599    Air conditioning, Armrest, Automatic climate c...\n",
       "24505                                                  NaN\n",
       "24389    Air conditioning, Armrest, Automatic climate c...\n",
       "11247    Air conditioning, Armrest, Automatic climate c...\n",
       "4663     Air conditioning, Armrest, Automatic climate c...\n",
       "1046     Armrest, Automatic climate control, 2 zones, C...\n",
       "22490                                                  NaN\n",
       "8436     Air conditioning, Automatic climate control, C...\n",
       "2563     Air conditioning, Cruise control, Electrical s...\n",
       "16224    Multi-function steering wheel, Power windows, ...\n",
       "3093     Air conditioning, Cruise control, Electrical s...\n",
       "15392    Air conditioning, Automatic climate control, C...\n",
       "3175     Automatic climate control, 2 zones, Cruise con...\n",
       "11805    Air conditioning, Automatic climate control, C...\n",
       "15572                                        Power windows\n",
       "21240                                                  NaN\n",
       "6187     Air conditioning, Armrest, Cruise control, Ele...\n",
       "28799                                                  NaN\n",
       "Name: Comfort_and_Convenience, dtype: object"
      ]
     },
     "execution_count": 73,
     "metadata": {},
     "output_type": "execute_result"
    }
   ],
   "source": [
    "# Comfort and Convenience \n",
    "\n",
    "# Fix the name\n",
    "df.rename(columns={'Comfort and Convenience': 'Comfort_and_Convenience'}, inplace=True)\n",
    "\n",
    "df[\"Comfort_and_Convenience\"] = [\",\".join(item) if type(item) == list else item for item in df[\"Comfort_and_Convenience\"]]\n",
    "df.Comfort_and_Convenience.sample(20)\n"
   ]
  },
  {
   "cell_type": "code",
   "execution_count": 74,
   "metadata": {},
   "outputs": [
    {
     "data": {
      "text/plain": [
       "Business    10627\n",
       "Premium      8331\n",
       "Standard     5171\n",
       "Name: Comfort_and_Convenience, dtype: int64"
      ]
     },
     "execution_count": 74,
     "metadata": {},
     "output_type": "execute_result"
    }
   ],
   "source": [
    "counts = df['Comfort_and_Convenience'].str.count(',') + 1\n",
    "\n",
    "df['Comfort_and_Convenience'] = counts.apply(lambda x: 'Premium' if x > 15 else ('Business' if 5 <= x <= 15 else 'Standard'))\n",
    "df['Comfort_and_Convenience'].value_counts()"
   ]
  },
  {
   "cell_type": "code",
   "execution_count": 75,
   "metadata": {},
   "outputs": [
    {
     "data": {
      "text/plain": [
       "'Android Auto, Apple CarPlay, Bluetooth, CD player, Digital cockpit, Digital radio, Hands-free equipment, Induction charging for smartphones, Integrated music streaming, MP3, On-board computer, Radio, Sound system, Television, USB, WLAN / WiFi hotspot'"
      ]
     },
     "execution_count": 75,
     "metadata": {},
     "output_type": "execute_result"
    }
   ],
   "source": [
    "# Entertainment and Media\n",
    "\n",
    "# Fix the name\n",
    "df.rename(columns={'Entertainment and Media': 'Entertainment_and_Media'}, inplace=True)\n",
    "\n",
    "df[\"Entertainment_and_Media\"] = [\",\".join(item) if type(item) == list else item for item in df[\"Entertainment_and_Media\"]]\n",
    "\n",
    "idx = df.Entertainment_and_Media.str.len().idxmax() \n",
    "df['Entertainment_and_Media'][idx]\n"
   ]
  },
  {
   "cell_type": "code",
   "execution_count": 76,
   "metadata": {},
   "outputs": [
    {
     "data": {
      "text/plain": [
       "NaN                                                                                                                                                                      3666\n",
       "Bluetooth, USB                                                                                                                                                            750\n",
       "Bluetooth                                                                                                                                                                 640\n",
       "On-board computer                                                                                                                                                         519\n",
       "CD player, On-board computer, Radio                                                                                                                                       481\n",
       "                                                                                                                                                                         ... \n",
       "Android Auto, Apple CarPlay, Bluetooth, Digital cockpit, Hands-free equipment, Induction charging for smartphones, Integrated music streaming, On-board computer, USB       1\n",
       "Bluetooth, Hands-free equipment, Induction charging for smartphones, MP3, On-board computer, Radio, Sound system, USB                                                       1\n",
       "Apple CarPlay, Bluetooth, CD player, Digital cockpit, MP3, Radio, Sound system                                                                                              1\n",
       "Android Auto, Apple CarPlay, Bluetooth, Digital cockpit, MP3, USB                                                                                                           1\n",
       "Hands-free equipment, Integrated music streaming, On-board computer, Radio, USB                                                                                             1\n",
       "Name: Entertainment_and_Media, Length: 1764, dtype: int64"
      ]
     },
     "execution_count": 76,
     "metadata": {},
     "output_type": "execute_result"
    }
   ],
   "source": [
    "# Entertainment and Media\n",
    "df[\"Entertainment_and_Media\"].replace(to_replace=\"NaN\", value=np.nan)\n",
    "df.Entertainment_and_Media.value_counts(dropna=False)"
   ]
  },
  {
   "cell_type": "code",
   "execution_count": 77,
   "metadata": {},
   "outputs": [
    {
     "data": {
      "text/plain": [
       "Standard    11550\n",
       "Business     7551\n",
       "Premium      5028\n",
       "Name: Entertainment_and_Media, dtype: int64"
      ]
     },
     "execution_count": 77,
     "metadata": {},
     "output_type": "execute_result"
    }
   ],
   "source": [
    "# Entertainment and Media\n",
    "counts = df['Entertainment_and_Media'].str.count(',') + 1\n",
    "df['Entertainment_and_Media'] = counts.apply(lambda x: 'Premium' if x > 8 else ('Business' if 5 <= x <= 8 else 'Standard'))\n",
    "\n",
    "df['Entertainment_and_Media'].value_counts()"
   ]
  },
  {
   "cell_type": "code",
   "execution_count": 78,
   "metadata": {},
   "outputs": [
    {
     "data": {
      "text/plain": [
       "Isofix                                                                                                                                                                                                                                                                                                                                                                                                                378\n",
       "ABS, Central door lock, Driver-side airbag, Electronic stability control, Immobilizer, Isofix, Passenger-side airbag, Power steering, Side airbag                                                                                                                                                                                                                                                                     328\n",
       "ABS, Central door lock, Driver-side airbag, Immobilizer, Isofix, Passenger-side airbag, Power steering, Side airbag, Traction control                                                                                                                                                                                                                                                                                 123\n",
       "ABS, Central door lock, Driver-side airbag, Fog lights, Isofix, Passenger-side airbag, Power steering, Side airbag                                                                                                                                                                                                                                                                                                     98\n",
       "ABS, Fog lights, Side airbag                                                                                                                                                                                                                                                                                                                                                                                           95\n",
       "                                                                                                                                                                                                                                                                                                                                                                                                                     ... \n",
       "ABS, Adaptive headlights, Central door lock, Central door lock with remote control, Driver-side airbag, Electronic stability control, Fog lights, High beam assist, Isofix, Passenger-side airbag, Power steering, Side airbag                                                                                                                                                                                          1\n",
       "ABS, Central door lock, Central door lock with remote control, Driver drowsiness detection, Driver-side airbag, Electronic stability control, Fog lights, Head airbag, High beam assist, Immobilizer, Isofix, LED Daytime Running Lights, Lane departure warning system, Passenger-side airbag, Power steering, Side airbag, Speed limit control system, Tire pressure monitoring system, Traffic sign recognition      1\n",
       "ABS, Central door lock, Driver-side airbag, Electronic stability control, Emergency brake assistant, Emergency system, LED Daytime Running Lights, LED Headlights, Lane departure warning system, Passenger-side airbag, Power steering, Side airbag, Tire pressure monitoring system, Traction control                                                                                                                 1\n",
       "ABS, Central door lock, Central door lock with remote control, Driver-side airbag, Electronic stability control, Emergency brake assistant, Head airbag, Immobilizer, Isofix, LED Daytime Running Lights, Passenger-side airbag, Power steering, Side airbag, Speed limit control system, Tire pressure monitoring system, Traction control                                                                             1\n",
       "Adaptive Cruise Control, Adaptive headlights, Daytime running lights, Emergency system, LED Daytime Running Lights, LED Headlights, Lane departure warning system, Speed limit control system, Tire pressure monitoring system                                                                                                                                                                                          1\n",
       "Name: Safety_and_Security, Length: 11209, dtype: int64"
      ]
     },
     "execution_count": 78,
     "metadata": {},
     "output_type": "execute_result"
    }
   ],
   "source": [
    "# Safety and Security\n",
    "\n",
    "# Fix the name\n",
    "df.rename(columns={'Safety and Security': 'Safety_and_Security'}, inplace=True)\n",
    "\n",
    "df[\"Safety_and_Security\"] = [\",\".join(item) if type(item) == list else item for item in df[\"Safety_and_Security\"]]\n",
    "\n",
    "df.Safety_and_Security.value_counts()\n"
   ]
  },
  {
   "cell_type": "code",
   "execution_count": 79,
   "metadata": {},
   "outputs": [
    {
     "data": {
      "text/plain": [
       "Premium     14889\n",
       "Standard     5420\n",
       "Business     3820\n",
       "Name: Safety_and_Security, dtype: int64"
      ]
     },
     "execution_count": 79,
     "metadata": {},
     "output_type": "execute_result"
    }
   ],
   "source": [
    "counts = df['Safety_and_Security'].str.count(',') + 1\n",
    "\n",
    "df['Safety_and_Security'] = counts.apply(lambda x: 'Premium' if x > 10 else ('Business' if 8 <= x <= 10 else 'Standard'))\n",
    "df.Safety_and_Security.value_counts(dropna=True)"
   ]
  },
  {
   "cell_type": "code",
   "execution_count": 80,
   "metadata": {},
   "outputs": [
    {
     "data": {
      "text/plain": [
       "0                                                      NaN\n",
       "3                                              Sport seats\n",
       "4                                                      NaN\n",
       "5        Alloy wheels (17), Catalytic Converter, Emerge...\n",
       "6                                                      NaN\n",
       "                               ...                        \n",
       "29472                                         Alloy wheels\n",
       "29474                                         Alloy wheels\n",
       "29475                     Alloy wheels (16), Trailer hitch\n",
       "29476    Alloy wheels, Automatically dimming interior m...\n",
       "29477    Alloy wheels (18), Automatically dimming inter...\n",
       "Name: Extras, Length: 24129, dtype: object"
      ]
     },
     "execution_count": 80,
     "metadata": {},
     "output_type": "execute_result"
    }
   ],
   "source": [
    "# Extras\n",
    "\n",
    "df['Extras'] = df['Extras'].dropna().apply(lambda x: str(x) if isinstance(x, object) else x)\n",
    "df['Extras'] = df['Extras'].dropna().replace('\\[','',regex=True)\n",
    "df['Extras'] = df['Extras'].dropna().replace('\\]','',regex=True)\n",
    "df['Extras'] = df['Extras'].dropna().replace('\\'','',regex=True)\n",
    "df['Extras'] = df['Extras'].dropna().replace('\\\"','',regex=True)\n",
    "df['Extras']\n"
   ]
  },
  {
   "cell_type": "code",
   "execution_count": 81,
   "metadata": {},
   "outputs": [
    {
     "data": {
      "text/plain": [
       "'All season tyres, Alloy wheels (20), Ambient lighting, Automatically dimming interior mirror, Awning, Cargo barrier, Electronic parking brake, Emergency tyre, Emergency tyre repair kit, Handicapped enabled, Headlight washer system, Roof rack, Shift paddles, Ski bag, Spare tyre, Spoiler, Sport package, Sport seats, Sport suspension, Steel wheels, Summer tyres, Touch screen, Trailer hitch, Voice Control, Winter package, Winter tyres'"
      ]
     },
     "execution_count": 81,
     "metadata": {},
     "output_type": "execute_result"
    }
   ],
   "source": [
    "# Extras\n",
    "idx1 = df.Extras.str.len().idxmax() \n",
    "df['Extras'][idx1]"
   ]
  },
  {
   "cell_type": "code",
   "execution_count": 82,
   "metadata": {},
   "outputs": [
    {
     "data": {
      "text/plain": [
       "NaN                                                                                                                                                                                                                         4089\n",
       "Alloy wheels                                                                                                                                                                                                                3045\n",
       "Alloy wheels, Roof rack                                                                                                                                                                                                      356\n",
       "Alloy wheels, Sport seats                                                                                                                                                                                                    295\n",
       "Alloy wheels, Touch screen                                                                                                                                                                                                   225\n",
       "                                                                                                                                                                                                                            ... \n",
       "Alloy wheels, Ambient lighting, Automatically dimming interior mirror, Cargo barrier, Electronic parking brake, Spare tyre, Summer tyres, Touch screen, Voice Control                                                          1\n",
       "Alloy wheels, Ambient lighting, Automatically dimming interior mirror, Electronic parking brake, Shift paddles, Spare tyre, Touch screen, Voice Control                                                                        1\n",
       "Ambient lighting, Automatically dimming interior mirror, Roof rack, Touch screen                                                                                                                                               1\n",
       "Alloy wheels, Ambient lighting, Automatically dimming interior mirror, Catalytic Converter, E10-enabled, Emergency tyre repair kit, Shift paddles, Sport seats, Summer tyres, Touch screen, Trailer hitch, Voice Control       1\n",
       "All season tyres, Ambient lighting, Cargo barrier, Emergency tyre repair kit, Spare tyre, Steel wheels, Voice Control, Winter package, Winter tyres                                                                            1\n",
       "Name: Extras, Length: 8102, dtype: int64"
      ]
     },
     "execution_count": 82,
     "metadata": {},
     "output_type": "execute_result"
    }
   ],
   "source": [
    "df[\"Extras\"].replace(to_replace=\"NaN\", value=np.nan)\n",
    "df.Extras.value_counts(dropna=False)"
   ]
  },
  {
   "cell_type": "code",
   "execution_count": 83,
   "metadata": {},
   "outputs": [
    {
     "data": {
      "text/plain": [
       "Standard    15397\n",
       "Business     8557\n",
       "Premium       175\n",
       "Name: Extras, dtype: int64"
      ]
     },
     "execution_count": 83,
     "metadata": {},
     "output_type": "execute_result"
    }
   ],
   "source": [
    "counts = df['Extras'].str.count(',') + 1\n",
    "\n",
    "df['Extras'] = counts.apply(lambda x: 'Premium' if x > 15 else ('Business' if 5 <= x <= 15 else 'Standard'))\n",
    "df['Extras'].value_counts()"
   ]
  },
  {
   "cell_type": "code",
   "execution_count": 84,
   "metadata": {},
   "outputs": [],
   "source": [
    "# Empty weight\n",
    "\n",
    "# Fix the name\n",
    "df.rename(columns={'Empty weight': 'Empty_Weight'}, inplace=True)\n",
    "\n",
    "df.drop('Empty_Weight', inplace=True, axis=1)\n"
   ]
  },
  {
   "cell_type": "code",
   "execution_count": 85,
   "metadata": {},
   "outputs": [],
   "source": [
    "# Model code\n",
    "\n",
    "# Fix the name\n",
    "df.rename(columns={'Model code': 'Model_Code'}, inplace=True)\n",
    "\n",
    "df.drop('Model_Code', inplace=True, axis=1)\n"
   ]
  },
  {
   "cell_type": "code",
   "execution_count": 86,
   "metadata": {},
   "outputs": [
    {
     "data": {
      "text/plain": [
       "NaN        13970\n",
       "New         5098\n",
       "08/2023      221\n",
       "05/2023      218\n",
       "06/2023      212\n",
       "           ...  \n",
       "08/2019        1\n",
       "01/2021        1\n",
       "03/2026        1\n",
       "02/2026        1\n",
       "03/2021        1\n",
       "Name: General_Inspection, Length: 81, dtype: int64"
      ]
     },
     "execution_count": 86,
     "metadata": {},
     "output_type": "execute_result"
    }
   ],
   "source": [
    "# General inspection\n",
    "\n",
    "# Fix the name\n",
    "df.rename(columns={'General inspection': 'General_Inspection'}, inplace=True)\n",
    "\n",
    "df.General_Inspection.value_counts(dropna = False)\n"
   ]
  },
  {
   "cell_type": "code",
   "execution_count": 87,
   "metadata": {},
   "outputs": [
    {
     "data": {
      "text/plain": [
       "NaN        13970\n",
       "01/2026     5100\n",
       "08/2023      221\n",
       "05/2023      218\n",
       "06/2023      212\n",
       "           ...  \n",
       "08/2013        1\n",
       "01/2021        1\n",
       "03/2026        1\n",
       "02/2026        1\n",
       "03/2021        1\n",
       "Name: General_Inspection, Length: 80, dtype: int64"
      ]
     },
     "execution_count": 87,
     "metadata": {},
     "output_type": "execute_result"
    }
   ],
   "source": [
    "df[\"General_Inspection\"][df[\"General_Inspection\"]==\"New\"] = \"01/2026\"\n",
    "df.General_Inspection.value_counts(dropna = False)"
   ]
  },
  {
   "cell_type": "code",
   "execution_count": 88,
   "metadata": {},
   "outputs": [
    {
     "data": {
      "text/plain": [
       "NaN     13970\n",
       "2026     5117\n",
       "2023     2182\n",
       "2024     1587\n",
       "2025      706\n",
       "2022      508\n",
       "2021       38\n",
       "2020       12\n",
       "2019        6\n",
       "2017        2\n",
       "2013        1\n",
       "Name: General_Inspection_Year, dtype: int64"
      ]
     },
     "execution_count": 88,
     "metadata": {},
     "output_type": "execute_result"
    }
   ],
   "source": [
    "General_Inspection =  df['General_Inspection'].str.split(\"/\", n=1, expand=True)\n",
    "General_Inspection.columns = [\"General_Inspection_Month\", \"General_Inspection_Year\"]\n",
    "df[\"General_Inspection_Year\"] = General_Inspection[\"General_Inspection_Year\"]\n",
    "\n",
    "df[\"General_Inspection_Year\"].value_counts(dropna = False)"
   ]
  },
  {
   "cell_type": "code",
   "execution_count": 89,
   "metadata": {},
   "outputs": [],
   "source": [
    "# General_Inspection\n",
    "#Let's drop it. We don't need anymore\n",
    "df.drop('General_Inspection', inplace=True, axis=1)"
   ]
  },
  {
   "cell_type": "code",
   "execution_count": 90,
   "metadata": {},
   "outputs": [
    {
     "data": {
      "text/plain": [
       "2026    16064\n",
       "2023     3998\n",
       "2025     1913\n",
       "2024     1587\n",
       "2022      508\n",
       "2021       38\n",
       "2020       12\n",
       "2019        6\n",
       "2017        2\n",
       "2013        1\n",
       "Name: General_Inspection_Year, dtype: int64"
      ]
     },
     "execution_count": 90,
     "metadata": {},
     "output_type": "execute_result"
    }
   ],
   "source": [
    "for group1 in list(df[\"Age\"].unique()):\n",
    "    cond = (df[\"Age\"]== group1)\n",
    "    mode = list(df[cond][\"General_Inspection_Year\"].mode())\n",
    "    if mode != []:\n",
    "        df.loc[cond, \"General_Inspection_Year\"] = df.loc[cond, \"General_Inspection_Year\"].fillna(df[cond][\"General_Inspection_Year\"].mode()[0])\n",
    "    else:\n",
    "        df.loc[cond, \"General_Inspection_Year\"] = df.loc[cond, \"General_Inspection_Year\"].fillna(df[\"General_Inspection_Year\"].mode()[0])\n",
    "        \n",
    "df[\"General_Inspection_Year\"].value_counts(dropna = False)"
   ]
  },
  {
   "cell_type": "code",
   "execution_count": 91,
   "metadata": {},
   "outputs": [
    {
     "name": "stdout",
     "output_type": "stream",
     "text": [
      "<class 'pandas.core.frame.DataFrame'>\n",
      "Int64Index: 24129 entries, 0 to 29477\n",
      "Data columns (total 50 columns):\n",
      " #   Column                   Non-Null Count  Dtype   \n",
      "---  ------                   --------------  -----   \n",
      " 0   Make_Model               24129 non-null  object  \n",
      " 1   Make                     24129 non-null  object  \n",
      " 2   Model                    24129 non-null  object  \n",
      " 3   Location                 24129 non-null  object  \n",
      " 4   Price                    24129 non-null  float64 \n",
      " 5   Body_Type                24129 non-null  object  \n",
      " 6   Type                     24129 non-null  object  \n",
      " 7   Doors                    24129 non-null  object  \n",
      " 8   Mileage                  24129 non-null  int32   \n",
      " 9   Gearbox                  24129 non-null  object  \n",
      " 10  Fuel_Type                24129 non-null  object  \n",
      " 11  Colour                   24129 non-null  string  \n",
      " 12  Metallic                 24129 non-null  int64   \n",
      " 13  Dealer                   24129 non-null  int64   \n",
      " 14  Seats                    24129 non-null  object  \n",
      " 15  Power                    24129 non-null  object  \n",
      " 16  Engine_Size              24129 non-null  float64 \n",
      " 17  CO2_Emissions            24129 non-null  object  \n",
      " 18  Four_Wheel_Drive         24129 non-null  int64   \n",
      " 19  Cylinders                24129 non-null  float64 \n",
      " 20  Fuel_Consumption         24129 non-null  float64 \n",
      " 21  Comfort_and_Convenience  24129 non-null  object  \n",
      " 22  Entertainment_and_Media  24129 non-null  object  \n",
      " 23  Safety_and_Security      24129 non-null  object  \n",
      " 24  Extras                   24129 non-null  object  \n",
      " 25  Full service history     10659 non-null  object  \n",
      " 26  Non-smoker vehicle       9743 non-null   object  \n",
      " 27  Emission class           15312 non-null  object  \n",
      " 28  Emissions sticker        8100 non-null   object  \n",
      " 29  Upholstery colour        11938 non-null  object  \n",
      " 30  Upholstery               15554 non-null  object  \n",
      " 31  Production date          5065 non-null   float64 \n",
      " 32  Previous owner           11706 non-null  object  \n",
      " 33  Other fuel types         1807 non-null   object  \n",
      " 34  Power consumption        308 non-null    object  \n",
      " 35  Energy efficiency class  6699 non-null   object  \n",
      " 36  CO2 efficiency           6699 non-null   object  \n",
      " 37  Fuel consumption WLTP    76 non-null     object  \n",
      " 38  CO2 emissions WLTP       84 non-null     object  \n",
      " 39  Available from           243 non-null    object  \n",
      " 40  Taxi or rental car       320 non-null    object  \n",
      " 41  Availability             250 non-null    object  \n",
      " 42  Last timing belt change  322 non-null    object  \n",
      " 43  Electric Range WLTP      7 non-null      object  \n",
      " 44  Power consumption WLTP   7 non-null      object  \n",
      " 45  Battery Ownership        5 non-null      object  \n",
      " 46  Warranty_Category        24129 non-null  category\n",
      " 47  First_Registration_Year  24129 non-null  int16   \n",
      " 48  Age                      24129 non-null  int16   \n",
      " 49  General_Inspection_Year  24129 non-null  object  \n",
      "dtypes: category(1), float64(5), int16(2), int32(1), int64(3), object(37), string(1)\n",
      "memory usage: 9.4+ MB\n"
     ]
    }
   ],
   "source": [
    "# Last service \n",
    "\n",
    "# Fix the name\n",
    "df.rename(columns={'Last service': 'Last_Service'}, inplace=True)\n",
    "\n",
    "df.drop('Last_Service', inplace=True, axis=1)\n",
    "\n",
    "df.info()\n",
    "\n"
   ]
  },
  {
   "cell_type": "code",
   "execution_count": 92,
   "metadata": {},
   "outputs": [
    {
     "data": {
      "text/plain": [
       "0    13470\n",
       "1    10659\n",
       "Name: Full_Service_History, dtype: int64"
      ]
     },
     "execution_count": 92,
     "metadata": {},
     "output_type": "execute_result"
    }
   ],
   "source": [
    "# Full service history\n",
    "\n",
    "# Fix the name\n",
    "df.rename(columns={'Full service history': 'Full_Service_History'}, inplace=True)\n",
    "\n",
    "df.Full_Service_History = df.Full_Service_History.apply(lambda x: 1 if (x == 'Yes') else 0)\n",
    "df.Full_Service_History.value_counts()\n"
   ]
  },
  {
   "cell_type": "code",
   "execution_count": 93,
   "metadata": {},
   "outputs": [
    {
     "data": {
      "text/plain": [
       "0    14386\n",
       "1     9743\n",
       "Name: Non_Smoker_Vehicle, dtype: int64"
      ]
     },
     "execution_count": 93,
     "metadata": {},
     "output_type": "execute_result"
    }
   ],
   "source": [
    "# Non-smoker\n",
    "\n",
    "# Fix the name\n",
    "df.rename(columns={'Non-smoker vehicle': 'Non_Smoker_Vehicle'}, inplace=True)\n",
    "\n",
    "df.Non_Smoker_Vehicle = df.Non_Smoker_Vehicle.apply(lambda x: 1 if (x == 'Yes') else 0)\n",
    "df.Non_Smoker_Vehicle.value_counts()\n",
    "#\n",
    "# TODO\n",
    "#"
   ]
  },
  {
   "cell_type": "code",
   "execution_count": 94,
   "metadata": {},
   "outputs": [
    {
     "data": {
      "text/plain": [
       "NaN             8817\n",
       "Euro 6          5966\n",
       "Euro 6d-TEMP    2994\n",
       "Euro 6d         2346\n",
       "Euro 5          2216\n",
       "Euro 4          1415\n",
       "Euro 3           220\n",
       "Euro 6c          123\n",
       "Euro 1            28\n",
       "Euro 2             4\n",
       "Name: Emission_Class, dtype: int64"
      ]
     },
     "execution_count": 94,
     "metadata": {},
     "output_type": "execute_result"
    }
   ],
   "source": [
    "# Emission class\n",
    "\n",
    "# Fix the name\n",
    "df.rename(columns={'Emission class': 'Emission_Class'}, inplace=True)\n",
    "df.Emission_Class.value_counts(dropna = False)\n"
   ]
  },
  {
   "cell_type": "code",
   "execution_count": 95,
   "metadata": {},
   "outputs": [
    {
     "data": {
      "text/plain": [
       "6.0    11429\n",
       "NaN     8817\n",
       "5.0     2216\n",
       "4.0     1415\n",
       "3.0      220\n",
       "1.0       28\n",
       "2.0        4\n",
       "Name: Emission_Class, dtype: int64"
      ]
     },
     "execution_count": 95,
     "metadata": {},
     "output_type": "execute_result"
    }
   ],
   "source": [
    "# Emission class\n",
    "\n",
    "df.Emission_Class=df.Emission_Class.dropna().apply(lambda x: \"Euro 6\" if \"6\" in x else x)\n",
    "df.Emission_Class=df.Emission_Class.dropna().apply(lambda x: float(x[-1]))\n",
    "df.Emission_Class.value_counts(dropna = False)\n"
   ]
  },
  {
   "cell_type": "code",
   "execution_count": 96,
   "metadata": {},
   "outputs": [
    {
     "data": {
      "text/plain": [
       "6.0    19373\n",
       "5.0     2696\n",
       "4.0     1777\n",
       "3.0      249\n",
       "1.0       28\n",
       "2.0        6\n",
       "Name: Emission_Class, dtype: int64"
      ]
     },
     "execution_count": 96,
     "metadata": {},
     "output_type": "execute_result"
    }
   ],
   "source": [
    "for group1 in list(df[\"Make_Model\"].unique()):\n",
    "    cond = (df[\"Make_Model\"]==group1)\n",
    "    mode = list(df[cond][\"Emission_Class\"].mode())\n",
    "    if mode != []:\n",
    "        df.loc[cond, \"Emission_Class\"] = df.loc[cond, \"Emission_Class\"].fillna(df[cond][\"Emission_Class\"].mode()[0])\n",
    "    else:\n",
    "        df.loc[cond, \"Emission_Class\"] = df.loc[cond, \"Emission_Class\"].fillna(df[\"Emission_Class\"].mode()[0])\n",
    "        \n",
    "df.Emission_Class.value_counts()        \n",
    "        \n",
    "        "
   ]
  },
  {
   "cell_type": "code",
   "execution_count": 97,
   "metadata": {},
   "outputs": [],
   "source": [
    "# Emissions sticker -drop\n",
    "\n",
    "# Fix the name\n",
    "df.rename(columns={'Emissions sticker': 'Emissions_Sticker'}, inplace=True)\n",
    "\n",
    "df.drop('Emissions_Sticker', inplace=True, axis=1)\n"
   ]
  },
  {
   "cell_type": "code",
   "execution_count": 98,
   "metadata": {},
   "outputs": [],
   "source": [
    "# Upholstery colour \n",
    "\n",
    "# Fix the name\n",
    "df.rename(columns={'Upholstery colour': 'Upholstery_Colour'}, inplace=True)\n",
    "\n",
    "df.drop('Upholstery_Colour', inplace=True, axis=1)"
   ]
  },
  {
   "cell_type": "code",
   "execution_count": 99,
   "metadata": {},
   "outputs": [
    {
     "data": {
      "text/plain": [
       "NaN             8575\n",
       "Cloth           8103\n",
       "Full leather    3676\n",
       "Part leather    2473\n",
       "alcantara        637\n",
       "Other            522\n",
       "Velour           143\n",
       "Name: Upholstery, dtype: int64"
      ]
     },
     "execution_count": 99,
     "metadata": {},
     "output_type": "execute_result"
    }
   ],
   "source": [
    "# Upholstery deri 1 digerleri 0\n",
    "df.Upholstery.value_counts(dropna=False)"
   ]
  },
  {
   "cell_type": "code",
   "execution_count": 100,
   "metadata": {},
   "outputs": [
    {
     "data": {
      "text/plain": [
       "0    17980\n",
       "1     6149\n",
       "Name: Upholstery, dtype: int64"
      ]
     },
     "execution_count": 100,
     "metadata": {},
     "output_type": "execute_result"
    }
   ],
   "source": [
    "#Function to make upholstery 1 and 0\n",
    "leather = ['Full leather', 'Part leather']\n",
    "def upholsterytype(x):\n",
    "    if x in leather:\n",
    "        return 1\n",
    "    else:\n",
    "        return 0\n",
    "    \n",
    "#apply the function to the upholstery\n",
    "df['Upholstery'] = df.Upholstery.apply(upholsterytype)\n",
    "df['Upholstery'].value_counts(dropna=False)"
   ]
  },
  {
   "cell_type": "code",
   "execution_count": 101,
   "metadata": {},
   "outputs": [],
   "source": [
    "# Production date\n",
    "\n",
    "# Fix the name\n",
    "df.rename(columns={'Production date': 'Production_Date'}, inplace=True)\n",
    "\n",
    "df.drop('Production_Date', inplace=True, axis=1)"
   ]
  },
  {
   "cell_type": "code",
   "execution_count": 102,
   "metadata": {},
   "outputs": [
    {
     "data": {
      "text/plain": [
       "NaN    12423\n",
       "1       8305\n",
       "2       2712\n",
       "3        498\n",
       "4        110\n",
       "5         43\n",
       "6         16\n",
       "7         10\n",
       "8          6\n",
       "9          3\n",
       "10         1\n",
       "14         1\n",
       "12         1\n",
       "Name: Previous_Owner, dtype: int64"
      ]
     },
     "execution_count": 102,
     "metadata": {},
     "output_type": "execute_result"
    }
   ],
   "source": [
    "# Previous owner\n",
    "\n",
    "# Fix the name\n",
    "df.rename(columns={'Previous owner': 'Previous_Owner'}, inplace=True)\n",
    "\n",
    "df['Previous_Owner'] = df['Previous_Owner'].astype(str).str.split(\" \").str[-1]\n",
    "df['Previous_Owner'] = df['Previous_Owner'].str.replace(\"']\",\"\")\n",
    "df['Previous_Owner'] = df['Previous_Owner'].str.replace(\"'\",\"\")\n",
    "\n",
    "df['Previous_Owner'].replace('nan', np.NaN, inplace=True)\n",
    "\n",
    "df.Previous_Owner.value_counts(dropna = False)\n"
   ]
  },
  {
   "cell_type": "code",
   "execution_count": 103,
   "metadata": {},
   "outputs": [],
   "source": [
    "for group1 in list(df[\"Age\"].unique()):\n",
    "    cond = (df[\"Age\"]==group1)\n",
    "    mode = list(df[cond][\"Previous_Owner\"].mode())\n",
    "    if mode != []:\n",
    "        df.loc[cond, \"Previous_Owner\"] = df.loc[cond, \"Previous_Owner\"].fillna(df[cond][\"Previous_Owner\"].mode()[0])\n",
    "    else:\n",
    "        df.loc[cond, \"Previous_Owner\"] = df.loc[cond, \"Previous_Owner\"].fillna(df[\"Previous_Owner\"].mode()[0])"
   ]
  },
  {
   "cell_type": "code",
   "execution_count": 104,
   "metadata": {},
   "outputs": [
    {
     "data": {
      "text/plain": [
       "Electricity    1803\n",
       "Hydogen           4\n",
       "Name: Electric_Car, dtype: int64"
      ]
     },
     "execution_count": 104,
     "metadata": {},
     "output_type": "execute_result"
    }
   ],
   "source": [
    "# Electric car\n",
    "# Fix the name\n",
    "df.rename(columns={'Other fuel types': 'Electric_Car'}, inplace=True)\n",
    "\n",
    "# Other fuel types converted to Electric_Car\n",
    "df.Electric_Car.value_counts()"
   ]
  },
  {
   "cell_type": "code",
   "execution_count": 105,
   "metadata": {},
   "outputs": [
    {
     "data": {
      "text/plain": [
       "0    22326\n",
       "1     1803\n",
       "Name: Electric_Car, dtype: int64"
      ]
     },
     "execution_count": 105,
     "metadata": {},
     "output_type": "execute_result"
    }
   ],
   "source": [
    "df.Electric_Car= df.Electric_Car.apply(lambda x: 1 if str(x)==\"Electricity\" else 0)\n",
    "\n",
    "df.Electric_Car.value_counts()"
   ]
  },
  {
   "cell_type": "code",
   "execution_count": 106,
   "metadata": {},
   "outputs": [],
   "source": [
    "# Power consumption drop\n",
    "\n",
    "# Fix the name\n",
    "df.rename(columns={'Power consumption': 'Power_Consumption'}, inplace=True)\n",
    "df.drop('Power_Consumption', inplace=True, axis=1)\n"
   ]
  },
  {
   "cell_type": "code",
   "execution_count": 107,
   "metadata": {},
   "outputs": [
    {
     "data": {
      "text/plain": [
       "NaN     17430\n",
       "B        1991\n",
       "A        1588\n",
       "C        1025\n",
       "A+        905\n",
       "D         518\n",
       "A+++      213\n",
       "E         191\n",
       "G         110\n",
       "F          95\n",
       "A++        63\n",
       "Name: Energy_Efficiency_Class, dtype: int64"
      ]
     },
     "execution_count": 107,
     "metadata": {},
     "output_type": "execute_result"
    }
   ],
   "source": [
    "# Energy efficiency class drop Nan 0 olacak sekilde A+++ dan baslayip asagiya inen rakamlar verelim\n",
    "\n",
    "# Fix the name\n",
    "df.rename(columns={'Energy efficiency class': 'Energy_Efficiency_Class'}, inplace=True)\n",
    "df.Energy_Efficiency_Class.value_counts(dropna = False)\n"
   ]
  },
  {
   "cell_type": "code",
   "execution_count": 108,
   "metadata": {},
   "outputs": [
    {
     "data": {
      "text/plain": [
       "B       8737\n",
       "A       5389\n",
       "C       3938\n",
       "A+      2126\n",
       "D       1598\n",
       "G        692\n",
       "E        681\n",
       "A+++     410\n",
       "F        287\n",
       "A++      271\n",
       "Name: Energy_Efficiency_Class, dtype: int64"
      ]
     },
     "execution_count": 108,
     "metadata": {},
     "output_type": "execute_result"
    }
   ],
   "source": [
    "for group1 in list(df[\"Make_Model\"].unique()):\n",
    "    cond = (df[\"Make_Model\"]==group1)\n",
    "    mode = list(df[cond][\"Energy_Efficiency_Class\"].mode())\n",
    "    if mode != []:\n",
    "        df.loc[cond, \"Energy_Efficiency_Class\"] = df.loc[cond, \"Energy_Efficiency_Class\"].fillna(df[cond][\"Energy_Efficiency_Class\"].mode()[0])\n",
    "    else:\n",
    "        df.loc[cond, \"Energy_Efficiency_Class\"] = df.loc[cond, \"Energy_Efficiency_Class\"].fillna(df[\"Energy_Efficiency_Class\"].mode()[0])\n",
    "        \n",
    "df.Energy_Efficiency_Class.value_counts()   \n"
   ]
  },
  {
   "cell_type": "code",
   "execution_count": 109,
   "metadata": {},
   "outputs": [
    {
     "data": {
      "text/plain": [
       "6     8737\n",
       "7     5389\n",
       "5     3938\n",
       "8     2126\n",
       "4     1598\n",
       "1      692\n",
       "3      681\n",
       "10     410\n",
       "2      287\n",
       "9      271\n",
       "Name: Energy_Efficiency_Class, dtype: int64"
      ]
     },
     "execution_count": 109,
     "metadata": {},
     "output_type": "execute_result"
    }
   ],
   "source": [
    "\n",
    "def Energy_Efficiency_Class_type(x):\n",
    "    if x == 'A+++':\n",
    "        return 10\n",
    "    elif x == 'A++':\n",
    "        return 9\n",
    "    elif x == 'A+':\n",
    "        return 8\n",
    "    elif x == 'A':\n",
    "        return 7\n",
    "    elif x == 'B':\n",
    "        return 6\n",
    "    elif x == 'C':\n",
    "        return 5\n",
    "    elif x == 'D':\n",
    "        return 4\n",
    "    elif x == 'E':\n",
    "        return 3\n",
    "    elif x == 'F':\n",
    "        return 2\n",
    "    else:\n",
    "        return 1\n",
    "\n",
    "    \n",
    "df['Energy_Efficiency_Class'] = df.Energy_Efficiency_Class.apply(Energy_Efficiency_Class_type)\n",
    "df['Energy_Efficiency_Class'].value_counts(dropna=False)"
   ]
  },
  {
   "cell_type": "code",
   "execution_count": 110,
   "metadata": {},
   "outputs": [],
   "source": [
    "# CO2 efficiency\n",
    "\n",
    "# Fix the name\n",
    "df.rename(columns={'CO2 efficiency': 'CO2_Efficiency'}, inplace=True)\n",
    "\n",
    "df.drop('CO2_Efficiency', inplace=True, axis=1)\n"
   ]
  },
  {
   "cell_type": "code",
   "execution_count": 111,
   "metadata": {},
   "outputs": [],
   "source": [
    "# Fuel consumption WLTP\n",
    "\n",
    "# Fix the name\n",
    "df.rename(columns={'Fuel consumption WLTP': 'Fuel_Consumption_WLTP'}, inplace=True)\n",
    "\n",
    "df.drop('Fuel_Consumption_WLTP', inplace=True, axis=1)\n"
   ]
  },
  {
   "cell_type": "code",
   "execution_count": 112,
   "metadata": {},
   "outputs": [],
   "source": [
    "# CO2 emissions WLTP Drop\n",
    "\n",
    "# Fix the name\n",
    "df.rename(columns={'CO2 emissions WLTP': 'CO2_Emissions_WLTP'}, inplace=True)\n",
    "\n",
    "df.drop('CO2_Emissions_WLTP', inplace=True, axis=1)\n"
   ]
  },
  {
   "cell_type": "code",
   "execution_count": 113,
   "metadata": {},
   "outputs": [],
   "source": [
    "# Available from\n",
    "\n",
    "# Fix the name\n",
    "df.rename(columns={'Available from': 'Available_From'}, inplace=True)\n",
    "df.drop('Available_From', inplace=True, axis=1)\n"
   ]
  },
  {
   "cell_type": "code",
   "execution_count": 114,
   "metadata": {},
   "outputs": [
    {
     "data": {
      "text/plain": [
       "0    23809\n",
       "1      320\n",
       "Name: Taxi_or_Rental_Car, dtype: int64"
      ]
     },
     "execution_count": 114,
     "metadata": {},
     "output_type": "execute_result"
    }
   ],
   "source": [
    "# Taxi or rental car\n",
    "\n",
    "# Fix the name\n",
    "df.rename(columns={'Taxi or rental car': 'Taxi_or_Rental_Car'}, inplace=True)\n",
    "\n",
    "df['Taxi_or_Rental_Car'] = df['Taxi_or_Rental_Car'].apply(lambda x: 1 if str(x)==\"Yes\" else 0)\n",
    "df.Taxi_or_Rental_Car.value_counts()\n"
   ]
  },
  {
   "cell_type": "code",
   "execution_count": 115,
   "metadata": {},
   "outputs": [],
   "source": [
    "# Availability\n",
    "\n",
    "df.drop('Availability', inplace=True, axis=1)\n"
   ]
  },
  {
   "cell_type": "code",
   "execution_count": 116,
   "metadata": {},
   "outputs": [],
   "source": [
    "# Last timing belt change\n",
    "\n",
    "# Fix the name\n",
    "df.rename(columns={'Last timing belt change': 'Last_Timing_Belt_Change'}, inplace=True)\n",
    "\n",
    "df.drop('Last_Timing_Belt_Change', inplace=True, axis=1)\n"
   ]
  },
  {
   "cell_type": "code",
   "execution_count": 117,
   "metadata": {},
   "outputs": [],
   "source": [
    "# Electric Range WLTP\n",
    "\n",
    "# Fix the name\n",
    "df.rename(columns={'Electric Range WLTP': 'Electric_Range_WLTP'}, inplace=True)\n",
    "\n",
    "df.drop('Electric_Range_WLTP', inplace=True, axis=1)\n"
   ]
  },
  {
   "cell_type": "code",
   "execution_count": 118,
   "metadata": {},
   "outputs": [],
   "source": [
    "# Power consumption WLTP\n",
    "\n",
    "# Fix the name\n",
    "df.rename(columns={'Power consumption WLTP': 'Power_consumption_WLTP'}, inplace=True)\n",
    "\n",
    "df.drop('Power_consumption_WLTP', inplace=True, axis=1)\n"
   ]
  },
  {
   "cell_type": "code",
   "execution_count": 119,
   "metadata": {},
   "outputs": [],
   "source": [
    "# Battery Ownership\n",
    "\n",
    "# Fix the name\n",
    "df.rename(columns={'Battery Ownership': 'Battery_Ownership'}, inplace=True)\n",
    "df.drop('Battery_Ownership', inplace=True, axis=1)\n"
   ]
  },
  {
   "cell_type": "code",
   "execution_count": null,
   "metadata": {},
   "outputs": [],
   "source": []
  },
  {
   "cell_type": "code",
   "execution_count": null,
   "metadata": {},
   "outputs": [],
   "source": []
  },
  {
   "cell_type": "code",
   "execution_count": null,
   "metadata": {},
   "outputs": [],
   "source": []
  },
  {
   "cell_type": "code",
   "execution_count": null,
   "metadata": {},
   "outputs": [],
   "source": []
  },
  {
   "cell_type": "code",
   "execution_count": null,
   "metadata": {},
   "outputs": [],
   "source": []
  },
  {
   "cell_type": "code",
   "execution_count": null,
   "metadata": {},
   "outputs": [],
   "source": []
  },
  {
   "cell_type": "code",
   "execution_count": null,
   "metadata": {},
   "outputs": [],
   "source": []
  },
  {
   "cell_type": "code",
   "execution_count": null,
   "metadata": {},
   "outputs": [],
   "source": []
  },
  {
   "cell_type": "code",
   "execution_count": null,
   "metadata": {},
   "outputs": [],
   "source": []
  },
  {
   "cell_type": "code",
   "execution_count": null,
   "metadata": {},
   "outputs": [],
   "source": []
  },
  {
   "cell_type": "code",
   "execution_count": null,
   "metadata": {},
   "outputs": [],
   "source": []
  },
  {
   "cell_type": "code",
   "execution_count": null,
   "metadata": {},
   "outputs": [],
   "source": []
  },
  {
   "cell_type": "code",
   "execution_count": null,
   "metadata": {},
   "outputs": [],
   "source": []
  },
  {
   "cell_type": "code",
   "execution_count": null,
   "metadata": {},
   "outputs": [],
   "source": []
  },
  {
   "cell_type": "code",
   "execution_count": null,
   "metadata": {},
   "outputs": [],
   "source": []
  },
  {
   "cell_type": "markdown",
   "metadata": {
    "id": "uGeKSdYds1MD"
   },
   "source": [
    "# PART- 2 `( Handling With Missing Vales )`"
   ]
  },
  {
   "cell_type": "code",
   "execution_count": null,
   "metadata": {
    "id": "WDZnqBhbs1ME"
   },
   "outputs": [],
   "source": []
  },
  {
   "cell_type": "markdown",
   "metadata": {
    "id": "gPPdPAu5s1ME"
   },
   "source": [
    "# PART- 3 `( Handling With Outliers )`"
   ]
  },
  {
   "cell_type": "code",
   "execution_count": null,
   "metadata": {
    "id": "Is4HLjHWs1MF"
   },
   "outputs": [],
   "source": []
  },
  {
   "cell_type": "markdown",
   "metadata": {
    "id": "EKxmsgfts1MG"
   },
   "source": [
    "# Final Step (Checking final situation of data via graphs)"
   ]
  },
  {
   "cell_type": "code",
   "execution_count": null,
   "metadata": {
    "id": "8mgL_Bd0s1MG"
   },
   "outputs": [],
   "source": []
  },
  {
   "cell_type": "markdown",
   "metadata": {
    "id": "2PgUVPoes1MH"
   },
   "source": [
    "## Export dataframe to csv file (without dummy)"
   ]
  },
  {
   "cell_type": "code",
   "execution_count": 120,
   "metadata": {
    "id": "Byg_o2ZMs1MI"
   },
   "outputs": [],
   "source": [
    "df.to_csv(\"G2 - final_scout_not_dummy.csv\", index=False)"
   ]
  },
  {
   "cell_type": "markdown",
   "metadata": {
    "id": "hrw9hr-3s1MJ"
   },
   "source": [
    "# Dummy Operation"
   ]
  },
  {
   "cell_type": "code",
   "execution_count": null,
   "metadata": {
    "id": "faDyWTC9s1MJ"
   },
   "outputs": [],
   "source": []
  },
  {
   "cell_type": "markdown",
   "metadata": {
    "id": "DUOdihlqs1MJ"
   },
   "source": [
    "## Export dataframe to csv file (dummy)"
   ]
  },
  {
   "cell_type": "code",
   "execution_count": 121,
   "metadata": {
    "id": "IJT7Yl1Us1MK"
   },
   "outputs": [],
   "source": [
    "#df_dummied.to_csv(\"final_scout_dummy.csv\", index=False)"
   ]
  }
 ],
 "metadata": {
  "colab": {
   "name": "DAwPy-Capstone_Project_(AutoScout)_Student.ipynb",
   "provenance": []
  },
  "kernelspec": {
   "display_name": "Python 3 (ipykernel)",
   "language": "python",
   "name": "python3"
  },
  "language_info": {
   "codemirror_mode": {
    "name": "ipython",
    "version": 3
   },
   "file_extension": ".py",
   "mimetype": "text/x-python",
   "name": "python",
   "nbconvert_exporter": "python",
   "pygments_lexer": "ipython3",
   "version": "3.9.13"
  },
  "toc": {
   "base_numbering": 1,
   "nav_menu": {},
   "number_sections": false,
   "sideBar": true,
   "skip_h1_title": false,
   "title_cell": "Table of Contents",
   "title_sidebar": "Contents",
   "toc_cell": false,
   "toc_position": {},
   "toc_section_display": true,
   "toc_window_display": false
  }
 },
 "nbformat": 4,
 "nbformat_minor": 1
}
